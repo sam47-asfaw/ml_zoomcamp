{
 "cells": [
  {
   "cell_type": "code",
   "execution_count": 1,
   "id": "eacff6c3",
   "metadata": {},
   "outputs": [],
   "source": [
    "import pandas as pd\n",
    "import numpy as np\n",
    "import matplotlib.pyplot as plt\n",
    "%matplotlib inline\n",
    "import seaborn as sns"
   ]
  },
  {
   "cell_type": "code",
   "execution_count": null,
   "id": "2a17aa40",
   "metadata": {},
   "outputs": [],
   "source": []
  },
  {
   "cell_type": "markdown",
   "id": "a5cd3e3d",
   "metadata": {},
   "source": [
    "#### Data Acquisition"
   ]
  },
  {
   "cell_type": "code",
   "execution_count": 2,
   "id": "9d05189b",
   "metadata": {},
   "outputs": [
    {
     "data": {
      "text/html": [
       "<div>\n",
       "<style scoped>\n",
       "    .dataframe tbody tr th:only-of-type {\n",
       "        vertical-align: middle;\n",
       "    }\n",
       "\n",
       "    .dataframe tbody tr th {\n",
       "        vertical-align: top;\n",
       "    }\n",
       "\n",
       "    .dataframe thead th {\n",
       "        text-align: right;\n",
       "    }\n",
       "</style>\n",
       "<table border=\"1\" class=\"dataframe\">\n",
       "  <thead>\n",
       "    <tr style=\"text-align: right;\">\n",
       "      <th></th>\n",
       "      <th>Make</th>\n",
       "      <th>Model</th>\n",
       "      <th>Year</th>\n",
       "      <th>Engine Fuel Type</th>\n",
       "      <th>Engine HP</th>\n",
       "      <th>Engine Cylinders</th>\n",
       "      <th>Transmission Type</th>\n",
       "      <th>Driven_Wheels</th>\n",
       "      <th>Number of Doors</th>\n",
       "      <th>Market Category</th>\n",
       "      <th>Vehicle Size</th>\n",
       "      <th>Vehicle Style</th>\n",
       "      <th>highway MPG</th>\n",
       "      <th>city mpg</th>\n",
       "      <th>Popularity</th>\n",
       "      <th>MSRP</th>\n",
       "    </tr>\n",
       "  </thead>\n",
       "  <tbody>\n",
       "    <tr>\n",
       "      <th>0</th>\n",
       "      <td>BMW</td>\n",
       "      <td>1 Series M</td>\n",
       "      <td>2011</td>\n",
       "      <td>premium unleaded (required)</td>\n",
       "      <td>335.0</td>\n",
       "      <td>6.0</td>\n",
       "      <td>MANUAL</td>\n",
       "      <td>rear wheel drive</td>\n",
       "      <td>2.0</td>\n",
       "      <td>Factory Tuner,Luxury,High-Performance</td>\n",
       "      <td>Compact</td>\n",
       "      <td>Coupe</td>\n",
       "      <td>26</td>\n",
       "      <td>19</td>\n",
       "      <td>3916</td>\n",
       "      <td>46135</td>\n",
       "    </tr>\n",
       "    <tr>\n",
       "      <th>1</th>\n",
       "      <td>BMW</td>\n",
       "      <td>1 Series</td>\n",
       "      <td>2011</td>\n",
       "      <td>premium unleaded (required)</td>\n",
       "      <td>300.0</td>\n",
       "      <td>6.0</td>\n",
       "      <td>MANUAL</td>\n",
       "      <td>rear wheel drive</td>\n",
       "      <td>2.0</td>\n",
       "      <td>Luxury,Performance</td>\n",
       "      <td>Compact</td>\n",
       "      <td>Convertible</td>\n",
       "      <td>28</td>\n",
       "      <td>19</td>\n",
       "      <td>3916</td>\n",
       "      <td>40650</td>\n",
       "    </tr>\n",
       "    <tr>\n",
       "      <th>2</th>\n",
       "      <td>BMW</td>\n",
       "      <td>1 Series</td>\n",
       "      <td>2011</td>\n",
       "      <td>premium unleaded (required)</td>\n",
       "      <td>300.0</td>\n",
       "      <td>6.0</td>\n",
       "      <td>MANUAL</td>\n",
       "      <td>rear wheel drive</td>\n",
       "      <td>2.0</td>\n",
       "      <td>Luxury,High-Performance</td>\n",
       "      <td>Compact</td>\n",
       "      <td>Coupe</td>\n",
       "      <td>28</td>\n",
       "      <td>20</td>\n",
       "      <td>3916</td>\n",
       "      <td>36350</td>\n",
       "    </tr>\n",
       "    <tr>\n",
       "      <th>3</th>\n",
       "      <td>BMW</td>\n",
       "      <td>1 Series</td>\n",
       "      <td>2011</td>\n",
       "      <td>premium unleaded (required)</td>\n",
       "      <td>230.0</td>\n",
       "      <td>6.0</td>\n",
       "      <td>MANUAL</td>\n",
       "      <td>rear wheel drive</td>\n",
       "      <td>2.0</td>\n",
       "      <td>Luxury,Performance</td>\n",
       "      <td>Compact</td>\n",
       "      <td>Coupe</td>\n",
       "      <td>28</td>\n",
       "      <td>18</td>\n",
       "      <td>3916</td>\n",
       "      <td>29450</td>\n",
       "    </tr>\n",
       "    <tr>\n",
       "      <th>4</th>\n",
       "      <td>BMW</td>\n",
       "      <td>1 Series</td>\n",
       "      <td>2011</td>\n",
       "      <td>premium unleaded (required)</td>\n",
       "      <td>230.0</td>\n",
       "      <td>6.0</td>\n",
       "      <td>MANUAL</td>\n",
       "      <td>rear wheel drive</td>\n",
       "      <td>2.0</td>\n",
       "      <td>Luxury</td>\n",
       "      <td>Compact</td>\n",
       "      <td>Convertible</td>\n",
       "      <td>28</td>\n",
       "      <td>18</td>\n",
       "      <td>3916</td>\n",
       "      <td>34500</td>\n",
       "    </tr>\n",
       "  </tbody>\n",
       "</table>\n",
       "</div>"
      ],
      "text/plain": [
       "  Make       Model  Year             Engine Fuel Type  Engine HP  \\\n",
       "0  BMW  1 Series M  2011  premium unleaded (required)      335.0   \n",
       "1  BMW    1 Series  2011  premium unleaded (required)      300.0   \n",
       "2  BMW    1 Series  2011  premium unleaded (required)      300.0   \n",
       "3  BMW    1 Series  2011  premium unleaded (required)      230.0   \n",
       "4  BMW    1 Series  2011  premium unleaded (required)      230.0   \n",
       "\n",
       "   Engine Cylinders Transmission Type     Driven_Wheels  Number of Doors  \\\n",
       "0               6.0            MANUAL  rear wheel drive              2.0   \n",
       "1               6.0            MANUAL  rear wheel drive              2.0   \n",
       "2               6.0            MANUAL  rear wheel drive              2.0   \n",
       "3               6.0            MANUAL  rear wheel drive              2.0   \n",
       "4               6.0            MANUAL  rear wheel drive              2.0   \n",
       "\n",
       "                         Market Category Vehicle Size Vehicle Style  \\\n",
       "0  Factory Tuner,Luxury,High-Performance      Compact         Coupe   \n",
       "1                     Luxury,Performance      Compact   Convertible   \n",
       "2                Luxury,High-Performance      Compact         Coupe   \n",
       "3                     Luxury,Performance      Compact         Coupe   \n",
       "4                                 Luxury      Compact   Convertible   \n",
       "\n",
       "   highway MPG  city mpg  Popularity   MSRP  \n",
       "0           26        19        3916  46135  \n",
       "1           28        19        3916  40650  \n",
       "2           28        20        3916  36350  \n",
       "3           28        18        3916  29450  \n",
       "4           28        18        3916  34500  "
      ]
     },
     "execution_count": 2,
     "metadata": {},
     "output_type": "execute_result"
    }
   ],
   "source": [
    "df = pd.read_csv('data.csv')\n",
    "df.head(5)"
   ]
  },
  {
   "cell_type": "code",
   "execution_count": null,
   "id": "03c20261",
   "metadata": {},
   "outputs": [],
   "source": []
  },
  {
   "cell_type": "markdown",
   "id": "02c188a5",
   "metadata": {},
   "source": [
    "### Exploratory Data Analysis"
   ]
  },
  {
   "cell_type": "code",
   "execution_count": 3,
   "id": "bc45a6a5",
   "metadata": {},
   "outputs": [
    {
     "data": {
      "text/plain": [
       "Index(['Make', 'Model', 'Year', 'Engine Fuel Type', 'Engine HP',\n",
       "       'Engine Cylinders', 'Transmission Type', 'Driven_Wheels',\n",
       "       'Number of Doors', 'Market Category', 'Vehicle Size', 'Vehicle Style',\n",
       "       'highway MPG', 'city mpg', 'Popularity', 'MSRP'],\n",
       "      dtype='object')"
      ]
     },
     "execution_count": 3,
     "metadata": {},
     "output_type": "execute_result"
    }
   ],
   "source": [
    "df.columns"
   ]
  },
  {
   "cell_type": "code",
   "execution_count": 4,
   "id": "edfb9627",
   "metadata": {},
   "outputs": [
    {
     "data": {
      "text/plain": [
       "Index(['make', 'model', 'year', 'engine_fuel_type', 'engine_hp',\n",
       "       'engine_cylinders', 'transmission_type', 'driven_wheels',\n",
       "       'number_of_doors', 'market_category', 'vehicle_size', 'vehicle_style',\n",
       "       'highway_mpg', 'city_mpg', 'popularity', 'msrp'],\n",
       "      dtype='object')"
      ]
     },
     "execution_count": 4,
     "metadata": {},
     "output_type": "execute_result"
    }
   ],
   "source": [
    "# make the indexes of the column names uniform\n",
    "df.columns = df.columns.str.lower().str.replace(' ', '_')\n",
    "df.columns\n"
   ]
  },
  {
   "cell_type": "code",
   "execution_count": null,
   "id": "bcdd1593",
   "metadata": {},
   "outputs": [],
   "source": []
  },
  {
   "cell_type": "code",
   "execution_count": 5,
   "id": "2bb2a8e9",
   "metadata": {},
   "outputs": [
    {
     "data": {
      "text/plain": [
       "['make',\n",
       " 'model',\n",
       " 'engine_fuel_type',\n",
       " 'transmission_type',\n",
       " 'driven_wheels',\n",
       " 'market_category',\n",
       " 'vehicle_size',\n",
       " 'vehicle_style']"
      ]
     },
     "execution_count": 5,
     "metadata": {},
     "output_type": "execute_result"
    }
   ],
   "source": [
    "# make the string values of rows uniform\n",
    "strings = list(df.select_dtypes('object'))\n",
    "strings"
   ]
  },
  {
   "cell_type": "code",
   "execution_count": 6,
   "id": "36512374",
   "metadata": {},
   "outputs": [],
   "source": [
    "for col in strings:\n",
    "    df[strings].apply(lambda x : x.str.lower().str.replace(' ','_'))"
   ]
  },
  {
   "cell_type": "code",
   "execution_count": 108,
   "id": "e4db4fc2",
   "metadata": {},
   "outputs": [
    {
     "data": {
      "text/html": [
       "<div>\n",
       "<style scoped>\n",
       "    .dataframe tbody tr th:only-of-type {\n",
       "        vertical-align: middle;\n",
       "    }\n",
       "\n",
       "    .dataframe tbody tr th {\n",
       "        vertical-align: top;\n",
       "    }\n",
       "\n",
       "    .dataframe thead th {\n",
       "        text-align: right;\n",
       "    }\n",
       "</style>\n",
       "<table border=\"1\" class=\"dataframe\">\n",
       "  <thead>\n",
       "    <tr style=\"text-align: right;\">\n",
       "      <th></th>\n",
       "      <th>make</th>\n",
       "      <th>model</th>\n",
       "      <th>year</th>\n",
       "      <th>engine_fuel_type</th>\n",
       "      <th>engine_hp</th>\n",
       "      <th>engine_cylinders</th>\n",
       "      <th>transmission_type</th>\n",
       "      <th>driven_wheels</th>\n",
       "      <th>number_of_doors</th>\n",
       "      <th>market_category</th>\n",
       "      <th>vehicle_size</th>\n",
       "      <th>vehicle_style</th>\n",
       "      <th>highway_mpg</th>\n",
       "      <th>city_mpg</th>\n",
       "      <th>popularity</th>\n",
       "      <th>msrp</th>\n",
       "    </tr>\n",
       "  </thead>\n",
       "  <tbody>\n",
       "    <tr>\n",
       "      <th>0</th>\n",
       "      <td>BMW</td>\n",
       "      <td>1 Series M</td>\n",
       "      <td>2011</td>\n",
       "      <td>premium unleaded (required)</td>\n",
       "      <td>335.0</td>\n",
       "      <td>6.0</td>\n",
       "      <td>MANUAL</td>\n",
       "      <td>rear wheel drive</td>\n",
       "      <td>2.0</td>\n",
       "      <td>Factory Tuner,Luxury,High-Performance</td>\n",
       "      <td>Compact</td>\n",
       "      <td>Coupe</td>\n",
       "      <td>26</td>\n",
       "      <td>19</td>\n",
       "      <td>3916</td>\n",
       "      <td>46135</td>\n",
       "    </tr>\n",
       "    <tr>\n",
       "      <th>1</th>\n",
       "      <td>BMW</td>\n",
       "      <td>1 Series</td>\n",
       "      <td>2011</td>\n",
       "      <td>premium unleaded (required)</td>\n",
       "      <td>300.0</td>\n",
       "      <td>6.0</td>\n",
       "      <td>MANUAL</td>\n",
       "      <td>rear wheel drive</td>\n",
       "      <td>2.0</td>\n",
       "      <td>Luxury,Performance</td>\n",
       "      <td>Compact</td>\n",
       "      <td>Convertible</td>\n",
       "      <td>28</td>\n",
       "      <td>19</td>\n",
       "      <td>3916</td>\n",
       "      <td>40650</td>\n",
       "    </tr>\n",
       "    <tr>\n",
       "      <th>2</th>\n",
       "      <td>BMW</td>\n",
       "      <td>1 Series</td>\n",
       "      <td>2011</td>\n",
       "      <td>premium unleaded (required)</td>\n",
       "      <td>300.0</td>\n",
       "      <td>6.0</td>\n",
       "      <td>MANUAL</td>\n",
       "      <td>rear wheel drive</td>\n",
       "      <td>2.0</td>\n",
       "      <td>Luxury,High-Performance</td>\n",
       "      <td>Compact</td>\n",
       "      <td>Coupe</td>\n",
       "      <td>28</td>\n",
       "      <td>20</td>\n",
       "      <td>3916</td>\n",
       "      <td>36350</td>\n",
       "    </tr>\n",
       "    <tr>\n",
       "      <th>3</th>\n",
       "      <td>BMW</td>\n",
       "      <td>1 Series</td>\n",
       "      <td>2011</td>\n",
       "      <td>premium unleaded (required)</td>\n",
       "      <td>230.0</td>\n",
       "      <td>6.0</td>\n",
       "      <td>MANUAL</td>\n",
       "      <td>rear wheel drive</td>\n",
       "      <td>2.0</td>\n",
       "      <td>Luxury,Performance</td>\n",
       "      <td>Compact</td>\n",
       "      <td>Coupe</td>\n",
       "      <td>28</td>\n",
       "      <td>18</td>\n",
       "      <td>3916</td>\n",
       "      <td>29450</td>\n",
       "    </tr>\n",
       "    <tr>\n",
       "      <th>4</th>\n",
       "      <td>BMW</td>\n",
       "      <td>1 Series</td>\n",
       "      <td>2011</td>\n",
       "      <td>premium unleaded (required)</td>\n",
       "      <td>230.0</td>\n",
       "      <td>6.0</td>\n",
       "      <td>MANUAL</td>\n",
       "      <td>rear wheel drive</td>\n",
       "      <td>2.0</td>\n",
       "      <td>Luxury</td>\n",
       "      <td>Compact</td>\n",
       "      <td>Convertible</td>\n",
       "      <td>28</td>\n",
       "      <td>18</td>\n",
       "      <td>3916</td>\n",
       "      <td>34500</td>\n",
       "    </tr>\n",
       "    <tr>\n",
       "      <th>5</th>\n",
       "      <td>BMW</td>\n",
       "      <td>1 Series</td>\n",
       "      <td>2012</td>\n",
       "      <td>premium unleaded (required)</td>\n",
       "      <td>230.0</td>\n",
       "      <td>6.0</td>\n",
       "      <td>MANUAL</td>\n",
       "      <td>rear wheel drive</td>\n",
       "      <td>2.0</td>\n",
       "      <td>Luxury,Performance</td>\n",
       "      <td>Compact</td>\n",
       "      <td>Coupe</td>\n",
       "      <td>28</td>\n",
       "      <td>18</td>\n",
       "      <td>3916</td>\n",
       "      <td>31200</td>\n",
       "    </tr>\n",
       "    <tr>\n",
       "      <th>6</th>\n",
       "      <td>BMW</td>\n",
       "      <td>1 Series</td>\n",
       "      <td>2012</td>\n",
       "      <td>premium unleaded (required)</td>\n",
       "      <td>300.0</td>\n",
       "      <td>6.0</td>\n",
       "      <td>MANUAL</td>\n",
       "      <td>rear wheel drive</td>\n",
       "      <td>2.0</td>\n",
       "      <td>Luxury,Performance</td>\n",
       "      <td>Compact</td>\n",
       "      <td>Convertible</td>\n",
       "      <td>26</td>\n",
       "      <td>17</td>\n",
       "      <td>3916</td>\n",
       "      <td>44100</td>\n",
       "    </tr>\n",
       "    <tr>\n",
       "      <th>7</th>\n",
       "      <td>BMW</td>\n",
       "      <td>1 Series</td>\n",
       "      <td>2012</td>\n",
       "      <td>premium unleaded (required)</td>\n",
       "      <td>300.0</td>\n",
       "      <td>6.0</td>\n",
       "      <td>MANUAL</td>\n",
       "      <td>rear wheel drive</td>\n",
       "      <td>2.0</td>\n",
       "      <td>Luxury,High-Performance</td>\n",
       "      <td>Compact</td>\n",
       "      <td>Coupe</td>\n",
       "      <td>28</td>\n",
       "      <td>20</td>\n",
       "      <td>3916</td>\n",
       "      <td>39300</td>\n",
       "    </tr>\n",
       "    <tr>\n",
       "      <th>8</th>\n",
       "      <td>BMW</td>\n",
       "      <td>1 Series</td>\n",
       "      <td>2012</td>\n",
       "      <td>premium unleaded (required)</td>\n",
       "      <td>230.0</td>\n",
       "      <td>6.0</td>\n",
       "      <td>MANUAL</td>\n",
       "      <td>rear wheel drive</td>\n",
       "      <td>2.0</td>\n",
       "      <td>Luxury</td>\n",
       "      <td>Compact</td>\n",
       "      <td>Convertible</td>\n",
       "      <td>28</td>\n",
       "      <td>18</td>\n",
       "      <td>3916</td>\n",
       "      <td>36900</td>\n",
       "    </tr>\n",
       "    <tr>\n",
       "      <th>9</th>\n",
       "      <td>BMW</td>\n",
       "      <td>1 Series</td>\n",
       "      <td>2013</td>\n",
       "      <td>premium unleaded (required)</td>\n",
       "      <td>230.0</td>\n",
       "      <td>6.0</td>\n",
       "      <td>MANUAL</td>\n",
       "      <td>rear wheel drive</td>\n",
       "      <td>2.0</td>\n",
       "      <td>Luxury</td>\n",
       "      <td>Compact</td>\n",
       "      <td>Convertible</td>\n",
       "      <td>27</td>\n",
       "      <td>18</td>\n",
       "      <td>3916</td>\n",
       "      <td>37200</td>\n",
       "    </tr>\n",
       "    <tr>\n",
       "      <th>10</th>\n",
       "      <td>BMW</td>\n",
       "      <td>1 Series</td>\n",
       "      <td>2013</td>\n",
       "      <td>premium unleaded (required)</td>\n",
       "      <td>300.0</td>\n",
       "      <td>6.0</td>\n",
       "      <td>MANUAL</td>\n",
       "      <td>rear wheel drive</td>\n",
       "      <td>2.0</td>\n",
       "      <td>Luxury,High-Performance</td>\n",
       "      <td>Compact</td>\n",
       "      <td>Coupe</td>\n",
       "      <td>28</td>\n",
       "      <td>20</td>\n",
       "      <td>3916</td>\n",
       "      <td>39600</td>\n",
       "    </tr>\n",
       "  </tbody>\n",
       "</table>\n",
       "</div>"
      ],
      "text/plain": [
       "   make       model  year             engine_fuel_type  engine_hp  \\\n",
       "0   BMW  1 Series M  2011  premium unleaded (required)      335.0   \n",
       "1   BMW    1 Series  2011  premium unleaded (required)      300.0   \n",
       "2   BMW    1 Series  2011  premium unleaded (required)      300.0   \n",
       "3   BMW    1 Series  2011  premium unleaded (required)      230.0   \n",
       "4   BMW    1 Series  2011  premium unleaded (required)      230.0   \n",
       "5   BMW    1 Series  2012  premium unleaded (required)      230.0   \n",
       "6   BMW    1 Series  2012  premium unleaded (required)      300.0   \n",
       "7   BMW    1 Series  2012  premium unleaded (required)      300.0   \n",
       "8   BMW    1 Series  2012  premium unleaded (required)      230.0   \n",
       "9   BMW    1 Series  2013  premium unleaded (required)      230.0   \n",
       "10  BMW    1 Series  2013  premium unleaded (required)      300.0   \n",
       "\n",
       "    engine_cylinders transmission_type     driven_wheels  number_of_doors  \\\n",
       "0                6.0            MANUAL  rear wheel drive              2.0   \n",
       "1                6.0            MANUAL  rear wheel drive              2.0   \n",
       "2                6.0            MANUAL  rear wheel drive              2.0   \n",
       "3                6.0            MANUAL  rear wheel drive              2.0   \n",
       "4                6.0            MANUAL  rear wheel drive              2.0   \n",
       "5                6.0            MANUAL  rear wheel drive              2.0   \n",
       "6                6.0            MANUAL  rear wheel drive              2.0   \n",
       "7                6.0            MANUAL  rear wheel drive              2.0   \n",
       "8                6.0            MANUAL  rear wheel drive              2.0   \n",
       "9                6.0            MANUAL  rear wheel drive              2.0   \n",
       "10               6.0            MANUAL  rear wheel drive              2.0   \n",
       "\n",
       "                          market_category vehicle_size vehicle_style  \\\n",
       "0   Factory Tuner,Luxury,High-Performance      Compact         Coupe   \n",
       "1                      Luxury,Performance      Compact   Convertible   \n",
       "2                 Luxury,High-Performance      Compact         Coupe   \n",
       "3                      Luxury,Performance      Compact         Coupe   \n",
       "4                                  Luxury      Compact   Convertible   \n",
       "5                      Luxury,Performance      Compact         Coupe   \n",
       "6                      Luxury,Performance      Compact   Convertible   \n",
       "7                 Luxury,High-Performance      Compact         Coupe   \n",
       "8                                  Luxury      Compact   Convertible   \n",
       "9                                  Luxury      Compact   Convertible   \n",
       "10                Luxury,High-Performance      Compact         Coupe   \n",
       "\n",
       "    highway_mpg  city_mpg  popularity   msrp  \n",
       "0            26        19        3916  46135  \n",
       "1            28        19        3916  40650  \n",
       "2            28        20        3916  36350  \n",
       "3            28        18        3916  29450  \n",
       "4            28        18        3916  34500  \n",
       "5            28        18        3916  31200  \n",
       "6            26        17        3916  44100  \n",
       "7            28        20        3916  39300  \n",
       "8            28        18        3916  36900  \n",
       "9            27        18        3916  37200  \n",
       "10           28        20        3916  39600  "
      ]
     },
     "execution_count": 108,
     "metadata": {},
     "output_type": "execute_result"
    }
   ],
   "source": [
    "df.head(11)"
   ]
  },
  {
   "cell_type": "code",
   "execution_count": 8,
   "id": "ba1ff8d4",
   "metadata": {},
   "outputs": [
    {
     "data": {
      "text/plain": [
       "make                  object\n",
       "model                 object\n",
       "year                   int64\n",
       "engine_fuel_type      object\n",
       "engine_hp            float64\n",
       "engine_cylinders     float64\n",
       "transmission_type     object\n",
       "driven_wheels         object\n",
       "number_of_doors      float64\n",
       "market_category       object\n",
       "vehicle_size          object\n",
       "vehicle_style         object\n",
       "highway_mpg            int64\n",
       "city_mpg               int64\n",
       "popularity             int64\n",
       "msrp                   int64\n",
       "dtype: object"
      ]
     },
     "execution_count": 8,
     "metadata": {},
     "output_type": "execute_result"
    }
   ],
   "source": [
    "df.dtypes"
   ]
  },
  {
   "cell_type": "code",
   "execution_count": null,
   "id": "c3e5416d",
   "metadata": {},
   "outputs": [],
   "source": []
  },
  {
   "cell_type": "code",
   "execution_count": 9,
   "id": "d34d9d86",
   "metadata": {},
   "outputs": [
    {
     "name": "stdout",
     "output_type": "stream",
     "text": [
      "make\n",
      "['BMW' 'Audi' 'FIAT' 'Mercedes-Benz' 'Chrysler']\n",
      "48\n",
      "\n",
      "model\n",
      "['1 Series M' '1 Series' '100' '124 Spider' '190-Class']\n",
      "915\n",
      "\n",
      "year\n",
      "[2011 2012 2013 1992 1993]\n",
      "28\n",
      "\n",
      "engine_fuel_type\n",
      "['premium unleaded (required)' 'regular unleaded'\n",
      " 'premium unleaded (recommended)' 'flex-fuel (unleaded/E85)' 'diesel']\n",
      "10\n",
      "\n",
      "engine_hp\n",
      "[335. 300. 230. 320. 172.]\n",
      "356\n",
      "\n",
      "engine_cylinders\n",
      "[ 6.  4.  5.  8. 12.]\n",
      "9\n",
      "\n",
      "transmission_type\n",
      "['MANUAL' 'AUTOMATIC' 'AUTOMATED_MANUAL' 'DIRECT_DRIVE' 'UNKNOWN']\n",
      "5\n",
      "\n",
      "driven_wheels\n",
      "['rear wheel drive' 'front wheel drive' 'all wheel drive'\n",
      " 'four wheel drive']\n",
      "4\n",
      "\n",
      "number_of_doors\n",
      "[ 2.  4.  3. nan]\n",
      "3\n",
      "\n",
      "market_category\n",
      "['Factory Tuner,Luxury,High-Performance' 'Luxury,Performance'\n",
      " 'Luxury,High-Performance' 'Luxury' 'Performance']\n",
      "71\n",
      "\n",
      "vehicle_size\n",
      "['Compact' 'Midsize' 'Large']\n",
      "3\n",
      "\n",
      "vehicle_style\n",
      "['Coupe' 'Convertible' 'Sedan' 'Wagon' '4dr Hatchback']\n",
      "16\n",
      "\n",
      "highway_mpg\n",
      "[26 28 27 25 24]\n",
      "59\n",
      "\n",
      "city_mpg\n",
      "[19 20 18 17 16]\n",
      "69\n",
      "\n",
      "popularity\n",
      "[3916 3105  819  617 1013]\n",
      "48\n",
      "\n",
      "msrp\n",
      "[46135 40650 36350 29450 34500]\n",
      "6049\n",
      "\n"
     ]
    }
   ],
   "source": [
    "for col in df.columns:\n",
    "    print(col)\n",
    "    print(df[col].unique()[:5])\n",
    "    print(df[col].nunique())\n",
    "    print()"
   ]
  },
  {
   "cell_type": "code",
   "execution_count": 10,
   "id": "1d5e7112",
   "metadata": {},
   "outputs": [
    {
     "data": {
      "text/plain": [
       "<Axes: xlabel='msrp', ylabel='Count'>"
      ]
     },
     "execution_count": 10,
     "metadata": {},
     "output_type": "execute_result"
    },
    {
     "data": {
      "image/png": "[encoded data removed]",
      "text/plain": [
       "<Figure size 640x480 with 1 Axes>"
      ]
     },
     "metadata": {},
     "output_type": "display_data"
    }
   ],
   "source": [
    "#visualize the MRSP price\n",
    "sns.histplot(df.msrp[df['msrp'] < 100000] , bins = 50)"
   ]
  },
  {
   "cell_type": "code",
   "execution_count": 11,
   "id": "4f4b50dc",
   "metadata": {},
   "outputs": [
    {
     "data": {
      "text/plain": [
       "0        10.739349\n",
       "1        10.612779\n",
       "2        10.500977\n",
       "3        10.290483\n",
       "4        10.448744\n",
       "           ...    \n",
       "11909    10.739024\n",
       "11910    10.945018\n",
       "11911    10.832122\n",
       "11912    10.838031\n",
       "11913    10.274913\n",
       "Name: msrp, Length: 11914, dtype: float64"
      ]
     },
     "execution_count": 11,
     "metadata": {},
     "output_type": "execute_result"
    }
   ],
   "source": [
    "#From the graph we can see it is a tail end graph\n",
    "# Apply Logarithmic function to avoid confusing the ML model(remove the tail-end of graph)\n",
    "log_price = np.log1p(df['msrp'])\n",
    "log_price"
   ]
  },
  {
   "cell_type": "code",
   "execution_count": 12,
   "id": "307ce51e",
   "metadata": {},
   "outputs": [
    {
     "data": {
      "text/plain": [
       "<Axes: xlabel='msrp', ylabel='Count'>"
      ]
     },
     "execution_count": 12,
     "metadata": {},
     "output_type": "execute_result"
    },
    {
     "data": {
      "image/png": "[encoded data removed]",
      "text/plain": [
       "<Figure size 640x480 with 1 Axes>"
      ]
     },
     "metadata": {},
     "output_type": "display_data"
    }
   ],
   "source": [
    "sns.histplot(log_price, bins= 50)"
   ]
  },
  {
   "cell_type": "code",
   "execution_count": 13,
   "id": "0a542cfe",
   "metadata": {},
   "outputs": [],
   "source": [
    "#Now the graph resembels a bell curve"
   ]
  },
  {
   "cell_type": "markdown",
   "id": "1744fcb7",
   "metadata": {},
   "source": [
    "#### Check & clean missing values"
   ]
  },
  {
   "cell_type": "code",
   "execution_count": 14,
   "id": "8730d0e8",
   "metadata": {},
   "outputs": [
    {
     "data": {
      "text/plain": [
       "make                    0\n",
       "model                   0\n",
       "year                    0\n",
       "engine_fuel_type        3\n",
       "engine_hp              69\n",
       "engine_cylinders       30\n",
       "transmission_type       0\n",
       "driven_wheels           0\n",
       "number_of_doors         6\n",
       "market_category      3742\n",
       "vehicle_size            0\n",
       "vehicle_style           0\n",
       "highway_mpg             0\n",
       "city_mpg                0\n",
       "popularity              0\n",
       "msrp                    0\n",
       "dtype: int64"
      ]
     },
     "execution_count": 14,
     "metadata": {},
     "output_type": "execute_result"
    }
   ],
   "source": [
    "df.isna().sum()"
   ]
  },
  {
   "cell_type": "code",
   "execution_count": null,
   "id": "b966fb02",
   "metadata": {},
   "outputs": [],
   "source": []
  },
  {
   "cell_type": "markdown",
   "id": "4429822c",
   "metadata": {},
   "source": [
    "### Setting Up Validation Framework \n",
    "###### Train -- Validation -- Test\n",
    "###### 60% of data for Train \n",
    "###### 20% of data for Validation\n",
    "###### 20% of data for Testing"
   ]
  },
  {
   "cell_type": "code",
   "execution_count": 15,
   "id": "14e75775",
   "metadata": {},
   "outputs": [
    {
     "data": {
      "text/plain": [
       "11914"
      ]
     },
     "execution_count": 15,
     "metadata": {},
     "output_type": "execute_result"
    }
   ],
   "source": [
    "# size of data\n",
    "size = len(df)\n",
    "size"
   ]
  },
  {
   "cell_type": "code",
   "execution_count": 16,
   "id": "8de2521c",
   "metadata": {},
   "outputs": [
    {
     "data": {
      "text/plain": [
       "(2382, 2382, 7150)"
      ]
     },
     "execution_count": 16,
     "metadata": {},
     "output_type": "execute_result"
    }
   ],
   "source": [
    "#calculate how much is needed for validation,testing and training\n",
    "val_size = int(size * 0.2)\n",
    "test_size = int(size * 0.2)\n",
    "\n",
    "#since the above values are rounded, we subtract the sum of the val_size and test_size from size of dataset\n",
    "train_size = size - (val_size + test_size)\n",
    "\n",
    "val_size , test_size , train_size\n",
    "#size,val_size + test_size + train_size"
   ]
  },
  {
   "cell_type": "code",
   "execution_count": 17,
   "id": "b9d6b43d",
   "metadata": {},
   "outputs": [],
   "source": [
    "#define validation, test and train datasets\n",
    "# the dataset has to be shuffled inorder to distribute all features uniformly \n",
    "train_df = df.iloc[train_size :]\n",
    "val_df = df.iloc[train_size: train_size + val_size]\n",
    "test_df = df.iloc[train_size + val_size: ]"
   ]
  },
  {
   "cell_type": "code",
   "execution_count": null,
   "id": "6b7798ed",
   "metadata": {},
   "outputs": [],
   "source": []
  },
  {
   "cell_type": "code",
   "execution_count": 18,
   "id": "17420986",
   "metadata": {},
   "outputs": [
    {
     "data": {
      "text/plain": [
       "array([10507,  9271,  9578, ...,   509,    62,  9187])"
      ]
     },
     "execution_count": 18,
     "metadata": {},
     "output_type": "execute_result"
    }
   ],
   "source": [
    "#shuffle the size of the dataset\n",
    "idx  = np.arange(size)\n",
    "np.random.shuffle(idx)\n",
    "idx"
   ]
  },
  {
   "cell_type": "code",
   "execution_count": 19,
   "id": "59428c82",
   "metadata": {},
   "outputs": [],
   "source": [
    "# the test, train and validation datasets will be declared through the shuffled dataset\n",
    "train_df = df.iloc[idx[: train_size ]]\n",
    "val_df = df.iloc[idx[train_size: train_size + val_size]]\n",
    "test_df = df.iloc[idx[train_size + val_size: ]]"
   ]
  },
  {
   "cell_type": "code",
   "execution_count": 20,
   "id": "682c9b80",
   "metadata": {},
   "outputs": [
    {
     "data": {
      "text/plain": [
       "(7150, 2382, 2382)"
      ]
     },
     "execution_count": 20,
     "metadata": {},
     "output_type": "execute_result"
    }
   ],
   "source": [
    "len(train_df),len(val_df),len(test_df)"
   ]
  },
  {
   "cell_type": "code",
   "execution_count": 21,
   "id": "8e8e2b61",
   "metadata": {},
   "outputs": [],
   "source": [
    "#reset the index\n",
    "train_df = train_df.reset_index(drop=True)\n",
    "val_df = val_df.reset_index(drop=True)\n",
    "test_df = test_df.reset_index(drop=True)"
   ]
  },
  {
   "cell_type": "code",
   "execution_count": 22,
   "id": "b3457f03",
   "metadata": {},
   "outputs": [],
   "source": [
    "#normalize msrp values\n",
    "y_train = np.log1p(train_df.msrp.values)\n",
    "y_val_df = np.log1p(val_df.msrp.values)\n",
    "y_test_df = np.log1p(test_df.msrp.values)"
   ]
  },
  {
   "cell_type": "code",
   "execution_count": 23,
   "id": "8700e7f0",
   "metadata": {},
   "outputs": [],
   "source": [
    "#remove the msrp values\n",
    "del(train_df['msrp'])\n",
    "del(val_df['msrp'])\n",
    "del(test_df['msrp'])"
   ]
  },
  {
   "cell_type": "code",
   "execution_count": null,
   "id": "2f681f99",
   "metadata": {},
   "outputs": [],
   "source": []
  },
  {
   "cell_type": "markdown",
   "id": "036eb3b3",
   "metadata": {},
   "source": [
    "### Linear Regression\n",
    "##### g(Xi)~~ yi -> g is the model, Xi is the feature matrix, and the yi is the  target value \n",
    "##### y = Wo + W1X1 + W2X2 +.....+WnXn\n",
    "##### where y -> the dependent value\n",
    "#### Wo -> the intercept \n",
    "#### W1-Wn -> slope or coefficient\n"
   ]
  },
  {
   "cell_type": "code",
   "execution_count": 24,
   "id": "a2b50635",
   "metadata": {},
   "outputs": [
    {
     "data": {
      "text/plain": [
       "make                       Mitsubishi\n",
       "model                          Lancer\n",
       "year                             2017\n",
       "engine_fuel_type     regular unleaded\n",
       "engine_hp                       168.0\n",
       "engine_cylinders                  4.0\n",
       "transmission_type           AUTOMATIC\n",
       "driven_wheels         all wheel drive\n",
       "number_of_doors                   4.0\n",
       "market_category                   NaN\n",
       "vehicle_size                  Compact\n",
       "vehicle_style                   Sedan\n",
       "highway_mpg                        30\n",
       "city_mpg                           23\n",
       "popularity                        436\n",
       "Name: 10, dtype: object"
      ]
     },
     "execution_count": 24,
     "metadata": {},
     "output_type": "execute_result"
    }
   ],
   "source": [
    "train_df.iloc[10]"
   ]
  },
  {
   "cell_type": "code",
   "execution_count": null,
   "id": "941f2094",
   "metadata": {},
   "outputs": [],
   "source": []
  },
  {
   "cell_type": "code",
   "execution_count": 25,
   "id": "54c296af",
   "metadata": {},
   "outputs": [],
   "source": [
    "xi = [325,18, 5657]"
   ]
  },
  {
   "cell_type": "code",
   "execution_count": 26,
   "id": "75202777",
   "metadata": {},
   "outputs": [],
   "source": [
    "w0 = 7.17\n",
    "w = [0.01, 0.04, 0.02]"
   ]
  },
  {
   "cell_type": "code",
   "execution_count": 27,
   "id": "518eda0e",
   "metadata": {},
   "outputs": [],
   "source": [
    "def linear_regression(xi):\n",
    "    pred = w0\n",
    "    for j in range(len(xi)):\n",
    "        pred = pred + w[j] * xi[j]\n",
    "        return pred"
   ]
  },
  {
   "cell_type": "code",
   "execution_count": 28,
   "id": "1af74074",
   "metadata": {},
   "outputs": [
    {
     "data": {
      "text/plain": [
       "10.42"
      ]
     },
     "execution_count": 28,
     "metadata": {},
     "output_type": "execute_result"
    }
   ],
   "source": [
    "linear_regression(xi)"
   ]
  },
  {
   "cell_type": "code",
   "execution_count": 29,
   "id": "26ba21f1",
   "metadata": {},
   "outputs": [
    {
     "data": {
      "text/plain": [
       "33522.43414584466"
      ]
     },
     "execution_count": 29,
     "metadata": {},
     "output_type": "execute_result"
    }
   ],
   "source": [
    "#since we normalized the msrp using log1p, we have to return the exponent value - 1\n",
    "np.expm1(10.42)"
   ]
  },
  {
   "cell_type": "code",
   "execution_count": null,
   "id": "4e6aadb3",
   "metadata": {},
   "outputs": [],
   "source": []
  },
  {
   "cell_type": "markdown",
   "id": "22bdd09c",
   "metadata": {},
   "source": [
    "### Linear Regression Vector Form "
   ]
  },
  {
   "cell_type": "code",
   "execution_count": 30,
   "id": "f5f95840",
   "metadata": {},
   "outputs": [],
   "source": [
    "def dot(xi, w):\n",
    "    \n",
    "    n = len(xi)\n",
    "    res = 0.0\n",
    "    \n",
    "    for j in range(n):\n",
    "        res = res + xi[j] * w[j]\n",
    "        return res"
   ]
  },
  {
   "cell_type": "code",
   "execution_count": 31,
   "id": "d19ecd9b",
   "metadata": {},
   "outputs": [],
   "source": [
    "def linear_regression(xi):\n",
    "    return w0 + dot(xi, w)"
   ]
  },
  {
   "cell_type": "code",
   "execution_count": 32,
   "id": "5fbda19c",
   "metadata": {},
   "outputs": [
    {
     "data": {
      "text/plain": [
       "10.42"
      ]
     },
     "execution_count": 32,
     "metadata": {},
     "output_type": "execute_result"
    }
   ],
   "source": [
    "linear_regression(xi)"
   ]
  },
  {
   "cell_type": "markdown",
   "id": "b4421b01",
   "metadata": {},
   "source": [
    "#### To make the last equation more simple, we can imagine there is one more feature xi0, that is always equal to 1.\n",
    "####  g(xi) = w0 + xiTw -> g(xi) = w0 . xi0 + xi^T. w\n",
    "#### That means vector w becomes a n+1 dimensional vector:\n",
    "#### w = [w0, w1, w2, … wn]\n",
    "#### xi = [xi0, xi1, xi2, …, xin] = [1, xi1, xi2, …, xin]\n",
    "#### wTxi = xiTw = w0 + …"
   ]
  },
  {
   "cell_type": "code",
   "execution_count": 33,
   "id": "b7aaa3e2",
   "metadata": {},
   "outputs": [
    {
     "data": {
      "text/plain": [
       "[7.17, 0.01, 0.04, 0.02]"
      ]
     },
     "execution_count": 33,
     "metadata": {},
     "output_type": "execute_result"
    }
   ],
   "source": [
    "#applying the the formula on feature matrix\n",
    "w0 = [w0]\n",
    "w_new = w0 + w\n",
    "w_new"
   ]
  },
  {
   "cell_type": "code",
   "execution_count": 34,
   "id": "d23af610",
   "metadata": {},
   "outputs": [
    {
     "data": {
      "text/plain": [
       "[[1, 148, 24, 1385], [1, 132, 25, 2031], [1, 453, 11, 86]]"
      ]
     },
     "execution_count": 34,
     "metadata": {},
     "output_type": "execute_result"
    }
   ],
   "source": [
    "x1  = [1, 148, 24, 1385]\n",
    "x2  = [1, 132, 25, 2031]\n",
    "x10 = [1, 453, 11, 86]\n",
    "\n",
    "#create a list of lists X\n",
    "X = [x1, x2, x10]\n",
    "X"
   ]
  },
  {
   "cell_type": "code",
   "execution_count": 35,
   "id": "936fd965",
   "metadata": {},
   "outputs": [
    {
     "data": {
      "text/plain": [
       "array([[   1,  148,   24, 1385],\n",
       "       [   1,  132,   25, 2031],\n",
       "       [   1,  453,   11,   86]])"
      ]
     },
     "execution_count": 35,
     "metadata": {},
     "output_type": "execute_result"
    }
   ],
   "source": [
    "#create a numpy array out of X\n",
    "X = np.array(X)\n",
    "X"
   ]
  },
  {
   "cell_type": "code",
   "execution_count": null,
   "id": "f8ee11be",
   "metadata": {},
   "outputs": [],
   "source": [
    " \n"
   ]
  },
  {
   "cell_type": "code",
   "execution_count": 36,
   "id": "168cc071",
   "metadata": {},
   "outputs": [
    {
     "data": {
      "text/plain": [
       "array([1.59781730e+16, 5.78757308e+21, 1.04549294e+06])"
      ]
     },
     "execution_count": 36,
     "metadata": {},
     "output_type": "execute_result"
    }
   ],
   "source": [
    "#try on the model\n",
    "def linear_regression(X):\n",
    "    return X.dot(w_new)\n",
    " \n",
    "y = linear_regression(X)\n",
    "np.expm1(y) "
   ]
  },
  {
   "cell_type": "code",
   "execution_count": null,
   "id": "e2090162",
   "metadata": {},
   "outputs": [],
   "source": []
  },
  {
   "cell_type": "markdown",
   "id": "0554ee84",
   "metadata": {},
   "source": [
    "### Train LInear Regression Model\n",
    "##### GRAM matrix => X^T * X\n",
    "##### w = (X^T*X)^-1 * X^T*y\n"
   ]
  },
  {
   "cell_type": "code",
   "execution_count": 37,
   "id": "b4078106",
   "metadata": {},
   "outputs": [
    {
     "data": {
      "text/plain": [
       "array([[ 148,   24, 1385],\n",
       "       [ 132,   25, 2031],\n",
       "       [ 453,   11,   86],\n",
       "       [ 158,   24, 1385],\n",
       "       [ 172,   25,  201],\n",
       "       [ 413,   11,   86],\n",
       "       [  38,   54,  435],\n",
       "       [ 142,   25,  431],\n",
       "       [ 453,   31,   86]])"
      ]
     },
     "execution_count": 37,
     "metadata": {},
     "output_type": "execute_result"
    }
   ],
   "source": [
    "# \n",
    "X = [\n",
    "    [148,24,1385],\n",
    "    [132,25,2031],\n",
    "    [453,11,86],\n",
    "    [158,24,1385],\n",
    "    [172,25,201],\n",
    "    [413,11,86],\n",
    "    [38,54,435],\n",
    "    [142,25,431],\n",
    "    [453,31,86]\n",
    "]\n",
    "\n",
    "X = np.array(X)\n",
    "X"
   ]
  },
  {
   "cell_type": "code",
   "execution_count": 38,
   "id": "77211e82",
   "metadata": {},
   "outputs": [],
   "source": [
    "#define an aribitary array y\n",
    "y = [100, 200, 150, 200, 250,200, 100, 150, 100]"
   ]
  },
  {
   "cell_type": "code",
   "execution_count": 39,
   "id": "e82fdd56",
   "metadata": {},
   "outputs": [
    {
     "data": {
      "text/plain": [
       "array([1., 1., 1., 1., 1., 1., 1., 1., 1.])"
      ]
     },
     "execution_count": 39,
     "metadata": {},
     "output_type": "execute_result"
    }
   ],
   "source": [
    "#define the bias term -> since we assumed the values to be all 1's\n",
    "ones = np.ones(X.shape[0])\n",
    "ones"
   ]
  },
  {
   "cell_type": "code",
   "execution_count": 40,
   "id": "2d07da16",
   "metadata": {},
   "outputs": [],
   "source": [
    "#add the ones array to X array using np.column_stack()\n",
    "X = np.column_stack([ones, X])\n"
   ]
  },
  {
   "cell_type": "code",
   "execution_count": 41,
   "id": "d19d7b66",
   "metadata": {},
   "outputs": [
    {
     "data": {
      "text/plain": [
       "array([[9.000000e+00, 2.109000e+03, 2.300000e+02, 6.126000e+03],\n",
       "       [2.109000e+03, 6.964710e+05, 4.411500e+04, 9.176400e+05],\n",
       "       [2.300000e+02, 4.411500e+04, 7.146000e+03, 1.611030e+05],\n",
       "       [6.126000e+03, 9.176400e+05, 1.611030e+05, 8.398986e+06]])"
      ]
     },
     "execution_count": 41,
     "metadata": {},
     "output_type": "execute_result"
    }
   ],
   "source": [
    "#first declare the GRAM matrix\n",
    "gram_matrix = X.T.dot(X)\n",
    "gram_matrix"
   ]
  },
  {
   "cell_type": "code",
   "execution_count": 42,
   "id": "215b2ec1",
   "metadata": {},
   "outputs": [
    {
     "data": {
      "text/plain": [
       "array([[ 4.19061567e+00, -6.97921826e-03, -7.06098585e-02,\n",
       "        -9.39618391e-04],\n",
       "       [-6.97921826e-03,  1.39881419e-05,  1.02138324e-04,\n",
       "         1.60302948e-06],\n",
       "       [-7.06098585e-02,  1.02138324e-04,  1.53735166e-03,\n",
       "         1.08534313e-05],\n",
       "       [-9.39618391e-04,  1.60302948e-06,  1.08534313e-05,\n",
       "         4.21072015e-07]])"
      ]
     },
     "execution_count": 42,
     "metadata": {},
     "output_type": "execute_result"
    }
   ],
   "source": [
    "# declare the inverse of the gram_matrix\n",
    "gram_matrix_inv= np.linalg.inv(gram_matrix)\n",
    "gram_matrix_inv"
   ]
  },
  {
   "cell_type": "code",
   "execution_count": 43,
   "id": "90dceaba",
   "metadata": {},
   "outputs": [
    {
     "data": {
      "text/plain": [
       "array([[ 1.,  0., -0., -0.],\n",
       "       [ 0.,  1.,  0., -0.],\n",
       "       [ 0.,  0.,  1., -0.],\n",
       "       [-0.,  0., -0.,  1.]])"
      ]
     },
     "execution_count": 43,
     "metadata": {},
     "output_type": "execute_result"
    }
   ],
   "source": [
    "#the product of the gram matrix with its inverse should be an Identity matrix\n",
    "gram_matrix.dot(gram_matrix_inv).round(1)"
   ]
  },
  {
   "cell_type": "code",
   "execution_count": 44,
   "id": "01f0b7cf",
   "metadata": {},
   "outputs": [
    {
     "data": {
      "text/plain": [
       "array([ 3.29287144e+02, -2.47314169e-01, -3.81623868e+00, -1.86522719e-02])"
      ]
     },
     "execution_count": 44,
     "metadata": {},
     "output_type": "execute_result"
    }
   ],
   "source": [
    "#calculate the weights w\n",
    "w_full = gram_matrix_inv.dot(X.T).dot(y)\n",
    "w_full"
   ]
  },
  {
   "cell_type": "code",
   "execution_count": 45,
   "id": "a82975d1",
   "metadata": {},
   "outputs": [],
   "source": [
    "# Now we can find the two estimated coefficients W0 and W\n",
    "\n",
    "#the first element is the intercept or bias term\n",
    "W0 = w_full[0]\n",
    "\n",
    "#the rest is the slope\n",
    "W = w_full[1:]"
   ]
  },
  {
   "cell_type": "code",
   "execution_count": 46,
   "id": "eb3610e6",
   "metadata": {},
   "outputs": [
    {
     "data": {
      "text/plain": [
       "329.28714424414034"
      ]
     },
     "execution_count": 46,
     "metadata": {},
     "output_type": "execute_result"
    }
   ],
   "source": [
    "W0"
   ]
  },
  {
   "cell_type": "code",
   "execution_count": 47,
   "id": "7af4e895",
   "metadata": {},
   "outputs": [
    {
     "data": {
      "text/plain": [
       "array([-0.24731417, -3.81623868, -0.01865227])"
      ]
     },
     "execution_count": 47,
     "metadata": {},
     "output_type": "execute_result"
    }
   ],
   "source": [
    "W"
   ]
  },
  {
   "cell_type": "code",
   "execution_count": 48,
   "id": "6245f3c8",
   "metadata": {},
   "outputs": [],
   "source": [
    "#define the above steps as a function\n",
    "def train_linear_regression(X, y):\n",
    "    \n",
    "    ones = np.ones(X.shape[0])\n",
    "    X = np.column_stack([ones, X])\n",
    "    \n",
    "    XTX = X.T.dot(X)\n",
    "    XTX_inv = np.linalg.inv(XTX)\n",
    "    w_full = XTX_inv.dot(X.T).dot(y)\n",
    "    \n",
    "    return w_full[0], w_full[1:]\n",
    "    "
   ]
  },
  {
   "cell_type": "code",
   "execution_count": 49,
   "id": "5ec1e2a5",
   "metadata": {},
   "outputs": [
    {
     "data": {
      "text/plain": [
       "(2.2026114150969393e+19,\n",
       " array([-1.54958947e+19,  1.28727321e+00,  7.44355702e-16, -1.20000738e-02]))"
      ]
     },
     "execution_count": 49,
     "metadata": {},
     "output_type": "execute_result"
    }
   ],
   "source": [
    "train_linear_regression(X, y)"
   ]
  },
  {
   "cell_type": "code",
   "execution_count": null,
   "id": "f9b1b286",
   "metadata": {},
   "outputs": [],
   "source": []
  },
  {
   "cell_type": "markdown",
   "id": "d81570da",
   "metadata": {},
   "source": [
    "### Car Price Baseline Model"
   ]
  },
  {
   "cell_type": "code",
   "execution_count": 50,
   "id": "cbeae833",
   "metadata": {},
   "outputs": [
    {
     "data": {
      "text/plain": [
       "make                  object\n",
       "model                 object\n",
       "year                   int64\n",
       "engine_fuel_type      object\n",
       "engine_hp            float64\n",
       "engine_cylinders     float64\n",
       "transmission_type     object\n",
       "driven_wheels         object\n",
       "number_of_doors      float64\n",
       "market_category       object\n",
       "vehicle_size          object\n",
       "vehicle_style         object\n",
       "highway_mpg            int64\n",
       "city_mpg               int64\n",
       "popularity             int64\n",
       "dtype: object"
      ]
     },
     "execution_count": 50,
     "metadata": {},
     "output_type": "execute_result"
    }
   ],
   "source": [
    "#get all the numerical values from the training dataset\n",
    "train_df.dtypes"
   ]
  },
  {
   "cell_type": "code",
   "execution_count": 51,
   "id": "93941d11",
   "metadata": {},
   "outputs": [],
   "source": [
    "base = ['engine_hp', 'engine_cylinders', 'highway_mpg','city_mpg', 'popularity']\n"
   ]
  },
  {
   "cell_type": "code",
   "execution_count": 52,
   "id": "dce3018c",
   "metadata": {},
   "outputs": [
    {
     "data": {
      "text/html": [
       "<div>\n",
       "<style scoped>\n",
       "    .dataframe tbody tr th:only-of-type {\n",
       "        vertical-align: middle;\n",
       "    }\n",
       "\n",
       "    .dataframe tbody tr th {\n",
       "        vertical-align: top;\n",
       "    }\n",
       "\n",
       "    .dataframe thead th {\n",
       "        text-align: right;\n",
       "    }\n",
       "</style>\n",
       "<table border=\"1\" class=\"dataframe\">\n",
       "  <thead>\n",
       "    <tr style=\"text-align: right;\">\n",
       "      <th></th>\n",
       "      <th>engine_hp</th>\n",
       "      <th>engine_cylinders</th>\n",
       "      <th>highway_mpg</th>\n",
       "      <th>city_mpg</th>\n",
       "      <th>popularity</th>\n",
       "    </tr>\n",
       "  </thead>\n",
       "  <tbody>\n",
       "    <tr>\n",
       "      <th>0</th>\n",
       "      <td>290.0</td>\n",
       "      <td>6.0</td>\n",
       "      <td>31</td>\n",
       "      <td>21</td>\n",
       "      <td>204</td>\n",
       "    </tr>\n",
       "    <tr>\n",
       "      <th>1</th>\n",
       "      <td>295.0</td>\n",
       "      <td>8.0</td>\n",
       "      <td>19</td>\n",
       "      <td>14</td>\n",
       "      <td>549</td>\n",
       "    </tr>\n",
       "    <tr>\n",
       "      <th>2</th>\n",
       "      <td>355.0</td>\n",
       "      <td>8.0</td>\n",
       "      <td>22</td>\n",
       "      <td>16</td>\n",
       "      <td>1385</td>\n",
       "    </tr>\n",
       "    <tr>\n",
       "      <th>3</th>\n",
       "      <td>220.0</td>\n",
       "      <td>4.0</td>\n",
       "      <td>32</td>\n",
       "      <td>22</td>\n",
       "      <td>3105</td>\n",
       "    </tr>\n",
       "    <tr>\n",
       "      <th>4</th>\n",
       "      <td>200.0</td>\n",
       "      <td>4.0</td>\n",
       "      <td>31</td>\n",
       "      <td>22</td>\n",
       "      <td>873</td>\n",
       "    </tr>\n",
       "    <tr>\n",
       "      <th>...</th>\n",
       "      <td>...</td>\n",
       "      <td>...</td>\n",
       "      <td>...</td>\n",
       "      <td>...</td>\n",
       "      <td>...</td>\n",
       "    </tr>\n",
       "    <tr>\n",
       "      <th>7145</th>\n",
       "      <td>200.0</td>\n",
       "      <td>6.0</td>\n",
       "      <td>17</td>\n",
       "      <td>12</td>\n",
       "      <td>5657</td>\n",
       "    </tr>\n",
       "    <tr>\n",
       "      <th>7146</th>\n",
       "      <td>381.0</td>\n",
       "      <td>8.0</td>\n",
       "      <td>17</td>\n",
       "      <td>13</td>\n",
       "      <td>2031</td>\n",
       "    </tr>\n",
       "    <tr>\n",
       "      <th>7147</th>\n",
       "      <td>240.0</td>\n",
       "      <td>5.0</td>\n",
       "      <td>24</td>\n",
       "      <td>17</td>\n",
       "      <td>870</td>\n",
       "    </tr>\n",
       "    <tr>\n",
       "      <th>7148</th>\n",
       "      <td>200.0</td>\n",
       "      <td>4.0</td>\n",
       "      <td>31</td>\n",
       "      <td>21</td>\n",
       "      <td>873</td>\n",
       "    </tr>\n",
       "    <tr>\n",
       "      <th>7149</th>\n",
       "      <td>288.0</td>\n",
       "      <td>6.0</td>\n",
       "      <td>22</td>\n",
       "      <td>15</td>\n",
       "      <td>155</td>\n",
       "    </tr>\n",
       "  </tbody>\n",
       "</table>\n",
       "<p>7150 rows × 5 columns</p>\n",
       "</div>"
      ],
      "text/plain": [
       "      engine_hp  engine_cylinders  highway_mpg  city_mpg  popularity\n",
       "0         290.0               6.0           31        21         204\n",
       "1         295.0               8.0           19        14         549\n",
       "2         355.0               8.0           22        16        1385\n",
       "3         220.0               4.0           32        22        3105\n",
       "4         200.0               4.0           31        22         873\n",
       "...         ...               ...          ...       ...         ...\n",
       "7145      200.0               6.0           17        12        5657\n",
       "7146      381.0               8.0           17        13        2031\n",
       "7147      240.0               5.0           24        17         870\n",
       "7148      200.0               4.0           31        21         873\n",
       "7149      288.0               6.0           22        15         155\n",
       "\n",
       "[7150 rows x 5 columns]"
      ]
     },
     "execution_count": 52,
     "metadata": {},
     "output_type": "execute_result"
    }
   ],
   "source": [
    "train_df[base]"
   ]
  },
  {
   "cell_type": "code",
   "execution_count": 53,
   "id": "6538bd27",
   "metadata": {},
   "outputs": [
    {
     "data": {
      "text/plain": [
       "array([[ 290.,    6.,   31.,   21.,  204.],\n",
       "       [ 295.,    8.,   19.,   14.,  549.],\n",
       "       [ 355.,    8.,   22.,   16., 1385.],\n",
       "       ...,\n",
       "       [ 240.,    5.,   24.,   17.,  870.],\n",
       "       [ 200.,    4.,   31.,   21.,  873.],\n",
       "       [ 288.,    6.,   22.,   15.,  155.]])"
      ]
     },
     "execution_count": 53,
     "metadata": {},
     "output_type": "execute_result"
    }
   ],
   "source": [
    "#extract the values for training\n",
    "X_train = train_df[base].values\n",
    "X_train"
   ]
  },
  {
   "cell_type": "code",
   "execution_count": 54,
   "id": "aec61be7",
   "metadata": {},
   "outputs": [
    {
     "data": {
      "text/plain": [
       "array([10.63587948, 10.33611377, 10.71821057, ...,  7.60140233,\n",
       "       10.3220663 , 10.76882178])"
      ]
     },
     "execution_count": 54,
     "metadata": {},
     "output_type": "execute_result"
    }
   ],
   "source": [
    "#we've already declared the y_train\n",
    "y_train"
   ]
  },
  {
   "cell_type": "code",
   "execution_count": 55,
   "id": "70515c59",
   "metadata": {},
   "outputs": [
    {
     "data": {
      "text/plain": [
       "engine_hp           43\n",
       "engine_cylinders    21\n",
       "highway_mpg          0\n",
       "city_mpg             0\n",
       "popularity           0\n",
       "dtype: int64"
      ]
     },
     "execution_count": 55,
     "metadata": {},
     "output_type": "execute_result"
    }
   ],
   "source": [
    "#before training the model, check for null values\n",
    "train_df[base].isna().sum()"
   ]
  },
  {
   "cell_type": "code",
   "execution_count": 56,
   "id": "5d7afc3b",
   "metadata": {},
   "outputs": [],
   "source": [
    "#fill the null with 0\n",
    "X_train = train_df[base].fillna(0).values\n"
   ]
  },
  {
   "cell_type": "code",
   "execution_count": 57,
   "id": "40f3cc72",
   "metadata": {},
   "outputs": [
    {
     "data": {
      "text/plain": [
       "array([[ 290.,    6.,   31.,   21.,  204.],\n",
       "       [ 295.,    8.,   19.,   14.,  549.],\n",
       "       [ 355.,    8.,   22.,   16., 1385.],\n",
       "       ...,\n",
       "       [ 240.,    5.,   24.,   17.,  870.],\n",
       "       [ 200.,    4.,   31.,   21.,  873.],\n",
       "       [ 288.,    6.,   22.,   15.,  155.]])"
      ]
     },
     "execution_count": 57,
     "metadata": {},
     "output_type": "execute_result"
    }
   ],
   "source": [
    "X_train"
   ]
  },
  {
   "cell_type": "code",
   "execution_count": 58,
   "id": "fdf926b3",
   "metadata": {},
   "outputs": [],
   "source": [
    "#train the linear_regression model\n",
    "W0, W = train_linear_regression(X_train, y_train)"
   ]
  },
  {
   "cell_type": "code",
   "execution_count": 59,
   "id": "d5f29a24",
   "metadata": {},
   "outputs": [],
   "source": [
    "#calculate the y_prediction value\n",
    "y_prediction = W0 + X_train.dot(W)"
   ]
  },
  {
   "cell_type": "code",
   "execution_count": 60,
   "id": "35216818",
   "metadata": {},
   "outputs": [
    {
     "data": {
      "text/plain": [
       "<Axes: ylabel='Count'>"
      ]
     },
     "execution_count": 60,
     "metadata": {},
     "output_type": "execute_result"
    },
    {
     "data": {
      "image/png": "[encoded data removed]",
      "text/plain": [
       "<Figure size 640x480 with 1 Axes>"
      ]
     },
     "metadata": {},
     "output_type": "display_data"
    }
   ],
   "source": [
    "#compare the y_prediction with y_train graph\n",
    "sns.histplot(y_prediction, color='red', alpha = 0.5,bins=50)\n",
    "sns.histplot(y_train, color='blue', alpha = 0.5, bins= 50)"
   ]
  },
  {
   "cell_type": "code",
   "execution_count": null,
   "id": "a7d792fc",
   "metadata": {},
   "outputs": [],
   "source": []
  },
  {
   "cell_type": "markdown",
   "id": "312084de",
   "metadata": {},
   "source": [
    "# Root Mean Square Error(RMSE)\n",
    "\n",
    "###### RMSE = sqrt(E(y-actual - y-pred)^2 / m)\n",
    "###### where y-actual is the actual value\n",
    "###### y-pred is the predicted value \n",
    "##### m is the number of observations"
   ]
  },
  {
   "cell_type": "code",
   "execution_count": 61,
   "id": "be845be4",
   "metadata": {},
   "outputs": [],
   "source": [
    "#RMSE function\n",
    "def rmse(y, y_pred): \n",
    "    sqr_error = (y - y_pred) ** 2\n",
    "    mean_sqr_error = sqr_error.mean()\n",
    "    \n",
    "    return np.sqrt(mean_sqr_error)\n",
    "    "
   ]
  },
  {
   "cell_type": "code",
   "execution_count": 62,
   "id": "9b1afb70",
   "metadata": {},
   "outputs": [
    {
     "data": {
      "text/plain": [
       "0.7484853390489385"
      ]
     },
     "execution_count": 62,
     "metadata": {},
     "output_type": "execute_result"
    }
   ],
   "source": [
    "rmse(y_train, y_prediction)"
   ]
  },
  {
   "cell_type": "code",
   "execution_count": null,
   "id": "67b5aec6",
   "metadata": {},
   "outputs": [],
   "source": []
  },
  {
   "cell_type": "markdown",
   "id": "f5b7b37c",
   "metadata": {},
   "source": [
    "### Validating the model"
   ]
  },
  {
   "cell_type": "code",
   "execution_count": 63,
   "id": "13b5c50f",
   "metadata": {},
   "outputs": [],
   "source": [
    "# write a function to prepare data\n",
    "def prepare_X(df):\n",
    "    \n",
    "    #first extract numerical values\n",
    "    df_num = df[base]\n",
    "    \n",
    "    #fill the null values\n",
    "    df_num = df_num.fillna(0)\n",
    "    \n",
    "    X = df_num.values\n",
    "    \n",
    "    return X "
   ]
  },
  {
   "cell_type": "code",
   "execution_count": 64,
   "id": "985c6c69",
   "metadata": {},
   "outputs": [
    {
     "data": {
      "text/plain": [
       "0.7529194105363366"
      ]
     },
     "execution_count": 64,
     "metadata": {},
     "output_type": "execute_result"
    }
   ],
   "source": [
    "X_train = prepare_X(train_df)\n",
    "W0, W = train_linear_regression(X_train, y_train)\n",
    "\n",
    "X_val = prepare_X(val_df)\n",
    "y_pred = W0 + X_val.dot(W)\n",
    "\n",
    "rmse(y_val_df, y_pred)"
   ]
  },
  {
   "cell_type": "code",
   "execution_count": null,
   "id": "2eec6011",
   "metadata": {},
   "outputs": [],
   "source": []
  },
  {
   "cell_type": "markdown",
   "id": "09aeb853",
   "metadata": {},
   "source": [
    "### Simple Feature Engineering"
   ]
  },
  {
   "cell_type": "code",
   "execution_count": null,
   "id": "6c6612a9",
   "metadata": {},
   "outputs": [],
   "source": []
  },
  {
   "cell_type": "code",
   "execution_count": 65,
   "id": "7815c976",
   "metadata": {},
   "outputs": [
    {
     "data": {
      "text/plain": [
       "0        0\n",
       "1       10\n",
       "2        1\n",
       "3        1\n",
       "4        1\n",
       "        ..\n",
       "7145    20\n",
       "7146     0\n",
       "7147    22\n",
       "7148     4\n",
       "7149     1\n",
       "Name: year, Length: 7150, dtype: int64"
      ]
     },
     "execution_count": 65,
     "metadata": {},
     "output_type": "execute_result"
    }
   ],
   "source": [
    "#returns the age of the cars\n",
    "# subtract the year column from the last year the data was collected\n",
    "age = train_df.year.max() - train_df.year\n",
    "age"
   ]
  },
  {
   "cell_type": "code",
   "execution_count": 66,
   "id": "a05e2138",
   "metadata": {},
   "outputs": [],
   "source": [
    "# add a new column age to the train_df dataframe\n",
    "def prepare_X(df):\n",
    "    \n",
    "    #first make a copy of the df inorder not to modify the original df\n",
    "    df = df.copy()\n",
    "    df['age'] = df.year.max() - df.year\n",
    "    features = base + ['age']\n",
    "    \n",
    "    df_num = df[features]\n",
    "    df_num = df_num.fillna(0)\n",
    "    X = df_num.values\n",
    "    \n",
    "    return X"
   ]
  },
  {
   "cell_type": "code",
   "execution_count": 67,
   "id": "a44a0add",
   "metadata": {},
   "outputs": [
    {
     "data": {
      "text/plain": [
       "0.5327668037046062"
      ]
     },
     "execution_count": 67,
     "metadata": {},
     "output_type": "execute_result"
    }
   ],
   "source": [
    "X_train = prepare_X(train_df)\n",
    "\n",
    "W0, W = train_linear_regression(X_train, y_train)\n",
    "\n",
    "X_val = prepare_X(val_df)\n",
    "y_pred = W0 + X_val.dot(W)\n",
    "\n",
    "rmse(y_val_df, y_pred)"
   ]
  },
  {
   "cell_type": "code",
   "execution_count": 68,
   "id": "151d0799",
   "metadata": {},
   "outputs": [
    {
     "data": {
      "text/plain": [
       "<Axes: ylabel='Count'>"
      ]
     },
     "execution_count": 68,
     "metadata": {},
     "output_type": "execute_result"
    },
    {
     "data": {
      "image/png": "[encoded data removed]",
      "text/plain": [
       "<Figure size 640x480 with 1 Axes>"
      ]
     },
     "metadata": {},
     "output_type": "display_data"
    }
   ],
   "source": [
    "sns.histplot(y_pred, alpha=0.5, color='red', bins=50)\n",
    "sns.histplot(y_val_df, alpha=0.5, color='blue', bins=50)"
   ]
  },
  {
   "cell_type": "code",
   "execution_count": null,
   "id": "c02ed074",
   "metadata": {},
   "outputs": [],
   "source": []
  },
  {
   "cell_type": "markdown",
   "id": "eb1eb2a3",
   "metadata": {},
   "source": [
    "### Categorical Variables\n",
    "##### Turning categorical feature into usable format"
   ]
  },
  {
   "cell_type": "code",
   "execution_count": 69,
   "id": "4781d71e",
   "metadata": {},
   "outputs": [
    {
     "data": {
      "text/plain": [
       "3"
      ]
     },
     "execution_count": 69,
     "metadata": {},
     "output_type": "execute_result"
    }
   ],
   "source": [
    "train_df.number_of_doors.nunique()"
   ]
  },
  {
   "cell_type": "code",
   "execution_count": 70,
   "id": "64de0c67",
   "metadata": {},
   "outputs": [
    {
     "data": {
      "text/plain": [
       "array([4., 4., 4., ..., 4., 2., 4.])"
      ]
     },
     "execution_count": 70,
     "metadata": {},
     "output_type": "execute_result"
    }
   ],
   "source": [
    "train_df.number_of_doors.values"
   ]
  },
  {
   "cell_type": "code",
   "execution_count": 71,
   "id": "a62910a4",
   "metadata": {},
   "outputs": [],
   "source": [
    "#use for loop to create three new features for the 3 types of columns\n",
    "for val in [2,3,4]:\n",
    "    train_df['door_num_%s' %val] = (train_df.number_of_doors == val).astype('int')"
   ]
  },
  {
   "cell_type": "code",
   "execution_count": 72,
   "id": "93a028f0",
   "metadata": {},
   "outputs": [
    {
     "data": {
      "text/html": [
       "<div>\n",
       "<style scoped>\n",
       "    .dataframe tbody tr th:only-of-type {\n",
       "        vertical-align: middle;\n",
       "    }\n",
       "\n",
       "    .dataframe tbody tr th {\n",
       "        vertical-align: top;\n",
       "    }\n",
       "\n",
       "    .dataframe thead th {\n",
       "        text-align: right;\n",
       "    }\n",
       "</style>\n",
       "<table border=\"1\" class=\"dataframe\">\n",
       "  <thead>\n",
       "    <tr style=\"text-align: right;\">\n",
       "      <th></th>\n",
       "      <th>make</th>\n",
       "      <th>model</th>\n",
       "      <th>year</th>\n",
       "      <th>engine_fuel_type</th>\n",
       "      <th>engine_hp</th>\n",
       "      <th>engine_cylinders</th>\n",
       "      <th>transmission_type</th>\n",
       "      <th>driven_wheels</th>\n",
       "      <th>number_of_doors</th>\n",
       "      <th>market_category</th>\n",
       "      <th>vehicle_size</th>\n",
       "      <th>vehicle_style</th>\n",
       "      <th>highway_mpg</th>\n",
       "      <th>city_mpg</th>\n",
       "      <th>popularity</th>\n",
       "      <th>door_num_2</th>\n",
       "      <th>door_num_3</th>\n",
       "      <th>door_num_4</th>\n",
       "    </tr>\n",
       "  </thead>\n",
       "  <tbody>\n",
       "    <tr>\n",
       "      <th>0</th>\n",
       "      <td>Acura</td>\n",
       "      <td>TLX</td>\n",
       "      <td>2017</td>\n",
       "      <td>premium unleaded (recommended)</td>\n",
       "      <td>290.0</td>\n",
       "      <td>6.0</td>\n",
       "      <td>AUTOMATIC</td>\n",
       "      <td>all wheel drive</td>\n",
       "      <td>4.0</td>\n",
       "      <td>Luxury</td>\n",
       "      <td>Midsize</td>\n",
       "      <td>Sedan</td>\n",
       "      <td>31</td>\n",
       "      <td>21</td>\n",
       "      <td>204</td>\n",
       "      <td>0</td>\n",
       "      <td>0</td>\n",
       "      <td>1</td>\n",
       "    </tr>\n",
       "    <tr>\n",
       "      <th>1</th>\n",
       "      <td>GMC</td>\n",
       "      <td>Sierra 1500 Classic</td>\n",
       "      <td>2007</td>\n",
       "      <td>flex-fuel (unleaded/E85)</td>\n",
       "      <td>295.0</td>\n",
       "      <td>8.0</td>\n",
       "      <td>AUTOMATIC</td>\n",
       "      <td>rear wheel drive</td>\n",
       "      <td>4.0</td>\n",
       "      <td>Flex Fuel</td>\n",
       "      <td>Large</td>\n",
       "      <td>Extended Cab Pickup</td>\n",
       "      <td>19</td>\n",
       "      <td>14</td>\n",
       "      <td>549</td>\n",
       "      <td>0</td>\n",
       "      <td>0</td>\n",
       "      <td>1</td>\n",
       "    </tr>\n",
       "    <tr>\n",
       "      <th>2</th>\n",
       "      <td>Chevrolet</td>\n",
       "      <td>Silverado 1500</td>\n",
       "      <td>2016</td>\n",
       "      <td>regular unleaded</td>\n",
       "      <td>355.0</td>\n",
       "      <td>8.0</td>\n",
       "      <td>AUTOMATIC</td>\n",
       "      <td>four wheel drive</td>\n",
       "      <td>4.0</td>\n",
       "      <td>Flex Fuel</td>\n",
       "      <td>Large</td>\n",
       "      <td>Crew Cab Pickup</td>\n",
       "      <td>22</td>\n",
       "      <td>16</td>\n",
       "      <td>1385</td>\n",
       "      <td>0</td>\n",
       "      <td>0</td>\n",
       "      <td>1</td>\n",
       "    </tr>\n",
       "    <tr>\n",
       "      <th>3</th>\n",
       "      <td>Audi</td>\n",
       "      <td>A4</td>\n",
       "      <td>2016</td>\n",
       "      <td>premium unleaded (required)</td>\n",
       "      <td>220.0</td>\n",
       "      <td>4.0</td>\n",
       "      <td>MANUAL</td>\n",
       "      <td>all wheel drive</td>\n",
       "      <td>4.0</td>\n",
       "      <td>Luxury</td>\n",
       "      <td>Midsize</td>\n",
       "      <td>Sedan</td>\n",
       "      <td>32</td>\n",
       "      <td>22</td>\n",
       "      <td>3105</td>\n",
       "      <td>0</td>\n",
       "      <td>0</td>\n",
       "      <td>1</td>\n",
       "    </tr>\n",
       "    <tr>\n",
       "      <th>4</th>\n",
       "      <td>Volkswagen</td>\n",
       "      <td>CC</td>\n",
       "      <td>2016</td>\n",
       "      <td>premium unleaded (recommended)</td>\n",
       "      <td>200.0</td>\n",
       "      <td>4.0</td>\n",
       "      <td>AUTOMATED_MANUAL</td>\n",
       "      <td>front wheel drive</td>\n",
       "      <td>4.0</td>\n",
       "      <td>Performance</td>\n",
       "      <td>Midsize</td>\n",
       "      <td>Sedan</td>\n",
       "      <td>31</td>\n",
       "      <td>22</td>\n",
       "      <td>873</td>\n",
       "      <td>0</td>\n",
       "      <td>0</td>\n",
       "      <td>1</td>\n",
       "    </tr>\n",
       "  </tbody>\n",
       "</table>\n",
       "</div>"
      ],
      "text/plain": [
       "         make                model  year                engine_fuel_type  \\\n",
       "0       Acura                  TLX  2017  premium unleaded (recommended)   \n",
       "1         GMC  Sierra 1500 Classic  2007        flex-fuel (unleaded/E85)   \n",
       "2   Chevrolet       Silverado 1500  2016                regular unleaded   \n",
       "3        Audi                   A4  2016     premium unleaded (required)   \n",
       "4  Volkswagen                   CC  2016  premium unleaded (recommended)   \n",
       "\n",
       "   engine_hp  engine_cylinders transmission_type      driven_wheels  \\\n",
       "0      290.0               6.0         AUTOMATIC    all wheel drive   \n",
       "1      295.0               8.0         AUTOMATIC   rear wheel drive   \n",
       "2      355.0               8.0         AUTOMATIC   four wheel drive   \n",
       "3      220.0               4.0            MANUAL    all wheel drive   \n",
       "4      200.0               4.0  AUTOMATED_MANUAL  front wheel drive   \n",
       "\n",
       "   number_of_doors market_category vehicle_size        vehicle_style  \\\n",
       "0              4.0          Luxury      Midsize                Sedan   \n",
       "1              4.0       Flex Fuel        Large  Extended Cab Pickup   \n",
       "2              4.0       Flex Fuel        Large      Crew Cab Pickup   \n",
       "3              4.0          Luxury      Midsize                Sedan   \n",
       "4              4.0     Performance      Midsize                Sedan   \n",
       "\n",
       "   highway_mpg  city_mpg  popularity  door_num_2  door_num_3  door_num_4  \n",
       "0           31        21         204           0           0           1  \n",
       "1           19        14         549           0           0           1  \n",
       "2           22        16        1385           0           0           1  \n",
       "3           32        22        3105           0           0           1  \n",
       "4           31        22         873           0           0           1  "
      ]
     },
     "execution_count": 72,
     "metadata": {},
     "output_type": "execute_result"
    }
   ],
   "source": [
    "train_df.head(5)"
   ]
  },
  {
   "cell_type": "code",
   "execution_count": 73,
   "id": "b544a85e",
   "metadata": {},
   "outputs": [],
   "source": [
    "#Prepare the new X_train and the above for loop \n",
    "\n",
    "def prepare_X(df):\n",
    "    \n",
    "    #first make a copy of the df inorder not to modify the original df and list\n",
    "    df = df.copy()\n",
    "    features = base.copy()\n",
    "    \n",
    "    df['age'] = df.year.max() - df.year\n",
    "    features.append('age')\n",
    "    \n",
    "    for val in [2,3,4]:\n",
    "        df['door_num_%s' %val] = (df.number_of_doors == val).astype('int')\n",
    "        features.append('door_num_%s' %val)\n",
    "    \n",
    "    df_num = df[features]\n",
    "    df_num = df_num.fillna(0)\n",
    "    X = df_num.values\n",
    "    \n",
    "    return X"
   ]
  },
  {
   "cell_type": "code",
   "execution_count": 74,
   "id": "e397e74d",
   "metadata": {},
   "outputs": [
    {
     "data": {
      "text/plain": [
       "0.5309334727905869"
      ]
     },
     "execution_count": 74,
     "metadata": {},
     "output_type": "execute_result"
    }
   ],
   "source": [
    "X_train = prepare_X(train_df)\n",
    "W0, W = train_linear_regression(X_train, y_train)\n",
    "\n",
    "X_val = prepare_X(val_df)\n",
    "y_pred = W0 + X_val.dot(W)\n",
    "\n",
    "rmse(y_val_df, y_pred)"
   ]
  },
  {
   "cell_type": "markdown",
   "id": "04bb0750",
   "metadata": {},
   "source": [
    "#### The added new feature didn't improve the model"
   ]
  },
  {
   "cell_type": "code",
   "execution_count": null,
   "id": "2e76c5d2",
   "metadata": {},
   "outputs": [],
   "source": []
  },
  {
   "cell_type": "code",
   "execution_count": 75,
   "id": "c1a7e554",
   "metadata": {},
   "outputs": [
    {
     "data": {
      "text/plain": [
       "48"
      ]
     },
     "execution_count": 75,
     "metadata": {},
     "output_type": "execute_result"
    }
   ],
   "source": [
    "#Use the make feature if there will be change\n",
    "df.make.nunique()"
   ]
  },
  {
   "cell_type": "code",
   "execution_count": 76,
   "id": "7417ea4c",
   "metadata": {},
   "outputs": [],
   "source": [
    "#choose the top 5 popular cars \n",
    "makes = list(df.make.value_counts().head().index)"
   ]
  },
  {
   "cell_type": "code",
   "execution_count": 77,
   "id": "b36259ac",
   "metadata": {},
   "outputs": [],
   "source": [
    "#loop through the list above to modify the feature and add the new features\n",
    "def prepare_X(df):\n",
    "    \n",
    "    #first make a copy of the df inorder not to modify the original df and list\n",
    "    df = df.copy()\n",
    "    features = base.copy()\n",
    "    \n",
    "    df['age'] = df.year.max() - df.year\n",
    "    features.append('age')\n",
    "    \n",
    "    for val in [2,3,4]:\n",
    "        df['door_num_%s' %val] = (df.number_of_doors == val).astype('int')\n",
    "        features.append('door_num_%s' %val)\n",
    "    \n",
    "    for val in makes:\n",
    "        df['make_%s' %val] = (df.make == val).astype('int')\n",
    "        features.append('make_%s' %val)\n",
    "    \n",
    "    df_num = df[features]\n",
    "    df_num = df_num.fillna(0)\n",
    "    X = df_num.values\n",
    "    \n",
    "    return X"
   ]
  },
  {
   "cell_type": "code",
   "execution_count": 78,
   "id": "04cc1381",
   "metadata": {},
   "outputs": [
    {
     "data": {
      "text/plain": [
       "0.5216060053321118"
      ]
     },
     "execution_count": 78,
     "metadata": {},
     "output_type": "execute_result"
    }
   ],
   "source": [
    "X_train = prepare_X(train_df)\n",
    "W0, W = train_linear_regression(X_train, y_train)\n",
    "\n",
    "X_val = prepare_X(val_df)\n",
    "y_pred = W0 + X_val.dot(W)\n",
    "\n",
    "rmse(y_val_df, y_pred)"
   ]
  },
  {
   "cell_type": "code",
   "execution_count": null,
   "id": "fc900a5c",
   "metadata": {},
   "outputs": [],
   "source": []
  },
  {
   "cell_type": "code",
   "execution_count": 79,
   "id": "4d95e0f4",
   "metadata": {},
   "outputs": [
    {
     "data": {
      "text/plain": [
       "Index(['make', 'model', 'year', 'engine_fuel_type', 'engine_hp',\n",
       "       'engine_cylinders', 'transmission_type', 'driven_wheels',\n",
       "       'number_of_doors', 'market_category', 'vehicle_size', 'vehicle_style',\n",
       "       'highway_mpg', 'city_mpg', 'popularity', 'msrp'],\n",
       "      dtype='object')"
      ]
     },
     "execution_count": 79,
     "metadata": {},
     "output_type": "execute_result"
    }
   ],
   "source": [
    "#adding the rest of the categorical features\n",
    "df.columns"
   ]
  },
  {
   "cell_type": "code",
   "execution_count": 80,
   "id": "86775d43",
   "metadata": {},
   "outputs": [],
   "source": [
    "categorical_list = [\n",
    "    'make', 'engine_fuel_type', 'transmission_type', 'driven_wheels',\n",
    "    'market_category', 'vehicle_size', 'vehicle_style',\n",
    "]"
   ]
  },
  {
   "cell_type": "code",
   "execution_count": 81,
   "id": "2c847a5a",
   "metadata": {},
   "outputs": [],
   "source": [
    "#map the top 5 popular categories for each feature in list\n",
    "\n",
    "categories={}\n",
    "\n",
    "for c in categorical_list:\n",
    "    categories[c] = list(df[c].value_counts().head().index)\n",
    "    "
   ]
  },
  {
   "cell_type": "code",
   "execution_count": 82,
   "id": "e05fe489",
   "metadata": {},
   "outputs": [
    {
     "data": {
      "text/plain": [
       "{'make': ['Chevrolet', 'Ford', 'Volkswagen', 'Toyota', 'Dodge'],\n",
       " 'engine_fuel_type': ['regular unleaded',\n",
       "  'premium unleaded (required)',\n",
       "  'premium unleaded (recommended)',\n",
       "  'flex-fuel (unleaded/E85)',\n",
       "  'diesel'],\n",
       " 'transmission_type': ['AUTOMATIC',\n",
       "  'MANUAL',\n",
       "  'AUTOMATED_MANUAL',\n",
       "  'DIRECT_DRIVE',\n",
       "  'UNKNOWN'],\n",
       " 'driven_wheels': ['front wheel drive',\n",
       "  'rear wheel drive',\n",
       "  'all wheel drive',\n",
       "  'four wheel drive'],\n",
       " 'market_category': ['Crossover',\n",
       "  'Flex Fuel',\n",
       "  'Luxury',\n",
       "  'Luxury,Performance',\n",
       "  'Hatchback'],\n",
       " 'vehicle_size': ['Compact', 'Midsize', 'Large'],\n",
       " 'vehicle_style': ['Sedan',\n",
       "  '4dr SUV',\n",
       "  'Coupe',\n",
       "  'Convertible',\n",
       "  '4dr Hatchback']}"
      ]
     },
     "execution_count": 82,
     "metadata": {},
     "output_type": "execute_result"
    }
   ],
   "source": [
    "categories"
   ]
  },
  {
   "cell_type": "code",
   "execution_count": null,
   "id": "92441369",
   "metadata": {},
   "outputs": [],
   "source": []
  },
  {
   "cell_type": "code",
   "execution_count": 83,
   "id": "1f04804a",
   "metadata": {},
   "outputs": [],
   "source": [
    "#now encode the new features and add them to the training matrix\n",
    "def prepare_X(df):\n",
    "    \n",
    "    #first make a copy of the df inorder not to modify the original df and list\n",
    "    df = df.copy()\n",
    "    features = base.copy()\n",
    "    \n",
    "    df['age'] = df.year.max() - df.year\n",
    "    features.append('age')\n",
    "    \n",
    "    for val in [2,3,4]:\n",
    "        df['door_num_%s' %val] = (df.number_of_doors == val).astype('int')\n",
    "        features.append('door_num_%s' %val)\n",
    "        \n",
    "    for c, values in categories.items():\n",
    "        for val in values:\n",
    "            df['%s_%s' %(c,val)] = (df[c] == val).astype('int')\n",
    "            features.append('%s_%s' % (c,val))\n",
    "    \n",
    "    df_num = df[features]\n",
    "    df_num = df_num.fillna(0)\n",
    "    X = df_num.values\n",
    "    \n",
    "    return X"
   ]
  },
  {
   "cell_type": "code",
   "execution_count": 84,
   "id": "7b6b775a",
   "metadata": {},
   "outputs": [
    {
     "data": {
      "text/plain": [
       "169.52487626821818"
      ]
     },
     "execution_count": 84,
     "metadata": {},
     "output_type": "execute_result"
    }
   ],
   "source": [
    "X_train = prepare_X(train_df)\n",
    "W0, W = train_linear_regression(X_train, y_train)\n",
    "\n",
    "X_val = prepare_X(val_df)\n",
    "y_pred = W0 + X_val.dot(W)\n",
    "\n",
    "rmse(y_val_df, y_pred)"
   ]
  },
  {
   "cell_type": "code",
   "execution_count": 85,
   "id": "fbe5ee23",
   "metadata": {},
   "outputs": [
    {
     "data": {
      "text/plain": [
       "-4064483284870361"
      ]
     },
     "execution_count": 85,
     "metadata": {},
     "output_type": "execute_result"
    }
   ],
   "source": [
    "int(W0)"
   ]
  },
  {
   "cell_type": "code",
   "execution_count": null,
   "id": "af010dd8",
   "metadata": {},
   "outputs": [],
   "source": []
  },
  {
   "cell_type": "code",
   "execution_count": null,
   "id": "58d7ba9c",
   "metadata": {},
   "outputs": [],
   "source": []
  },
  {
   "cell_type": "markdown",
   "id": "5d8b7060",
   "metadata": {},
   "source": [
    "### Regularization\n",
    "##### Regularization is used to avoid overfitting and underfitting of our model"
   ]
  },
  {
   "cell_type": "code",
   "execution_count": 86,
   "id": "3fc516b4",
   "metadata": {},
   "outputs": [],
   "source": [
    "#introduce new regularization parameter r to the training model \n",
    "def train_linear_regression_reg(X, y, r=0.001):\n",
    "    \n",
    "    ones = np.ones(X.shape[0])\n",
    "    X = np.column_stack([ones, X])\n",
    "    \n",
    "    XTX = X.T.dot(X)\n",
    "    XTX = XTX + r * np.eye(XTX.shape[0])\n",
    "    XTX_inv = np.linalg.inv(XTX)\n",
    "    w_full = XTX_inv.dot(X.T).dot(y)\n",
    "    \n",
    "    return w_full[0], w_full[1:]\n",
    "    "
   ]
  },
  {
   "cell_type": "code",
   "execution_count": 87,
   "id": "5484268a",
   "metadata": {},
   "outputs": [
    {
     "data": {
      "text/plain": [
       "0.4730078970423926"
      ]
     },
     "execution_count": 87,
     "metadata": {},
     "output_type": "execute_result"
    }
   ],
   "source": [
    "X_train = prepare_X(train_df)\n",
    "W0, W = train_linear_regression_reg(X_train, y_train, r=0.01)\n",
    "\n",
    "X_val = prepare_X(val_df)\n",
    "y_pred = W0 + X_val.dot(W)\n",
    "\n",
    "rmse(y_val_df, y_pred)"
   ]
  },
  {
   "cell_type": "markdown",
   "id": "c8639570",
   "metadata": {},
   "source": [
    "### when our model is regularized, the output improved significantly"
   ]
  },
  {
   "cell_type": "code",
   "execution_count": null,
   "id": "768e576d",
   "metadata": {},
   "outputs": [],
   "source": []
  },
  {
   "cell_type": "markdown",
   "id": "2e4a71a5",
   "metadata": {},
   "source": [
    "### Tuning the model"
   ]
  },
  {
   "cell_type": "code",
   "execution_count": 88,
   "id": "e6eb4a6d",
   "metadata": {},
   "outputs": [
    {
     "name": "stdout",
     "output_type": "stream",
     "text": [
      "For r: 0 :score is :169.52\n",
      "For r: 1e-06 :score is :0.47\n",
      "For r: 0.0001 :score is :0.47\n",
      "For r: 0.001 :score is :0.47\n",
      "For r: 0.01 :score is :0.47\n",
      "For r: 0.1 :score is :0.47\n",
      "For r: 1 :score is :0.48\n"
     ]
    }
   ],
   "source": [
    "#check the model for different r values\n",
    "for r in [0, 0.000001, 0.0001, 0.001, 0.01, 0.1, 1]:\n",
    "    X_train = prepare_X(train_df)\n",
    "    W0, W = train_linear_regression_reg(X_train, y_train, r)\n",
    "\n",
    "    X_val = prepare_X(val_df)\n",
    "    y_pred = W0 + X_val.dot(W)\n",
    "\n",
    "    score = rmse(y_val_df, y_pred).round(2)\n",
    "    print(\"For r: \"+str(r)+\" :score is :\"+str(score))\n",
    "    "
   ]
  },
  {
   "cell_type": "code",
   "execution_count": null,
   "id": "a594871b",
   "metadata": {},
   "outputs": [],
   "source": []
  },
  {
   "cell_type": "markdown",
   "id": "466cbdcf",
   "metadata": {},
   "source": [
    "### Using The Model"
   ]
  },
  {
   "cell_type": "code",
   "execution_count": 89,
   "id": "61378f64",
   "metadata": {},
   "outputs": [],
   "source": [
    "full_df = pd.concat([train_df, val_df])"
   ]
  },
  {
   "cell_type": "code",
   "execution_count": 90,
   "id": "b8c22062",
   "metadata": {},
   "outputs": [
    {
     "data": {
      "text/html": [
       "<div>\n",
       "<style scoped>\n",
       "    .dataframe tbody tr th:only-of-type {\n",
       "        vertical-align: middle;\n",
       "    }\n",
       "\n",
       "    .dataframe tbody tr th {\n",
       "        vertical-align: top;\n",
       "    }\n",
       "\n",
       "    .dataframe thead th {\n",
       "        text-align: right;\n",
       "    }\n",
       "</style>\n",
       "<table border=\"1\" class=\"dataframe\">\n",
       "  <thead>\n",
       "    <tr style=\"text-align: right;\">\n",
       "      <th></th>\n",
       "      <th>make</th>\n",
       "      <th>model</th>\n",
       "      <th>year</th>\n",
       "      <th>engine_fuel_type</th>\n",
       "      <th>engine_hp</th>\n",
       "      <th>engine_cylinders</th>\n",
       "      <th>transmission_type</th>\n",
       "      <th>driven_wheels</th>\n",
       "      <th>number_of_doors</th>\n",
       "      <th>market_category</th>\n",
       "      <th>vehicle_size</th>\n",
       "      <th>vehicle_style</th>\n",
       "      <th>highway_mpg</th>\n",
       "      <th>city_mpg</th>\n",
       "      <th>popularity</th>\n",
       "      <th>door_num_2</th>\n",
       "      <th>door_num_3</th>\n",
       "      <th>door_num_4</th>\n",
       "    </tr>\n",
       "  </thead>\n",
       "  <tbody>\n",
       "    <tr>\n",
       "      <th>0</th>\n",
       "      <td>Acura</td>\n",
       "      <td>TLX</td>\n",
       "      <td>2017</td>\n",
       "      <td>premium unleaded (recommended)</td>\n",
       "      <td>290.0</td>\n",
       "      <td>6.0</td>\n",
       "      <td>AUTOMATIC</td>\n",
       "      <td>all wheel drive</td>\n",
       "      <td>4.0</td>\n",
       "      <td>Luxury</td>\n",
       "      <td>Midsize</td>\n",
       "      <td>Sedan</td>\n",
       "      <td>31</td>\n",
       "      <td>21</td>\n",
       "      <td>204</td>\n",
       "      <td>0.0</td>\n",
       "      <td>0.0</td>\n",
       "      <td>1.0</td>\n",
       "    </tr>\n",
       "    <tr>\n",
       "      <th>1</th>\n",
       "      <td>GMC</td>\n",
       "      <td>Sierra 1500 Classic</td>\n",
       "      <td>2007</td>\n",
       "      <td>flex-fuel (unleaded/E85)</td>\n",
       "      <td>295.0</td>\n",
       "      <td>8.0</td>\n",
       "      <td>AUTOMATIC</td>\n",
       "      <td>rear wheel drive</td>\n",
       "      <td>4.0</td>\n",
       "      <td>Flex Fuel</td>\n",
       "      <td>Large</td>\n",
       "      <td>Extended Cab Pickup</td>\n",
       "      <td>19</td>\n",
       "      <td>14</td>\n",
       "      <td>549</td>\n",
       "      <td>0.0</td>\n",
       "      <td>0.0</td>\n",
       "      <td>1.0</td>\n",
       "    </tr>\n",
       "    <tr>\n",
       "      <th>2</th>\n",
       "      <td>Chevrolet</td>\n",
       "      <td>Silverado 1500</td>\n",
       "      <td>2016</td>\n",
       "      <td>regular unleaded</td>\n",
       "      <td>355.0</td>\n",
       "      <td>8.0</td>\n",
       "      <td>AUTOMATIC</td>\n",
       "      <td>four wheel drive</td>\n",
       "      <td>4.0</td>\n",
       "      <td>Flex Fuel</td>\n",
       "      <td>Large</td>\n",
       "      <td>Crew Cab Pickup</td>\n",
       "      <td>22</td>\n",
       "      <td>16</td>\n",
       "      <td>1385</td>\n",
       "      <td>0.0</td>\n",
       "      <td>0.0</td>\n",
       "      <td>1.0</td>\n",
       "    </tr>\n",
       "    <tr>\n",
       "      <th>3</th>\n",
       "      <td>Audi</td>\n",
       "      <td>A4</td>\n",
       "      <td>2016</td>\n",
       "      <td>premium unleaded (required)</td>\n",
       "      <td>220.0</td>\n",
       "      <td>4.0</td>\n",
       "      <td>MANUAL</td>\n",
       "      <td>all wheel drive</td>\n",
       "      <td>4.0</td>\n",
       "      <td>Luxury</td>\n",
       "      <td>Midsize</td>\n",
       "      <td>Sedan</td>\n",
       "      <td>32</td>\n",
       "      <td>22</td>\n",
       "      <td>3105</td>\n",
       "      <td>0.0</td>\n",
       "      <td>0.0</td>\n",
       "      <td>1.0</td>\n",
       "    </tr>\n",
       "    <tr>\n",
       "      <th>4</th>\n",
       "      <td>Volkswagen</td>\n",
       "      <td>CC</td>\n",
       "      <td>2016</td>\n",
       "      <td>premium unleaded (recommended)</td>\n",
       "      <td>200.0</td>\n",
       "      <td>4.0</td>\n",
       "      <td>AUTOMATED_MANUAL</td>\n",
       "      <td>front wheel drive</td>\n",
       "      <td>4.0</td>\n",
       "      <td>Performance</td>\n",
       "      <td>Midsize</td>\n",
       "      <td>Sedan</td>\n",
       "      <td>31</td>\n",
       "      <td>22</td>\n",
       "      <td>873</td>\n",
       "      <td>0.0</td>\n",
       "      <td>0.0</td>\n",
       "      <td>1.0</td>\n",
       "    </tr>\n",
       "    <tr>\n",
       "      <th>...</th>\n",
       "      <td>...</td>\n",
       "      <td>...</td>\n",
       "      <td>...</td>\n",
       "      <td>...</td>\n",
       "      <td>...</td>\n",
       "      <td>...</td>\n",
       "      <td>...</td>\n",
       "      <td>...</td>\n",
       "      <td>...</td>\n",
       "      <td>...</td>\n",
       "      <td>...</td>\n",
       "      <td>...</td>\n",
       "      <td>...</td>\n",
       "      <td>...</td>\n",
       "      <td>...</td>\n",
       "      <td>...</td>\n",
       "      <td>...</td>\n",
       "      <td>...</td>\n",
       "    </tr>\n",
       "    <tr>\n",
       "      <th>9527</th>\n",
       "      <td>Chevrolet</td>\n",
       "      <td>Traverse</td>\n",
       "      <td>2017</td>\n",
       "      <td>regular unleaded</td>\n",
       "      <td>281.0</td>\n",
       "      <td>6.0</td>\n",
       "      <td>AUTOMATIC</td>\n",
       "      <td>front wheel drive</td>\n",
       "      <td>4.0</td>\n",
       "      <td>Crossover</td>\n",
       "      <td>Midsize</td>\n",
       "      <td>4dr SUV</td>\n",
       "      <td>22</td>\n",
       "      <td>15</td>\n",
       "      <td>1385</td>\n",
       "      <td>NaN</td>\n",
       "      <td>NaN</td>\n",
       "      <td>NaN</td>\n",
       "    </tr>\n",
       "    <tr>\n",
       "      <th>9528</th>\n",
       "      <td>Lincoln</td>\n",
       "      <td>Aviator</td>\n",
       "      <td>2005</td>\n",
       "      <td>premium unleaded (required)</td>\n",
       "      <td>302.0</td>\n",
       "      <td>8.0</td>\n",
       "      <td>AUTOMATIC</td>\n",
       "      <td>all wheel drive</td>\n",
       "      <td>4.0</td>\n",
       "      <td>Luxury</td>\n",
       "      <td>Midsize</td>\n",
       "      <td>4dr SUV</td>\n",
       "      <td>16</td>\n",
       "      <td>11</td>\n",
       "      <td>61</td>\n",
       "      <td>NaN</td>\n",
       "      <td>NaN</td>\n",
       "      <td>NaN</td>\n",
       "    </tr>\n",
       "    <tr>\n",
       "      <th>9529</th>\n",
       "      <td>Tesla</td>\n",
       "      <td>Model S</td>\n",
       "      <td>2016</td>\n",
       "      <td>electric</td>\n",
       "      <td>NaN</td>\n",
       "      <td>0.0</td>\n",
       "      <td>DIRECT_DRIVE</td>\n",
       "      <td>all wheel drive</td>\n",
       "      <td>NaN</td>\n",
       "      <td>Exotic,Performance</td>\n",
       "      <td>Large</td>\n",
       "      <td>Sedan</td>\n",
       "      <td>105</td>\n",
       "      <td>102</td>\n",
       "      <td>1391</td>\n",
       "      <td>NaN</td>\n",
       "      <td>NaN</td>\n",
       "      <td>NaN</td>\n",
       "    </tr>\n",
       "    <tr>\n",
       "      <th>9530</th>\n",
       "      <td>Pontiac</td>\n",
       "      <td>Grand Prix</td>\n",
       "      <td>2007</td>\n",
       "      <td>regular unleaded</td>\n",
       "      <td>260.0</td>\n",
       "      <td>6.0</td>\n",
       "      <td>AUTOMATIC</td>\n",
       "      <td>front wheel drive</td>\n",
       "      <td>4.0</td>\n",
       "      <td>NaN</td>\n",
       "      <td>Midsize</td>\n",
       "      <td>Sedan</td>\n",
       "      <td>26</td>\n",
       "      <td>17</td>\n",
       "      <td>210</td>\n",
       "      <td>NaN</td>\n",
       "      <td>NaN</td>\n",
       "      <td>NaN</td>\n",
       "    </tr>\n",
       "    <tr>\n",
       "      <th>9531</th>\n",
       "      <td>Rolls-Royce</td>\n",
       "      <td>Ghost Series II</td>\n",
       "      <td>2015</td>\n",
       "      <td>premium unleaded (required)</td>\n",
       "      <td>563.0</td>\n",
       "      <td>12.0</td>\n",
       "      <td>AUTOMATIC</td>\n",
       "      <td>rear wheel drive</td>\n",
       "      <td>4.0</td>\n",
       "      <td>Exotic,Luxury,Performance</td>\n",
       "      <td>Large</td>\n",
       "      <td>Sedan</td>\n",
       "      <td>21</td>\n",
       "      <td>13</td>\n",
       "      <td>86</td>\n",
       "      <td>NaN</td>\n",
       "      <td>NaN</td>\n",
       "      <td>NaN</td>\n",
       "    </tr>\n",
       "  </tbody>\n",
       "</table>\n",
       "<p>9532 rows × 18 columns</p>\n",
       "</div>"
      ],
      "text/plain": [
       "             make                model  year                engine_fuel_type  \\\n",
       "0           Acura                  TLX  2017  premium unleaded (recommended)   \n",
       "1             GMC  Sierra 1500 Classic  2007        flex-fuel (unleaded/E85)   \n",
       "2       Chevrolet       Silverado 1500  2016                regular unleaded   \n",
       "3            Audi                   A4  2016     premium unleaded (required)   \n",
       "4      Volkswagen                   CC  2016  premium unleaded (recommended)   \n",
       "...           ...                  ...   ...                             ...   \n",
       "9527    Chevrolet             Traverse  2017                regular unleaded   \n",
       "9528      Lincoln              Aviator  2005     premium unleaded (required)   \n",
       "9529        Tesla              Model S  2016                        electric   \n",
       "9530      Pontiac           Grand Prix  2007                regular unleaded   \n",
       "9531  Rolls-Royce      Ghost Series II  2015     premium unleaded (required)   \n",
       "\n",
       "      engine_hp  engine_cylinders transmission_type      driven_wheels  \\\n",
       "0         290.0               6.0         AUTOMATIC    all wheel drive   \n",
       "1         295.0               8.0         AUTOMATIC   rear wheel drive   \n",
       "2         355.0               8.0         AUTOMATIC   four wheel drive   \n",
       "3         220.0               4.0            MANUAL    all wheel drive   \n",
       "4         200.0               4.0  AUTOMATED_MANUAL  front wheel drive   \n",
       "...         ...               ...               ...                ...   \n",
       "9527      281.0               6.0         AUTOMATIC  front wheel drive   \n",
       "9528      302.0               8.0         AUTOMATIC    all wheel drive   \n",
       "9529        NaN               0.0      DIRECT_DRIVE    all wheel drive   \n",
       "9530      260.0               6.0         AUTOMATIC  front wheel drive   \n",
       "9531      563.0              12.0         AUTOMATIC   rear wheel drive   \n",
       "\n",
       "      number_of_doors            market_category vehicle_size  \\\n",
       "0                 4.0                     Luxury      Midsize   \n",
       "1                 4.0                  Flex Fuel        Large   \n",
       "2                 4.0                  Flex Fuel        Large   \n",
       "3                 4.0                     Luxury      Midsize   \n",
       "4                 4.0                Performance      Midsize   \n",
       "...               ...                        ...          ...   \n",
       "9527              4.0                  Crossover      Midsize   \n",
       "9528              4.0                     Luxury      Midsize   \n",
       "9529              NaN         Exotic,Performance        Large   \n",
       "9530              4.0                        NaN      Midsize   \n",
       "9531              4.0  Exotic,Luxury,Performance        Large   \n",
       "\n",
       "            vehicle_style  highway_mpg  city_mpg  popularity  door_num_2  \\\n",
       "0                   Sedan           31        21         204         0.0   \n",
       "1     Extended Cab Pickup           19        14         549         0.0   \n",
       "2         Crew Cab Pickup           22        16        1385         0.0   \n",
       "3                   Sedan           32        22        3105         0.0   \n",
       "4                   Sedan           31        22         873         0.0   \n",
       "...                   ...          ...       ...         ...         ...   \n",
       "9527              4dr SUV           22        15        1385         NaN   \n",
       "9528              4dr SUV           16        11          61         NaN   \n",
       "9529                Sedan          105       102        1391         NaN   \n",
       "9530                Sedan           26        17         210         NaN   \n",
       "9531                Sedan           21        13          86         NaN   \n",
       "\n",
       "      door_num_3  door_num_4  \n",
       "0            0.0         1.0  \n",
       "1            0.0         1.0  \n",
       "2            0.0         1.0  \n",
       "3            0.0         1.0  \n",
       "4            0.0         1.0  \n",
       "...          ...         ...  \n",
       "9527         NaN         NaN  \n",
       "9528         NaN         NaN  \n",
       "9529         NaN         NaN  \n",
       "9530         NaN         NaN  \n",
       "9531         NaN         NaN  \n",
       "\n",
       "[9532 rows x 18 columns]"
      ]
     },
     "execution_count": 90,
     "metadata": {},
     "output_type": "execute_result"
    }
   ],
   "source": [
    "full_df = full_df.reset_index(drop=True)\n",
    "full_df"
   ]
  },
  {
   "cell_type": "code",
   "execution_count": 91,
   "id": "7322873a",
   "metadata": {},
   "outputs": [
    {
     "data": {
      "text/plain": [
       "array([[290.,   6.,  31., ...,   0.,   0.,   0.],\n",
       "       [295.,   8.,  19., ...,   0.,   0.,   0.],\n",
       "       [355.,   8.,  22., ...,   0.,   0.,   0.],\n",
       "       ...,\n",
       "       [  0.,   0., 105., ...,   0.,   0.,   0.],\n",
       "       [260.,   6.,  26., ...,   0.,   0.,   0.],\n",
       "       [563.,  12.,  21., ...,   0.,   0.,   0.]])"
      ]
     },
     "execution_count": 91,
     "metadata": {},
     "output_type": "execute_result"
    }
   ],
   "source": [
    "X_full_train = prepare_X(full_df)\n",
    "X_full_train"
   ]
  },
  {
   "cell_type": "code",
   "execution_count": 95,
   "id": "50c033bd",
   "metadata": {},
   "outputs": [],
   "source": [
    "y_full_train = np.concatenate([y_train, y_val_df])"
   ]
  },
  {
   "cell_type": "code",
   "execution_count": 96,
   "id": "775ba5d3",
   "metadata": {},
   "outputs": [],
   "source": [
    "W0, W = train_linear_regression_reg(X_full_train, y_full_train, r)"
   ]
  },
  {
   "cell_type": "code",
   "execution_count": 97,
   "id": "f8ed9881",
   "metadata": {},
   "outputs": [
    {
     "data": {
      "text/plain": [
       "(5.7915350026622585,\n",
       " array([ 1.48269971e-03,  1.09557500e-01, -3.05482872e-02,  1.19208641e-02,\n",
       "        -4.85822947e-05, -9.96259653e-02,  4.80907368e-01,  3.00546983e-01,\n",
       "         6.08572883e-01, -3.28983173e-02,  1.58188781e-01,  7.84808644e-03,\n",
       "        -1.24689708e-01, -7.98373275e-02, -4.09431650e-01,  1.32983473e-01,\n",
       "        -2.48684960e-01, -4.74374422e-01,  8.43735982e-02,  9.65116790e-01,\n",
       "         7.72388942e-01,  9.94461752e-01,  2.69304105e+00,  3.66526470e-01,\n",
       "         1.52783776e+00,  1.38672151e+00,  1.49376108e+00,  1.38321465e+00,\n",
       "        -7.47315536e-02,  3.12053730e-02, -5.85991342e-02, -1.89083770e-02,\n",
       "         2.02883510e-02,  2.00969941e+00,  1.89681558e+00,  1.88502002e+00,\n",
       "         3.71459186e-02,  4.43195030e-02,  2.35197864e-01,  3.63378808e-01,\n",
       "        -1.22163975e-01]))"
      ]
     },
     "execution_count": 97,
     "metadata": {},
     "output_type": "execute_result"
    }
   ],
   "source": [
    "W0,W"
   ]
  },
  {
   "cell_type": "code",
   "execution_count": 98,
   "id": "18f49434",
   "metadata": {},
   "outputs": [
    {
     "data": {
      "text/plain": [
       "0.5100874972299303"
      ]
     },
     "execution_count": 98,
     "metadata": {},
     "output_type": "execute_result"
    }
   ],
   "source": [
    "X_test = prepare_X(test_df)\n",
    "y_pred = W0 + X_test.dot(W)\n",
    "rmse(y_test_df, y_pred)"
   ]
  },
  {
   "cell_type": "code",
   "execution_count": 101,
   "id": "098b747a",
   "metadata": {},
   "outputs": [
    {
     "data": {
      "text/plain": [
       "{'make': 'Ford',\n",
       " 'model': 'Mustang',\n",
       " 'year': 2016,\n",
       " 'engine_fuel_type': 'regular unleaded',\n",
       " 'engine_hp': 300.0,\n",
       " 'engine_cylinders': 6.0,\n",
       " 'transmission_type': 'MANUAL',\n",
       " 'driven_wheels': 'rear wheel drive',\n",
       " 'number_of_doors': 2.0,\n",
       " 'market_category': 'Performance',\n",
       " 'vehicle_size': 'Midsize',\n",
       " 'vehicle_style': 'Coupe',\n",
       " 'highway_mpg': 28,\n",
       " 'city_mpg': 17,\n",
       " 'popularity': 5657}"
      ]
     },
     "execution_count": 101,
     "metadata": {},
     "output_type": "execute_result"
    }
   ],
   "source": [
    "#let's use the model to predict a car\n",
    "car = test_df.iloc[10].to_dict()\n",
    "car"
   ]
  },
  {
   "cell_type": "code",
   "execution_count": 102,
   "id": "4ca3d557",
   "metadata": {},
   "outputs": [
    {
     "data": {
      "text/html": [
       "<div>\n",
       "<style scoped>\n",
       "    .dataframe tbody tr th:only-of-type {\n",
       "        vertical-align: middle;\n",
       "    }\n",
       "\n",
       "    .dataframe tbody tr th {\n",
       "        vertical-align: top;\n",
       "    }\n",
       "\n",
       "    .dataframe thead th {\n",
       "        text-align: right;\n",
       "    }\n",
       "</style>\n",
       "<table border=\"1\" class=\"dataframe\">\n",
       "  <thead>\n",
       "    <tr style=\"text-align: right;\">\n",
       "      <th></th>\n",
       "      <th>make</th>\n",
       "      <th>model</th>\n",
       "      <th>year</th>\n",
       "      <th>engine_fuel_type</th>\n",
       "      <th>engine_hp</th>\n",
       "      <th>engine_cylinders</th>\n",
       "      <th>transmission_type</th>\n",
       "      <th>driven_wheels</th>\n",
       "      <th>number_of_doors</th>\n",
       "      <th>market_category</th>\n",
       "      <th>vehicle_size</th>\n",
       "      <th>vehicle_style</th>\n",
       "      <th>highway_mpg</th>\n",
       "      <th>city_mpg</th>\n",
       "      <th>popularity</th>\n",
       "    </tr>\n",
       "  </thead>\n",
       "  <tbody>\n",
       "    <tr>\n",
       "      <th>0</th>\n",
       "      <td>Ford</td>\n",
       "      <td>Mustang</td>\n",
       "      <td>2016</td>\n",
       "      <td>regular unleaded</td>\n",
       "      <td>300.0</td>\n",
       "      <td>6.0</td>\n",
       "      <td>MANUAL</td>\n",
       "      <td>rear wheel drive</td>\n",
       "      <td>2.0</td>\n",
       "      <td>Performance</td>\n",
       "      <td>Midsize</td>\n",
       "      <td>Coupe</td>\n",
       "      <td>28</td>\n",
       "      <td>17</td>\n",
       "      <td>5657</td>\n",
       "    </tr>\n",
       "  </tbody>\n",
       "</table>\n",
       "</div>"
      ],
      "text/plain": [
       "   make    model  year  engine_fuel_type  engine_hp  engine_cylinders  \\\n",
       "0  Ford  Mustang  2016  regular unleaded      300.0               6.0   \n",
       "\n",
       "  transmission_type     driven_wheels  number_of_doors market_category  \\\n",
       "0            MANUAL  rear wheel drive              2.0     Performance   \n",
       "\n",
       "  vehicle_size vehicle_style  highway_mpg  city_mpg  popularity  \n",
       "0      Midsize         Coupe           28        17        5657  "
      ]
     },
     "execution_count": 102,
     "metadata": {},
     "output_type": "execute_result"
    }
   ],
   "source": [
    "df_car = pd.DataFrame([car])\n",
    "df_car"
   ]
  },
  {
   "cell_type": "code",
   "execution_count": 103,
   "id": "7a041865",
   "metadata": {},
   "outputs": [],
   "source": [
    "X_small = prepare_X(df_car)"
   ]
  },
  {
   "cell_type": "code",
   "execution_count": 104,
   "id": "f1b33922",
   "metadata": {},
   "outputs": [
    {
     "data": {
      "text/plain": [
       "array([10.48695091])"
      ]
     },
     "execution_count": 104,
     "metadata": {},
     "output_type": "execute_result"
    }
   ],
   "source": [
    "y_pred = W0 + X_small.dot(W)\n",
    "y_pred"
   ]
  },
  {
   "cell_type": "code",
   "execution_count": 106,
   "id": "55a6b7c4",
   "metadata": {},
   "outputs": [
    {
     "data": {
      "text/plain": [
       "35843.69700462565"
      ]
     },
     "execution_count": 106,
     "metadata": {},
     "output_type": "execute_result"
    }
   ],
   "source": [
    "np.expm1(y_pred[0])"
   ]
  },
  {
   "cell_type": "code",
   "execution_count": 114,
   "id": "cfb0e6e2",
   "metadata": {},
   "outputs": [
    {
     "data": {
      "text/plain": [
       "10.091874013892333"
      ]
     },
     "execution_count": 114,
     "metadata": {},
     "output_type": "execute_result"
    }
   ],
   "source": [
    "y_test_df[10]"
   ]
  },
  {
   "cell_type": "code",
   "execution_count": 116,
   "id": "65139713",
   "metadata": {},
   "outputs": [
    {
     "data": {
      "text/plain": [
       "24145.000000000015"
      ]
     },
     "execution_count": 116,
     "metadata": {},
     "output_type": "execute_result"
    }
   ],
   "source": [
    "np.expm1(10.091874013892333)"
   ]
  },
  {
   "cell_type": "markdown",
   "id": "9beb1e0a",
   "metadata": {},
   "source": [
    "#### The Model gives fair prediction"
   ]
  },
  {
   "cell_type": "code",
   "execution_count": null,
   "id": "372c613e",
   "metadata": {},
   "outputs": [],
   "source": []
  }
 ],
 "metadata": {
  "kernelspec": {
   "display_name": "Python 3 (ipykernel)",
   "language": "python",
   "name": "python3"
  },
  "language_info": {
   "codemirror_mode": {
    "name": "ipython",
    "version": 3
   },
   "file_extension": ".py",
   "mimetype": "text/x-python",
   "name": "python",
   "nbconvert_exporter": "python",
   "pygments_lexer": "ipython3",
   "version": "3.11.4"
  }
 },
 "nbformat": 4,
 "nbformat_minor": 5
}
