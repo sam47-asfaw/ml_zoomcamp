{
 "cells": [
  {
   "cell_type": "code",
   "execution_count": 2,
   "id": "eacff6c3",
   "metadata": {},
   "outputs": [],
   "source": [
    "import pandas as pd\n",
    "import numpy as np\n",
    "import matplotlib.pyplot as plt\n",
    "%matplotlib inline\n",
    "import seaborn as sns"
   ]
  },
  {
   "cell_type": "code",
   "execution_count": null,
   "id": "2a17aa40",
   "metadata": {},
   "outputs": [],
   "source": []
  },
  {
   "cell_type": "markdown",
   "id": "a5cd3e3d",
   "metadata": {},
   "source": [
    "#### Data Acquisition"
   ]
  },
  {
   "cell_type": "code",
   "execution_count": 3,
   "id": "9d05189b",
   "metadata": {},
   "outputs": [
    {
     "data": {
      "text/html": [
       "<div>\n",
       "<style scoped>\n",
       "    .dataframe tbody tr th:only-of-type {\n",
       "        vertical-align: middle;\n",
       "    }\n",
       "\n",
       "    .dataframe tbody tr th {\n",
       "        vertical-align: top;\n",
       "    }\n",
       "\n",
       "    .dataframe thead th {\n",
       "        text-align: right;\n",
       "    }\n",
       "</style>\n",
       "<table border=\"1\" class=\"dataframe\">\n",
       "  <thead>\n",
       "    <tr style=\"text-align: right;\">\n",
       "      <th></th>\n",
       "      <th>Make</th>\n",
       "      <th>Model</th>\n",
       "      <th>Year</th>\n",
       "      <th>Engine Fuel Type</th>\n",
       "      <th>Engine HP</th>\n",
       "      <th>Engine Cylinders</th>\n",
       "      <th>Transmission Type</th>\n",
       "      <th>Driven_Wheels</th>\n",
       "      <th>Number of Doors</th>\n",
       "      <th>Market Category</th>\n",
       "      <th>Vehicle Size</th>\n",
       "      <th>Vehicle Style</th>\n",
       "      <th>highway MPG</th>\n",
       "      <th>city mpg</th>\n",
       "      <th>Popularity</th>\n",
       "      <th>MSRP</th>\n",
       "    </tr>\n",
       "  </thead>\n",
       "  <tbody>\n",
       "    <tr>\n",
       "      <th>0</th>\n",
       "      <td>BMW</td>\n",
       "      <td>1 Series M</td>\n",
       "      <td>2011</td>\n",
       "      <td>premium unleaded (required)</td>\n",
       "      <td>335.0</td>\n",
       "      <td>6.0</td>\n",
       "      <td>MANUAL</td>\n",
       "      <td>rear wheel drive</td>\n",
       "      <td>2.0</td>\n",
       "      <td>Factory Tuner,Luxury,High-Performance</td>\n",
       "      <td>Compact</td>\n",
       "      <td>Coupe</td>\n",
       "      <td>26</td>\n",
       "      <td>19</td>\n",
       "      <td>3916</td>\n",
       "      <td>46135</td>\n",
       "    </tr>\n",
       "    <tr>\n",
       "      <th>1</th>\n",
       "      <td>BMW</td>\n",
       "      <td>1 Series</td>\n",
       "      <td>2011</td>\n",
       "      <td>premium unleaded (required)</td>\n",
       "      <td>300.0</td>\n",
       "      <td>6.0</td>\n",
       "      <td>MANUAL</td>\n",
       "      <td>rear wheel drive</td>\n",
       "      <td>2.0</td>\n",
       "      <td>Luxury,Performance</td>\n",
       "      <td>Compact</td>\n",
       "      <td>Convertible</td>\n",
       "      <td>28</td>\n",
       "      <td>19</td>\n",
       "      <td>3916</td>\n",
       "      <td>40650</td>\n",
       "    </tr>\n",
       "    <tr>\n",
       "      <th>2</th>\n",
       "      <td>BMW</td>\n",
       "      <td>1 Series</td>\n",
       "      <td>2011</td>\n",
       "      <td>premium unleaded (required)</td>\n",
       "      <td>300.0</td>\n",
       "      <td>6.0</td>\n",
       "      <td>MANUAL</td>\n",
       "      <td>rear wheel drive</td>\n",
       "      <td>2.0</td>\n",
       "      <td>Luxury,High-Performance</td>\n",
       "      <td>Compact</td>\n",
       "      <td>Coupe</td>\n",
       "      <td>28</td>\n",
       "      <td>20</td>\n",
       "      <td>3916</td>\n",
       "      <td>36350</td>\n",
       "    </tr>\n",
       "    <tr>\n",
       "      <th>3</th>\n",
       "      <td>BMW</td>\n",
       "      <td>1 Series</td>\n",
       "      <td>2011</td>\n",
       "      <td>premium unleaded (required)</td>\n",
       "      <td>230.0</td>\n",
       "      <td>6.0</td>\n",
       "      <td>MANUAL</td>\n",
       "      <td>rear wheel drive</td>\n",
       "      <td>2.0</td>\n",
       "      <td>Luxury,Performance</td>\n",
       "      <td>Compact</td>\n",
       "      <td>Coupe</td>\n",
       "      <td>28</td>\n",
       "      <td>18</td>\n",
       "      <td>3916</td>\n",
       "      <td>29450</td>\n",
       "    </tr>\n",
       "    <tr>\n",
       "      <th>4</th>\n",
       "      <td>BMW</td>\n",
       "      <td>1 Series</td>\n",
       "      <td>2011</td>\n",
       "      <td>premium unleaded (required)</td>\n",
       "      <td>230.0</td>\n",
       "      <td>6.0</td>\n",
       "      <td>MANUAL</td>\n",
       "      <td>rear wheel drive</td>\n",
       "      <td>2.0</td>\n",
       "      <td>Luxury</td>\n",
       "      <td>Compact</td>\n",
       "      <td>Convertible</td>\n",
       "      <td>28</td>\n",
       "      <td>18</td>\n",
       "      <td>3916</td>\n",
       "      <td>34500</td>\n",
       "    </tr>\n",
       "  </tbody>\n",
       "</table>\n",
       "</div>"
      ],
      "text/plain": [
       "  Make       Model  Year             Engine Fuel Type  Engine HP  \\\n",
       "0  BMW  1 Series M  2011  premium unleaded (required)      335.0   \n",
       "1  BMW    1 Series  2011  premium unleaded (required)      300.0   \n",
       "2  BMW    1 Series  2011  premium unleaded (required)      300.0   \n",
       "3  BMW    1 Series  2011  premium unleaded (required)      230.0   \n",
       "4  BMW    1 Series  2011  premium unleaded (required)      230.0   \n",
       "\n",
       "   Engine Cylinders Transmission Type     Driven_Wheels  Number of Doors  \\\n",
       "0               6.0            MANUAL  rear wheel drive              2.0   \n",
       "1               6.0            MANUAL  rear wheel drive              2.0   \n",
       "2               6.0            MANUAL  rear wheel drive              2.0   \n",
       "3               6.0            MANUAL  rear wheel drive              2.0   \n",
       "4               6.0            MANUAL  rear wheel drive              2.0   \n",
       "\n",
       "                         Market Category Vehicle Size Vehicle Style  \\\n",
       "0  Factory Tuner,Luxury,High-Performance      Compact         Coupe   \n",
       "1                     Luxury,Performance      Compact   Convertible   \n",
       "2                Luxury,High-Performance      Compact         Coupe   \n",
       "3                     Luxury,Performance      Compact         Coupe   \n",
       "4                                 Luxury      Compact   Convertible   \n",
       "\n",
       "   highway MPG  city mpg  Popularity   MSRP  \n",
       "0           26        19        3916  46135  \n",
       "1           28        19        3916  40650  \n",
       "2           28        20        3916  36350  \n",
       "3           28        18        3916  29450  \n",
       "4           28        18        3916  34500  "
      ]
     },
     "execution_count": 3,
     "metadata": {},
     "output_type": "execute_result"
    }
   ],
   "source": [
    "df = pd.read_csv('data.csv')\n",
    "df.head(5)"
   ]
  },
  {
   "cell_type": "code",
   "execution_count": null,
   "id": "03c20261",
   "metadata": {},
   "outputs": [],
   "source": []
  },
  {
   "cell_type": "markdown",
   "id": "02c188a5",
   "metadata": {},
   "source": [
    "### Exploratory Data Analysis"
   ]
  },
  {
   "cell_type": "code",
   "execution_count": 4,
   "id": "bc45a6a5",
   "metadata": {},
   "outputs": [
    {
     "data": {
      "text/plain": [
       "Index(['Make', 'Model', 'Year', 'Engine Fuel Type', 'Engine HP',\n",
       "       'Engine Cylinders', 'Transmission Type', 'Driven_Wheels',\n",
       "       'Number of Doors', 'Market Category', 'Vehicle Size', 'Vehicle Style',\n",
       "       'highway MPG', 'city mpg', 'Popularity', 'MSRP'],\n",
       "      dtype='object')"
      ]
     },
     "execution_count": 4,
     "metadata": {},
     "output_type": "execute_result"
    }
   ],
   "source": [
    "df.columns"
   ]
  },
  {
   "cell_type": "code",
   "execution_count": 5,
   "id": "edfb9627",
   "metadata": {},
   "outputs": [
    {
     "data": {
      "text/plain": [
       "Index(['make', 'model', 'year', 'engine_fuel_type', 'engine_hp',\n",
       "       'engine_cylinders', 'transmission_type', 'driven_wheels',\n",
       "       'number_of_doors', 'market_category', 'vehicle_size', 'vehicle_style',\n",
       "       'highway_mpg', 'city_mpg', 'popularity', 'msrp'],\n",
       "      dtype='object')"
      ]
     },
     "execution_count": 5,
     "metadata": {},
     "output_type": "execute_result"
    }
   ],
   "source": [
    "# make the indexes of the column names uniform\n",
    "df.columns = df.columns.str.lower().str.replace(' ', '_')\n",
    "df.columns\n"
   ]
  },
  {
   "cell_type": "code",
   "execution_count": null,
   "id": "bcdd1593",
   "metadata": {},
   "outputs": [],
   "source": []
  },
  {
   "cell_type": "code",
   "execution_count": 6,
   "id": "2bb2a8e9",
   "metadata": {},
   "outputs": [
    {
     "data": {
      "text/plain": [
       "['make',\n",
       " 'model',\n",
       " 'engine_fuel_type',\n",
       " 'transmission_type',\n",
       " 'driven_wheels',\n",
       " 'market_category',\n",
       " 'vehicle_size',\n",
       " 'vehicle_style']"
      ]
     },
     "execution_count": 6,
     "metadata": {},
     "output_type": "execute_result"
    }
   ],
   "source": [
    "# make the string values of rows uniform\n",
    "strings = list(df.select_dtypes('object'))\n",
    "strings"
   ]
  },
  {
   "cell_type": "code",
   "execution_count": 7,
   "id": "36512374",
   "metadata": {},
   "outputs": [],
   "source": [
    "for col in strings:\n",
    "    df[strings].apply(lambda x : x.str.lower().str.replace(' ','_'))"
   ]
  },
  {
   "cell_type": "code",
   "execution_count": 8,
   "id": "e4db4fc2",
   "metadata": {},
   "outputs": [
    {
     "data": {
      "text/html": [
       "<div>\n",
       "<style scoped>\n",
       "    .dataframe tbody tr th:only-of-type {\n",
       "        vertical-align: middle;\n",
       "    }\n",
       "\n",
       "    .dataframe tbody tr th {\n",
       "        vertical-align: top;\n",
       "    }\n",
       "\n",
       "    .dataframe thead th {\n",
       "        text-align: right;\n",
       "    }\n",
       "</style>\n",
       "<table border=\"1\" class=\"dataframe\">\n",
       "  <thead>\n",
       "    <tr style=\"text-align: right;\">\n",
       "      <th></th>\n",
       "      <th>make</th>\n",
       "      <th>model</th>\n",
       "      <th>year</th>\n",
       "      <th>engine_fuel_type</th>\n",
       "      <th>engine_hp</th>\n",
       "      <th>engine_cylinders</th>\n",
       "      <th>transmission_type</th>\n",
       "      <th>driven_wheels</th>\n",
       "      <th>number_of_doors</th>\n",
       "      <th>market_category</th>\n",
       "      <th>vehicle_size</th>\n",
       "      <th>vehicle_style</th>\n",
       "      <th>highway_mpg</th>\n",
       "      <th>city_mpg</th>\n",
       "      <th>popularity</th>\n",
       "      <th>msrp</th>\n",
       "    </tr>\n",
       "  </thead>\n",
       "  <tbody>\n",
       "    <tr>\n",
       "      <th>0</th>\n",
       "      <td>BMW</td>\n",
       "      <td>1 Series M</td>\n",
       "      <td>2011</td>\n",
       "      <td>premium unleaded (required)</td>\n",
       "      <td>335.0</td>\n",
       "      <td>6.0</td>\n",
       "      <td>MANUAL</td>\n",
       "      <td>rear wheel drive</td>\n",
       "      <td>2.0</td>\n",
       "      <td>Factory Tuner,Luxury,High-Performance</td>\n",
       "      <td>Compact</td>\n",
       "      <td>Coupe</td>\n",
       "      <td>26</td>\n",
       "      <td>19</td>\n",
       "      <td>3916</td>\n",
       "      <td>46135</td>\n",
       "    </tr>\n",
       "    <tr>\n",
       "      <th>1</th>\n",
       "      <td>BMW</td>\n",
       "      <td>1 Series</td>\n",
       "      <td>2011</td>\n",
       "      <td>premium unleaded (required)</td>\n",
       "      <td>300.0</td>\n",
       "      <td>6.0</td>\n",
       "      <td>MANUAL</td>\n",
       "      <td>rear wheel drive</td>\n",
       "      <td>2.0</td>\n",
       "      <td>Luxury,Performance</td>\n",
       "      <td>Compact</td>\n",
       "      <td>Convertible</td>\n",
       "      <td>28</td>\n",
       "      <td>19</td>\n",
       "      <td>3916</td>\n",
       "      <td>40650</td>\n",
       "    </tr>\n",
       "    <tr>\n",
       "      <th>2</th>\n",
       "      <td>BMW</td>\n",
       "      <td>1 Series</td>\n",
       "      <td>2011</td>\n",
       "      <td>premium unleaded (required)</td>\n",
       "      <td>300.0</td>\n",
       "      <td>6.0</td>\n",
       "      <td>MANUAL</td>\n",
       "      <td>rear wheel drive</td>\n",
       "      <td>2.0</td>\n",
       "      <td>Luxury,High-Performance</td>\n",
       "      <td>Compact</td>\n",
       "      <td>Coupe</td>\n",
       "      <td>28</td>\n",
       "      <td>20</td>\n",
       "      <td>3916</td>\n",
       "      <td>36350</td>\n",
       "    </tr>\n",
       "    <tr>\n",
       "      <th>3</th>\n",
       "      <td>BMW</td>\n",
       "      <td>1 Series</td>\n",
       "      <td>2011</td>\n",
       "      <td>premium unleaded (required)</td>\n",
       "      <td>230.0</td>\n",
       "      <td>6.0</td>\n",
       "      <td>MANUAL</td>\n",
       "      <td>rear wheel drive</td>\n",
       "      <td>2.0</td>\n",
       "      <td>Luxury,Performance</td>\n",
       "      <td>Compact</td>\n",
       "      <td>Coupe</td>\n",
       "      <td>28</td>\n",
       "      <td>18</td>\n",
       "      <td>3916</td>\n",
       "      <td>29450</td>\n",
       "    </tr>\n",
       "    <tr>\n",
       "      <th>4</th>\n",
       "      <td>BMW</td>\n",
       "      <td>1 Series</td>\n",
       "      <td>2011</td>\n",
       "      <td>premium unleaded (required)</td>\n",
       "      <td>230.0</td>\n",
       "      <td>6.0</td>\n",
       "      <td>MANUAL</td>\n",
       "      <td>rear wheel drive</td>\n",
       "      <td>2.0</td>\n",
       "      <td>Luxury</td>\n",
       "      <td>Compact</td>\n",
       "      <td>Convertible</td>\n",
       "      <td>28</td>\n",
       "      <td>18</td>\n",
       "      <td>3916</td>\n",
       "      <td>34500</td>\n",
       "    </tr>\n",
       "  </tbody>\n",
       "</table>\n",
       "</div>"
      ],
      "text/plain": [
       "  make       model  year             engine_fuel_type  engine_hp  \\\n",
       "0  BMW  1 Series M  2011  premium unleaded (required)      335.0   \n",
       "1  BMW    1 Series  2011  premium unleaded (required)      300.0   \n",
       "2  BMW    1 Series  2011  premium unleaded (required)      300.0   \n",
       "3  BMW    1 Series  2011  premium unleaded (required)      230.0   \n",
       "4  BMW    1 Series  2011  premium unleaded (required)      230.0   \n",
       "\n",
       "   engine_cylinders transmission_type     driven_wheels  number_of_doors  \\\n",
       "0               6.0            MANUAL  rear wheel drive              2.0   \n",
       "1               6.0            MANUAL  rear wheel drive              2.0   \n",
       "2               6.0            MANUAL  rear wheel drive              2.0   \n",
       "3               6.0            MANUAL  rear wheel drive              2.0   \n",
       "4               6.0            MANUAL  rear wheel drive              2.0   \n",
       "\n",
       "                         market_category vehicle_size vehicle_style  \\\n",
       "0  Factory Tuner,Luxury,High-Performance      Compact         Coupe   \n",
       "1                     Luxury,Performance      Compact   Convertible   \n",
       "2                Luxury,High-Performance      Compact         Coupe   \n",
       "3                     Luxury,Performance      Compact         Coupe   \n",
       "4                                 Luxury      Compact   Convertible   \n",
       "\n",
       "   highway_mpg  city_mpg  popularity   msrp  \n",
       "0           26        19        3916  46135  \n",
       "1           28        19        3916  40650  \n",
       "2           28        20        3916  36350  \n",
       "3           28        18        3916  29450  \n",
       "4           28        18        3916  34500  "
      ]
     },
     "execution_count": 8,
     "metadata": {},
     "output_type": "execute_result"
    }
   ],
   "source": [
    "df.head(5)"
   ]
  },
  {
   "cell_type": "code",
   "execution_count": 9,
   "id": "ba1ff8d4",
   "metadata": {},
   "outputs": [
    {
     "data": {
      "text/plain": [
       "make                  object\n",
       "model                 object\n",
       "year                   int64\n",
       "engine_fuel_type      object\n",
       "engine_hp            float64\n",
       "engine_cylinders     float64\n",
       "transmission_type     object\n",
       "driven_wheels         object\n",
       "number_of_doors      float64\n",
       "market_category       object\n",
       "vehicle_size          object\n",
       "vehicle_style         object\n",
       "highway_mpg            int64\n",
       "city_mpg               int64\n",
       "popularity             int64\n",
       "msrp                   int64\n",
       "dtype: object"
      ]
     },
     "execution_count": 9,
     "metadata": {},
     "output_type": "execute_result"
    }
   ],
   "source": [
    "df.dtypes"
   ]
  },
  {
   "cell_type": "code",
   "execution_count": null,
   "id": "c3e5416d",
   "metadata": {},
   "outputs": [],
   "source": []
  },
  {
   "cell_type": "code",
   "execution_count": 10,
   "id": "d34d9d86",
   "metadata": {},
   "outputs": [
    {
     "name": "stdout",
     "output_type": "stream",
     "text": [
      "make\n",
      "['BMW' 'Audi' 'FIAT' 'Mercedes-Benz' 'Chrysler']\n",
      "48\n",
      "\n",
      "model\n",
      "['1 Series M' '1 Series' '100' '124 Spider' '190-Class']\n",
      "915\n",
      "\n",
      "year\n",
      "[2011 2012 2013 1992 1993]\n",
      "28\n",
      "\n",
      "engine_fuel_type\n",
      "['premium unleaded (required)' 'regular unleaded'\n",
      " 'premium unleaded (recommended)' 'flex-fuel (unleaded/E85)' 'diesel']\n",
      "10\n",
      "\n",
      "engine_hp\n",
      "[335. 300. 230. 320. 172.]\n",
      "356\n",
      "\n",
      "engine_cylinders\n",
      "[ 6.  4.  5.  8. 12.]\n",
      "9\n",
      "\n",
      "transmission_type\n",
      "['MANUAL' 'AUTOMATIC' 'AUTOMATED_MANUAL' 'DIRECT_DRIVE' 'UNKNOWN']\n",
      "5\n",
      "\n",
      "driven_wheels\n",
      "['rear wheel drive' 'front wheel drive' 'all wheel drive'\n",
      " 'four wheel drive']\n",
      "4\n",
      "\n",
      "number_of_doors\n",
      "[ 2.  4.  3. nan]\n",
      "3\n",
      "\n",
      "market_category\n",
      "['Factory Tuner,Luxury,High-Performance' 'Luxury,Performance'\n",
      " 'Luxury,High-Performance' 'Luxury' 'Performance']\n",
      "71\n",
      "\n",
      "vehicle_size\n",
      "['Compact' 'Midsize' 'Large']\n",
      "3\n",
      "\n",
      "vehicle_style\n",
      "['Coupe' 'Convertible' 'Sedan' 'Wagon' '4dr Hatchback']\n",
      "16\n",
      "\n",
      "highway_mpg\n",
      "[26 28 27 25 24]\n",
      "59\n",
      "\n",
      "city_mpg\n",
      "[19 20 18 17 16]\n",
      "69\n",
      "\n",
      "popularity\n",
      "[3916 3105  819  617 1013]\n",
      "48\n",
      "\n",
      "msrp\n",
      "[46135 40650 36350 29450 34500]\n",
      "6049\n",
      "\n"
     ]
    }
   ],
   "source": [
    "for col in df.columns:\n",
    "    print(col)\n",
    "    print(df[col].unique()[:5])\n",
    "    print(df[col].nunique())\n",
    "    print()"
   ]
  },
  {
   "cell_type": "code",
   "execution_count": 11,
   "id": "1d5e7112",
   "metadata": {},
   "outputs": [
    {
     "data": {
      "text/plain": [
       "<Axes: xlabel='msrp', ylabel='Count'>"
      ]
     },
     "execution_count": 11,
     "metadata": {},
     "output_type": "execute_result"
    },
    {
     "data": {
      "image/png": "[encoded data removed]",
      "text/plain": [
       "<Figure size 640x480 with 1 Axes>"
      ]
     },
     "metadata": {},
     "output_type": "display_data"
    }
   ],
   "source": [
    "#visualize the MRSP price\n",
    "sns.histplot(df.msrp[df['msrp'] < 100000] , bins = 50)"
   ]
  },
  {
   "cell_type": "code",
   "execution_count": 12,
   "id": "4f4b50dc",
   "metadata": {},
   "outputs": [
    {
     "data": {
      "text/plain": [
       "0        10.739349\n",
       "1        10.612779\n",
       "2        10.500977\n",
       "3        10.290483\n",
       "4        10.448744\n",
       "           ...    \n",
       "11909    10.739024\n",
       "11910    10.945018\n",
       "11911    10.832122\n",
       "11912    10.838031\n",
       "11913    10.274913\n",
       "Name: msrp, Length: 11914, dtype: float64"
      ]
     },
     "execution_count": 12,
     "metadata": {},
     "output_type": "execute_result"
    }
   ],
   "source": [
    "#From the graph we can see it is a tail end graph\n",
    "# Apply Logarithmic function to avoid confusing the ML model(remove the tail-end of graph)\n",
    "log_price = np.log1p(df['msrp'])\n",
    "log_price"
   ]
  },
  {
   "cell_type": "code",
   "execution_count": 13,
   "id": "307ce51e",
   "metadata": {},
   "outputs": [
    {
     "data": {
      "text/plain": [
       "<Axes: xlabel='msrp', ylabel='Count'>"
      ]
     },
     "execution_count": 13,
     "metadata": {},
     "output_type": "execute_result"
    },
    {
     "data": {
      "image/png": "[encoded data removed]",
      "text/plain": [
       "<Figure size 640x480 with 1 Axes>"
      ]
     },
     "metadata": {},
     "output_type": "display_data"
    }
   ],
   "source": [
    "sns.histplot(log_price, bins= 50)"
   ]
  },
  {
   "cell_type": "code",
   "execution_count": 14,
   "id": "0a542cfe",
   "metadata": {},
   "outputs": [],
   "source": [
    "#Now the graph resembels a bell curve"
   ]
  },
  {
   "cell_type": "markdown",
   "id": "1744fcb7",
   "metadata": {},
   "source": [
    "#### Check & clean missing values"
   ]
  },
  {
   "cell_type": "code",
   "execution_count": 15,
   "id": "8730d0e8",
   "metadata": {},
   "outputs": [
    {
     "data": {
      "text/plain": [
       "make                    0\n",
       "model                   0\n",
       "year                    0\n",
       "engine_fuel_type        3\n",
       "engine_hp              69\n",
       "engine_cylinders       30\n",
       "transmission_type       0\n",
       "driven_wheels           0\n",
       "number_of_doors         6\n",
       "market_category      3742\n",
       "vehicle_size            0\n",
       "vehicle_style           0\n",
       "highway_mpg             0\n",
       "city_mpg                0\n",
       "popularity              0\n",
       "msrp                    0\n",
       "dtype: int64"
      ]
     },
     "execution_count": 15,
     "metadata": {},
     "output_type": "execute_result"
    }
   ],
   "source": [
    "df.isna().sum()"
   ]
  },
  {
   "cell_type": "code",
   "execution_count": null,
   "id": "b966fb02",
   "metadata": {},
   "outputs": [],
   "source": []
  },
  {
   "cell_type": "markdown",
   "id": "4429822c",
   "metadata": {},
   "source": [
    "### Setting Up Validation Framework \n",
    "###### Train -- Validation -- Test\n",
    "###### 60% of data for Train \n",
    "###### 20% of data for Validation\n",
    "###### 20% of data for Testing"
   ]
  },
  {
   "cell_type": "code",
   "execution_count": 16,
   "id": "14e75775",
   "metadata": {},
   "outputs": [
    {
     "data": {
      "text/plain": [
       "11914"
      ]
     },
     "execution_count": 16,
     "metadata": {},
     "output_type": "execute_result"
    }
   ],
   "source": [
    "# size of data\n",
    "size = len(df)\n",
    "size"
   ]
  },
  {
   "cell_type": "code",
   "execution_count": 17,
   "id": "8de2521c",
   "metadata": {},
   "outputs": [
    {
     "data": {
      "text/plain": [
       "(2382, 2382, 7150)"
      ]
     },
     "execution_count": 17,
     "metadata": {},
     "output_type": "execute_result"
    }
   ],
   "source": [
    "#calculate how much is needed for validation,testing and training\n",
    "val_size = int(size * 0.2)\n",
    "test_size = int(size * 0.2)\n",
    "\n",
    "#since the above values are rounded, we subtract the sum of the val_size and test_size from size of dataset\n",
    "train_size = size - (val_size + test_size)\n",
    "\n",
    "val_size , test_size , train_size\n",
    "#size,val_size + test_size + train_size"
   ]
  },
  {
   "cell_type": "code",
   "execution_count": 18,
   "id": "b9d6b43d",
   "metadata": {},
   "outputs": [],
   "source": [
    "#define validation, test and train datasets\n",
    "# the dataset has to be shuffled inorder to distribute all features uniformly \n",
    "train_df = df.iloc[train_size :]\n",
    "val_df = df.iloc[train_size: train_size + val_size]\n",
    "test_df = df.iloc[train_size + val_size: ]"
   ]
  },
  {
   "cell_type": "code",
   "execution_count": null,
   "id": "6b7798ed",
   "metadata": {},
   "outputs": [],
   "source": []
  },
  {
   "cell_type": "code",
   "execution_count": 19,
   "id": "17420986",
   "metadata": {},
   "outputs": [
    {
     "data": {
      "text/plain": [
       "array([10353,  4772,  8996, ...,   619,  6692,  4745])"
      ]
     },
     "execution_count": 19,
     "metadata": {},
     "output_type": "execute_result"
    }
   ],
   "source": [
    "#shuffle the size of the dataset\n",
    "idx  = np.arange(size)\n",
    "np.random.shuffle(idx)\n",
    "idx"
   ]
  },
  {
   "cell_type": "code",
   "execution_count": 20,
   "id": "59428c82",
   "metadata": {},
   "outputs": [],
   "source": [
    "# the test, train and validation datasets will be declared through the shuffled dataset\n",
    "train_df = df.iloc[idx[: train_size ]]\n",
    "val_df = df.iloc[idx[train_size: train_size + val_size]]\n",
    "test_df = df.iloc[idx[train_size + val_size: ]]"
   ]
  },
  {
   "cell_type": "code",
   "execution_count": 21,
   "id": "682c9b80",
   "metadata": {},
   "outputs": [
    {
     "data": {
      "text/plain": [
       "(7150, 2382, 2382)"
      ]
     },
     "execution_count": 21,
     "metadata": {},
     "output_type": "execute_result"
    }
   ],
   "source": [
    "len(train_df),len(val_df),len(test_df)"
   ]
  },
  {
   "cell_type": "code",
   "execution_count": 22,
   "id": "8e8e2b61",
   "metadata": {},
   "outputs": [],
   "source": [
    "#reset the index\n",
    "train_df = train_df.reset_index(drop=True)\n",
    "val_df = val_df.reset_index(drop=True)\n",
    "test_df = test_df.reset_index(drop=True)"
   ]
  },
  {
   "cell_type": "code",
   "execution_count": 23,
   "id": "b3457f03",
   "metadata": {},
   "outputs": [],
   "source": [
    "#normalize msrp values\n",
    "y_train = np.log1p(train_df.msrp.values)\n",
    "y_val_df = np.log1p(val_df.msrp.values)\n",
    "y_test_df = np.log1p(test_df.msrp.values)"
   ]
  },
  {
   "cell_type": "code",
   "execution_count": 24,
   "id": "8700e7f0",
   "metadata": {},
   "outputs": [],
   "source": [
    "#remove the msrp values\n",
    "del(train_df['msrp'])\n",
    "del(val_df['msrp'])\n",
    "del(test_df['msrp'])"
   ]
  },
  {
   "cell_type": "code",
   "execution_count": null,
   "id": "2f681f99",
   "metadata": {},
   "outputs": [],
   "source": []
  },
  {
   "cell_type": "markdown",
   "id": "036eb3b3",
   "metadata": {},
   "source": [
    "### Linear Algebra\n",
    "##### g(Xi)~~ yi -> g is the model, Xi is the feature matrix, and the yi is the  target value \n",
    "##### y = Wo + W1X1 + W2X2 +.....+WnXn\n",
    "##### where y -> the dependent value\n",
    "#### Wo -> the intercept \n",
    "#### W1-Wn -> slope or coefficient\n"
   ]
  },
  {
   "cell_type": "code",
   "execution_count": 25,
   "id": "a2b50635",
   "metadata": {},
   "outputs": [
    {
     "data": {
      "text/plain": [
       "make                                GMC\n",
       "model                              S-15\n",
       "year                               1990\n",
       "engine_fuel_type       regular unleaded\n",
       "engine_hp                         160.0\n",
       "engine_cylinders                    6.0\n",
       "transmission_type                MANUAL\n",
       "driven_wheels          four wheel drive\n",
       "number_of_doors                     2.0\n",
       "market_category                     NaN\n",
       "vehicle_size                    Compact\n",
       "vehicle_style        Regular Cab Pickup\n",
       "highway_mpg                          19\n",
       "city_mpg                             15\n",
       "popularity                          549\n",
       "Name: 10, dtype: object"
      ]
     },
     "execution_count": 25,
     "metadata": {},
     "output_type": "execute_result"
    }
   ],
   "source": [
    "train_df.iloc[10]"
   ]
  },
  {
   "cell_type": "code",
   "execution_count": null,
   "id": "941f2094",
   "metadata": {},
   "outputs": [],
   "source": []
  },
  {
   "cell_type": "code",
   "execution_count": 26,
   "id": "54c296af",
   "metadata": {},
   "outputs": [],
   "source": [
    "xi = [325,18, 5657]"
   ]
  },
  {
   "cell_type": "code",
   "execution_count": 27,
   "id": "75202777",
   "metadata": {},
   "outputs": [],
   "source": [
    "w0 = 7.17\n",
    "w = [0.01, 0.04, 0.02]"
   ]
  },
  {
   "cell_type": "code",
   "execution_count": 28,
   "id": "518eda0e",
   "metadata": {},
   "outputs": [],
   "source": [
    "def linear_regression(xi):\n",
    "    pred = w0\n",
    "    for j in range(len(xi)):\n",
    "        pred = pred + w[j] * xi[j]\n",
    "        return pred"
   ]
  },
  {
   "cell_type": "code",
   "execution_count": 29,
   "id": "1af74074",
   "metadata": {},
   "outputs": [
    {
     "data": {
      "text/plain": [
       "10.42"
      ]
     },
     "execution_count": 29,
     "metadata": {},
     "output_type": "execute_result"
    }
   ],
   "source": [
    "linear_regression(xi)"
   ]
  },
  {
   "cell_type": "code",
   "execution_count": 30,
   "id": "26ba21f1",
   "metadata": {},
   "outputs": [
    {
     "data": {
      "text/plain": [
       "33522.43414584466"
      ]
     },
     "execution_count": 30,
     "metadata": {},
     "output_type": "execute_result"
    }
   ],
   "source": [
    "#since we normalized the msrp using log1p, we have to return the exponent value - 1\n",
    "np.expm1(10.42)"
   ]
  },
  {
   "cell_type": "code",
   "execution_count": null,
   "id": "4e6aadb3",
   "metadata": {},
   "outputs": [],
   "source": []
  },
  {
   "cell_type": "markdown",
   "id": "22bdd09c",
   "metadata": {},
   "source": [
    "### Linear Regression Vector Form "
   ]
  },
  {
   "cell_type": "code",
   "execution_count": 31,
   "id": "f5f95840",
   "metadata": {},
   "outputs": [],
   "source": [
    "def dot(xi, w):\n",
    "    \n",
    "    n = len(xi)\n",
    "    res = 0.0\n",
    "    \n",
    "    for j in range(n):\n",
    "        res = res + xi[j] * w[j]\n",
    "        return res"
   ]
  },
  {
   "cell_type": "code",
   "execution_count": 32,
   "id": "d19ecd9b",
   "metadata": {},
   "outputs": [],
   "source": [
    "def linear_regression(xi):\n",
    "    return w0 + dot(xi, w)"
   ]
  },
  {
   "cell_type": "code",
   "execution_count": 33,
   "id": "5fbda19c",
   "metadata": {},
   "outputs": [
    {
     "data": {
      "text/plain": [
       "10.42"
      ]
     },
     "execution_count": 33,
     "metadata": {},
     "output_type": "execute_result"
    }
   ],
   "source": [
    "linear_regression(xi)"
   ]
  },
  {
   "cell_type": "markdown",
   "id": "b4421b01",
   "metadata": {},
   "source": [
    "#### To make the last equation more simple, we can imagine there is one more feature xi0, that is always equal to 1.\n",
    "####  g(xi) = w0 + xiTw -> g(xi) = w0 . xi0 + xi^T. w\n",
    "#### That means vector w becomes a n+1 dimensional vector:\n",
    "#### w = [w0, w1, w2, … wn]\n",
    "#### xi = [xi0, xi1, xi2, …, xin] = [1, xi1, xi2, …, xin]\n",
    "#### wTxi = xiTw = w0 + …"
   ]
  },
  {
   "cell_type": "code",
   "execution_count": 34,
   "id": "b7aaa3e2",
   "metadata": {},
   "outputs": [
    {
     "data": {
      "text/plain": [
       "[7.17, 0.01, 0.04, 0.02]"
      ]
     },
     "execution_count": 34,
     "metadata": {},
     "output_type": "execute_result"
    }
   ],
   "source": [
    "#applying the the formula on feature matrix\n",
    "w0 = [w0]\n",
    "w_new = w0 + w\n",
    "w_new"
   ]
  },
  {
   "cell_type": "code",
   "execution_count": 35,
   "id": "d23af610",
   "metadata": {},
   "outputs": [
    {
     "data": {
      "text/plain": [
       "[[1, 148, 24, 1385], [1, 132, 25, 2031], [1, 453, 11, 86]]"
      ]
     },
     "execution_count": 35,
     "metadata": {},
     "output_type": "execute_result"
    }
   ],
   "source": [
    "x1  = [1, 148, 24, 1385]\n",
    "x2  = [1, 132, 25, 2031]\n",
    "x10 = [1, 453, 11, 86]\n",
    "\n",
    "#create a list of lists X\n",
    "X = [x1, x2, x10]\n",
    "X"
   ]
  },
  {
   "cell_type": "code",
   "execution_count": 36,
   "id": "936fd965",
   "metadata": {},
   "outputs": [
    {
     "data": {
      "text/plain": [
       "array([[   1,  148,   24, 1385],\n",
       "       [   1,  132,   25, 2031],\n",
       "       [   1,  453,   11,   86]])"
      ]
     },
     "execution_count": 36,
     "metadata": {},
     "output_type": "execute_result"
    }
   ],
   "source": [
    "#create a numpy array out of X\n",
    "X = np.array(X)\n",
    "X"
   ]
  },
  {
   "cell_type": "code",
   "execution_count": null,
   "id": "f8ee11be",
   "metadata": {},
   "outputs": [],
   "source": [
    " \n"
   ]
  },
  {
   "cell_type": "code",
   "execution_count": 37,
   "id": "168cc071",
   "metadata": {},
   "outputs": [
    {
     "data": {
      "text/plain": [
       "array([1.59781730e+16, 5.78757308e+21, 1.04549294e+06])"
      ]
     },
     "execution_count": 37,
     "metadata": {},
     "output_type": "execute_result"
    }
   ],
   "source": [
    "#try on the model\n",
    "def linear_regression(X):\n",
    "    return X.dot(w_new)\n",
    " \n",
    "y = linear_regression(X)\n",
    "np.expm1(y) "
   ]
  },
  {
   "cell_type": "code",
   "execution_count": null,
   "id": "e2090162",
   "metadata": {},
   "outputs": [],
   "source": []
  },
  {
   "cell_type": "markdown",
   "id": "0554ee84",
   "metadata": {},
   "source": [
    "### Train LInear Regression Model\n",
    "##### GRAM matrix => X^T * X\n",
    "##### w = (X^T*X)^-1 * X^T*y\n"
   ]
  },
  {
   "cell_type": "code",
   "execution_count": 41,
   "id": "b4078106",
   "metadata": {},
   "outputs": [
    {
     "data": {
      "text/plain": [
       "array([[ 148,   24, 1385],\n",
       "       [ 132,   25, 2031],\n",
       "       [ 453,   11,   86],\n",
       "       [ 158,   24, 1385],\n",
       "       [ 172,   25,  201],\n",
       "       [ 413,   11,   86],\n",
       "       [  38,   54,  435],\n",
       "       [ 142,   25,  431],\n",
       "       [ 453,   31,   86]])"
      ]
     },
     "execution_count": 41,
     "metadata": {},
     "output_type": "execute_result"
    }
   ],
   "source": [
    "# \n",
    "X = [\n",
    "    [148,24,1385],\n",
    "    [132,25,2031],\n",
    "    [453,11,86],\n",
    "    [158,24,1385],\n",
    "    [172,25,201],\n",
    "    [413,11,86],\n",
    "    [38,54,435],\n",
    "    [142,25,431],\n",
    "    [453,31,86]\n",
    "]\n",
    "\n",
    "X = np.array(X)\n",
    "X"
   ]
  },
  {
   "cell_type": "code",
   "execution_count": 48,
   "id": "77211e82",
   "metadata": {},
   "outputs": [],
   "source": [
    "#define an aribitary array y\n",
    "y = [100, 200, 150, 200, 250,200, 100, 150, 100]"
   ]
  },
  {
   "cell_type": "code",
   "execution_count": 51,
   "id": "e82fdd56",
   "metadata": {},
   "outputs": [
    {
     "data": {
      "text/plain": [
       "array([1., 1., 1., 1., 1., 1., 1., 1., 1.])"
      ]
     },
     "execution_count": 51,
     "metadata": {},
     "output_type": "execute_result"
    }
   ],
   "source": [
    "#define the bias term -> since we assumed the values to be all 1's\n",
    "ones = np.ones(X.shape[0])\n",
    "ones"
   ]
  },
  {
   "cell_type": "code",
   "execution_count": 52,
   "id": "2d07da16",
   "metadata": {},
   "outputs": [],
   "source": [
    "#add the ones array to X array using np.column_stack()\n",
    "X = np.column_stack([ones, X])\n"
   ]
  },
  {
   "cell_type": "code",
   "execution_count": 53,
   "id": "d19d7b66",
   "metadata": {},
   "outputs": [
    {
     "data": {
      "text/plain": [
       "array([[9.000000e+00, 2.109000e+03, 2.300000e+02, 6.126000e+03],\n",
       "       [2.109000e+03, 6.964710e+05, 4.411500e+04, 9.176400e+05],\n",
       "       [2.300000e+02, 4.411500e+04, 7.146000e+03, 1.611030e+05],\n",
       "       [6.126000e+03, 9.176400e+05, 1.611030e+05, 8.398986e+06]])"
      ]
     },
     "execution_count": 53,
     "metadata": {},
     "output_type": "execute_result"
    }
   ],
   "source": [
    "#first declare the GRAM matrix\n",
    "gram_matrix = X.T.dot(X)\n",
    "gram_matrix"
   ]
  },
  {
   "cell_type": "code",
   "execution_count": 54,
   "id": "215b2ec1",
   "metadata": {},
   "outputs": [
    {
     "data": {
      "text/plain": [
       "array([[ 4.19061567e+00, -6.97921826e-03, -7.06098585e-02,\n",
       "        -9.39618391e-04],\n",
       "       [-6.97921826e-03,  1.39881419e-05,  1.02138324e-04,\n",
       "         1.60302948e-06],\n",
       "       [-7.06098585e-02,  1.02138324e-04,  1.53735166e-03,\n",
       "         1.08534313e-05],\n",
       "       [-9.39618391e-04,  1.60302948e-06,  1.08534313e-05,\n",
       "         4.21072015e-07]])"
      ]
     },
     "execution_count": 54,
     "metadata": {},
     "output_type": "execute_result"
    }
   ],
   "source": [
    "# declare the inverse of the gram_matrix\n",
    "gram_matrix_inv= np.linalg.inv(gram_matrix)\n",
    "gram_matrix_inv"
   ]
  },
  {
   "cell_type": "code",
   "execution_count": 55,
   "id": "90dceaba",
   "metadata": {},
   "outputs": [
    {
     "data": {
      "text/plain": [
       "array([[ 1.,  0., -0., -0.],\n",
       "       [ 0.,  1.,  0., -0.],\n",
       "       [ 0.,  0.,  1., -0.],\n",
       "       [-0.,  0., -0.,  1.]])"
      ]
     },
     "execution_count": 55,
     "metadata": {},
     "output_type": "execute_result"
    }
   ],
   "source": [
    "#the product of the gram matrix with its inverse should be an Identity matrix\n",
    "gram_matrix.dot(gram_matrix_inv).round(1)"
   ]
  },
  {
   "cell_type": "code",
   "execution_count": 57,
   "id": "01f0b7cf",
   "metadata": {},
   "outputs": [
    {
     "data": {
      "text/plain": [
       "array([ 3.29287144e+02, -2.47314169e-01, -3.81623868e+00, -1.86522719e-02])"
      ]
     },
     "execution_count": 57,
     "metadata": {},
     "output_type": "execute_result"
    }
   ],
   "source": [
    "#calculate the weights w\n",
    "w_full = gram_matrix_inv.dot(X.T).dot(y)\n",
    "w_full"
   ]
  },
  {
   "cell_type": "code",
   "execution_count": 58,
   "id": "a82975d1",
   "metadata": {},
   "outputs": [],
   "source": [
    "# Now we can find the two estimated coefficients W0 and W\n",
    "\n",
    "#the first element is the intercept or bias term\n",
    "W0 = w_full[0]\n",
    "\n",
    "#the rest is the slope\n",
    "W = w_full[1:]"
   ]
  },
  {
   "cell_type": "code",
   "execution_count": 59,
   "id": "eb3610e6",
   "metadata": {},
   "outputs": [
    {
     "data": {
      "text/plain": [
       "329.28714424414034"
      ]
     },
     "execution_count": 59,
     "metadata": {},
     "output_type": "execute_result"
    }
   ],
   "source": [
    "W0"
   ]
  },
  {
   "cell_type": "code",
   "execution_count": 60,
   "id": "7af4e895",
   "metadata": {},
   "outputs": [
    {
     "data": {
      "text/plain": [
       "array([-0.24731417, -3.81623868, -0.01865227])"
      ]
     },
     "execution_count": 60,
     "metadata": {},
     "output_type": "execute_result"
    }
   ],
   "source": [
    "W"
   ]
  },
  {
   "cell_type": "code",
   "execution_count": 94,
   "id": "6245f3c8",
   "metadata": {},
   "outputs": [],
   "source": [
    "#define the above steps as a function\n",
    "def train_linear_regression(X, y):\n",
    "    \n",
    "    ones = np.ones(X.shape[0])\n",
    "    X = np.column_stack([ones, X])\n",
    "    \n",
    "    XTX = X.T.dot(X)\n",
    "    XTX_inv = np.linalg.inv(XTX)\n",
    "    w_full = XTX_inv.dot(X.T).dot(y)\n",
    "    \n",
    "    return w_full[0], w_full[1:]\n",
    "    "
   ]
  },
  {
   "cell_type": "code",
   "execution_count": 95,
   "id": "5ec1e2a5",
   "metadata": {},
   "outputs": [
    {
     "data": {
      "text/plain": [
       "(2.2026114150969393e+19,\n",
       " array([-1.54958947e+19,  1.28727321e+00,  7.44355702e-16, -1.20000738e-02]))"
      ]
     },
     "execution_count": 95,
     "metadata": {},
     "output_type": "execute_result"
    }
   ],
   "source": [
    "train_linear_regression(X, y)"
   ]
  },
  {
   "cell_type": "code",
   "execution_count": null,
   "id": "f9b1b286",
   "metadata": {},
   "outputs": [],
   "source": []
  },
  {
   "cell_type": "markdown",
   "id": "d81570da",
   "metadata": {},
   "source": [
    "### Car Price Baseline Model"
   ]
  },
  {
   "cell_type": "code",
   "execution_count": 64,
   "id": "cbeae833",
   "metadata": {},
   "outputs": [
    {
     "data": {
      "text/plain": [
       "make                  object\n",
       "model                 object\n",
       "year                   int64\n",
       "engine_fuel_type      object\n",
       "engine_hp            float64\n",
       "engine_cylinders     float64\n",
       "transmission_type     object\n",
       "driven_wheels         object\n",
       "number_of_doors      float64\n",
       "market_category       object\n",
       "vehicle_size          object\n",
       "vehicle_style         object\n",
       "highway_mpg            int64\n",
       "city_mpg               int64\n",
       "popularity             int64\n",
       "dtype: object"
      ]
     },
     "execution_count": 64,
     "metadata": {},
     "output_type": "execute_result"
    }
   ],
   "source": [
    "#get all the numerical values from the training dataset\n",
    "train_df.dtypes"
   ]
  },
  {
   "cell_type": "code",
   "execution_count": 84,
   "id": "93941d11",
   "metadata": {},
   "outputs": [],
   "source": [
    "base = ['engine_hp', 'engine_cylinders', 'highway_mpg','city_mpg', 'popularity']\n"
   ]
  },
  {
   "cell_type": "code",
   "execution_count": 85,
   "id": "dce3018c",
   "metadata": {},
   "outputs": [
    {
     "data": {
      "text/html": [
       "<div>\n",
       "<style scoped>\n",
       "    .dataframe tbody tr th:only-of-type {\n",
       "        vertical-align: middle;\n",
       "    }\n",
       "\n",
       "    .dataframe tbody tr th {\n",
       "        vertical-align: top;\n",
       "    }\n",
       "\n",
       "    .dataframe thead th {\n",
       "        text-align: right;\n",
       "    }\n",
       "</style>\n",
       "<table border=\"1\" class=\"dataframe\">\n",
       "  <thead>\n",
       "    <tr style=\"text-align: right;\">\n",
       "      <th></th>\n",
       "      <th>engine_hp</th>\n",
       "      <th>engine_cylinders</th>\n",
       "      <th>highway_mpg</th>\n",
       "      <th>city_mpg</th>\n",
       "      <th>popularity</th>\n",
       "    </tr>\n",
       "  </thead>\n",
       "  <tbody>\n",
       "    <tr>\n",
       "      <th>0</th>\n",
       "      <td>182.0</td>\n",
       "      <td>4.0</td>\n",
       "      <td>29</td>\n",
       "      <td>20</td>\n",
       "      <td>549</td>\n",
       "    </tr>\n",
       "    <tr>\n",
       "      <th>1</th>\n",
       "      <td>616.0</td>\n",
       "      <td>12.0</td>\n",
       "      <td>20</td>\n",
       "      <td>12</td>\n",
       "      <td>520</td>\n",
       "    </tr>\n",
       "    <tr>\n",
       "      <th>2</th>\n",
       "      <td>290.0</td>\n",
       "      <td>6.0</td>\n",
       "      <td>23</td>\n",
       "      <td>17</td>\n",
       "      <td>1439</td>\n",
       "    </tr>\n",
       "    <tr>\n",
       "      <th>3</th>\n",
       "      <td>365.0</td>\n",
       "      <td>6.0</td>\n",
       "      <td>19</td>\n",
       "      <td>15</td>\n",
       "      <td>61</td>\n",
       "    </tr>\n",
       "    <tr>\n",
       "      <th>4</th>\n",
       "      <td>134.0</td>\n",
       "      <td>4.0</td>\n",
       "      <td>18</td>\n",
       "      <td>15</td>\n",
       "      <td>2009</td>\n",
       "    </tr>\n",
       "    <tr>\n",
       "      <th>...</th>\n",
       "      <td>...</td>\n",
       "      <td>...</td>\n",
       "      <td>...</td>\n",
       "      <td>...</td>\n",
       "      <td>...</td>\n",
       "    </tr>\n",
       "    <tr>\n",
       "      <th>7145</th>\n",
       "      <td>208.0</td>\n",
       "      <td>4.0</td>\n",
       "      <td>32</td>\n",
       "      <td>24</td>\n",
       "      <td>617</td>\n",
       "    </tr>\n",
       "    <tr>\n",
       "      <th>7146</th>\n",
       "      <td>NaN</td>\n",
       "      <td>0.0</td>\n",
       "      <td>92</td>\n",
       "      <td>120</td>\n",
       "      <td>1720</td>\n",
       "    </tr>\n",
       "    <tr>\n",
       "      <th>7147</th>\n",
       "      <td>325.0</td>\n",
       "      <td>6.0</td>\n",
       "      <td>24</td>\n",
       "      <td>17</td>\n",
       "      <td>870</td>\n",
       "    </tr>\n",
       "    <tr>\n",
       "      <th>7148</th>\n",
       "      <td>63.0</td>\n",
       "      <td>4.0</td>\n",
       "      <td>38</td>\n",
       "      <td>30</td>\n",
       "      <td>5657</td>\n",
       "    </tr>\n",
       "    <tr>\n",
       "      <th>7149</th>\n",
       "      <td>355.0</td>\n",
       "      <td>8.0</td>\n",
       "      <td>22</td>\n",
       "      <td>16</td>\n",
       "      <td>1385</td>\n",
       "    </tr>\n",
       "  </tbody>\n",
       "</table>\n",
       "<p>7150 rows × 5 columns</p>\n",
       "</div>"
      ],
      "text/plain": [
       "      engine_hp  engine_cylinders  highway_mpg  city_mpg  popularity\n",
       "0         182.0               4.0           29        20         549\n",
       "1         616.0              12.0           20        12         520\n",
       "2         290.0               6.0           23        17        1439\n",
       "3         365.0               6.0           19        15          61\n",
       "4         134.0               4.0           18        15        2009\n",
       "...         ...               ...          ...       ...         ...\n",
       "7145      208.0               4.0           32        24         617\n",
       "7146        NaN               0.0           92       120        1720\n",
       "7147      325.0               6.0           24        17         870\n",
       "7148       63.0               4.0           38        30        5657\n",
       "7149      355.0               8.0           22        16        1385\n",
       "\n",
       "[7150 rows x 5 columns]"
      ]
     },
     "execution_count": 85,
     "metadata": {},
     "output_type": "execute_result"
    }
   ],
   "source": [
    "train_df[base]"
   ]
  },
  {
   "cell_type": "code",
   "execution_count": 96,
   "id": "6538bd27",
   "metadata": {},
   "outputs": [
    {
     "data": {
      "text/plain": [
       "array([[1.820e+02, 4.000e+00, 2.900e+01, 2.000e+01, 5.490e+02],\n",
       "       [6.160e+02, 1.200e+01, 2.000e+01, 1.200e+01, 5.200e+02],\n",
       "       [2.900e+02, 6.000e+00, 2.300e+01, 1.700e+01, 1.439e+03],\n",
       "       ...,\n",
       "       [3.250e+02, 6.000e+00, 2.400e+01, 1.700e+01, 8.700e+02],\n",
       "       [6.300e+01, 4.000e+00, 3.800e+01, 3.000e+01, 5.657e+03],\n",
       "       [3.550e+02, 8.000e+00, 2.200e+01, 1.600e+01, 1.385e+03]])"
      ]
     },
     "execution_count": 96,
     "metadata": {},
     "output_type": "execute_result"
    }
   ],
   "source": [
    "#extract the values for training\n",
    "X_train = train_df[base].values\n",
    "X_train"
   ]
  },
  {
   "cell_type": "code",
   "execution_count": 97,
   "id": "aec61be7",
   "metadata": {},
   "outputs": [
    {
     "data": {
      "text/plain": [
       "array([10.48363399, 12.28211197, 10.56362072, ..., 10.7320612 ,\n",
       "        7.60140233, 10.65445543])"
      ]
     },
     "execution_count": 97,
     "metadata": {},
     "output_type": "execute_result"
    }
   ],
   "source": [
    "#we've already declared the y_train\n",
    "y_train"
   ]
  },
  {
   "cell_type": "code",
   "execution_count": 98,
   "id": "70515c59",
   "metadata": {},
   "outputs": [
    {
     "data": {
      "text/plain": [
       "engine_hp           41\n",
       "engine_cylinders    20\n",
       "highway_mpg          0\n",
       "city_mpg             0\n",
       "popularity           0\n",
       "dtype: int64"
      ]
     },
     "execution_count": 98,
     "metadata": {},
     "output_type": "execute_result"
    }
   ],
   "source": [
    "#before training the model, check for null values\n",
    "train_df[base].isna().sum()"
   ]
  },
  {
   "cell_type": "code",
   "execution_count": 101,
   "id": "5d7afc3b",
   "metadata": {},
   "outputs": [],
   "source": [
    "#fill the null with 0\n",
    "X_train = train_df[base].fillna(0).values\n"
   ]
  },
  {
   "cell_type": "code",
   "execution_count": 102,
   "id": "40f3cc72",
   "metadata": {},
   "outputs": [
    {
     "data": {
      "text/plain": [
       "array([[1.820e+02, 4.000e+00, 2.900e+01, 2.000e+01, 5.490e+02],\n",
       "       [6.160e+02, 1.200e+01, 2.000e+01, 1.200e+01, 5.200e+02],\n",
       "       [2.900e+02, 6.000e+00, 2.300e+01, 1.700e+01, 1.439e+03],\n",
       "       ...,\n",
       "       [3.250e+02, 6.000e+00, 2.400e+01, 1.700e+01, 8.700e+02],\n",
       "       [6.300e+01, 4.000e+00, 3.800e+01, 3.000e+01, 5.657e+03],\n",
       "       [3.550e+02, 8.000e+00, 2.200e+01, 1.600e+01, 1.385e+03]])"
      ]
     },
     "execution_count": 102,
     "metadata": {},
     "output_type": "execute_result"
    }
   ],
   "source": [
    "X_train"
   ]
  },
  {
   "cell_type": "code",
   "execution_count": 104,
   "id": "fdf926b3",
   "metadata": {},
   "outputs": [],
   "source": [
    "#train the linear_regression model\n",
    "W0, W = train_linear_regression(X_train, y_train)"
   ]
  },
  {
   "cell_type": "code",
   "execution_count": 106,
   "id": "d5f29a24",
   "metadata": {},
   "outputs": [],
   "source": [
    "#calculate the y_prediction value\n",
    "y_prediction = W0 + X_train.dot(W)"
   ]
  },
  {
   "cell_type": "code",
   "execution_count": 109,
   "id": "35216818",
   "metadata": {},
   "outputs": [
    {
     "data": {
      "text/plain": [
       "<Axes: ylabel='Count'>"
      ]
     },
     "execution_count": 109,
     "metadata": {},
     "output_type": "execute_result"
    },
    {
     "data": {
      "image/png": "[encoded data removed]",
      "text/plain": [
       "<Figure size 640x480 with 1 Axes>"
      ]
     },
     "metadata": {},
     "output_type": "display_data"
    }
   ],
   "source": [
    "#compare the y_prediction with y_train graph\n",
    "sns.histplot(y_prediction, color='red', alpha = 0.5,bins=50)\n",
    "sns.histplot(y_train, color='blue', alpha = 0.5, bins= 50)"
   ]
  },
  {
   "cell_type": "code",
   "execution_count": null,
   "id": "a7d792fc",
   "metadata": {},
   "outputs": [],
   "source": []
  },
  {
   "cell_type": "markdown",
   "id": "312084de",
   "metadata": {},
   "source": [
    "# Root Mean Square Error(RMSE)\n",
    "\n",
    "###### RMSE = sqrt(E(y-actual - y-pred)^2 / m)\n",
    "###### where y-actual is the actual value\n",
    "###### y-pred is the predicted value \n",
    "##### m is the number of observations"
   ]
  },
  {
   "cell_type": "code",
   "execution_count": 113,
   "id": "be845be4",
   "metadata": {},
   "outputs": [],
   "source": [
    "#RMSE function\n",
    "def rmse(y, y_pred): \n",
    "    sqr_error = (y - y_pred) ** 2\n",
    "    mean_sqr_error = sqr_error.mean()\n",
    "    \n",
    "    return np.sqrt(mean_sqr_error)\n",
    "    "
   ]
  },
  {
   "cell_type": "code",
   "execution_count": 114,
   "id": "9b1afb70",
   "metadata": {},
   "outputs": [
    {
     "data": {
      "text/plain": [
       "0.7562006252651942"
      ]
     },
     "execution_count": 114,
     "metadata": {},
     "output_type": "execute_result"
    }
   ],
   "source": [
    "rmse(y_train, y_prediction)"
   ]
  },
  {
   "cell_type": "code",
   "execution_count": null,
   "id": "67b5aec6",
   "metadata": {},
   "outputs": [],
   "source": []
  },
  {
   "cell_type": "markdown",
   "id": "f5b7b37c",
   "metadata": {},
   "source": [
    "### Validating the model"
   ]
  },
  {
   "cell_type": "code",
   "execution_count": 116,
   "id": "13b5c50f",
   "metadata": {},
   "outputs": [],
   "source": [
    "# write a function to prepare data\n",
    "def prepare_X(df):\n",
    "    \n",
    "    #first extract numerical values\n",
    "    df_num = df[base]\n",
    "    \n",
    "    #fill the null values\n",
    "    df_num = df_num.fillna(0)\n",
    "    \n",
    "    X = df_num.values\n",
    "    \n",
    "    return X "
   ]
  },
  {
   "cell_type": "code",
   "execution_count": 118,
   "id": "985c6c69",
   "metadata": {},
   "outputs": [
    {
     "data": {
      "text/plain": [
       "0.7552189763915171"
      ]
     },
     "execution_count": 118,
     "metadata": {},
     "output_type": "execute_result"
    }
   ],
   "source": [
    "X_train = prepare_X(train_df)\n",
    "W0, W = train_linear_regression(X_train, y_train)\n",
    "\n",
    "X_val = prepare_X(val_df)\n",
    "y_pred = W0 + X_val.dot(W)\n",
    "\n",
    "rmse(y_val_df, y_pred)"
   ]
  },
  {
   "cell_type": "code",
   "execution_count": null,
   "id": "2eec6011",
   "metadata": {},
   "outputs": [],
   "source": []
  },
  {
   "cell_type": "markdown",
   "id": "09aeb853",
   "metadata": {},
   "source": [
    "### Simple Feature Engineering"
   ]
  },
  {
   "cell_type": "code",
   "execution_count": null,
   "id": "6c6612a9",
   "metadata": {},
   "outputs": [],
   "source": []
  }
 ],
 "metadata": {
  "kernelspec": {
   "display_name": "Python 3 (ipykernel)",
   "language": "python",
   "name": "python3"
  },
  "language_info": {
   "codemirror_mode": {
    "name": "ipython",
    "version": 3
   },
   "file_extension": ".py",
   "mimetype": "text/x-python",
   "name": "python",
   "nbconvert_exporter": "python",
   "pygments_lexer": "ipython3",
   "version": "3.11.4"
  }
 },
 "nbformat": 4,
 "nbformat_minor": 5
}
