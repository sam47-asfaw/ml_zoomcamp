{
 "cells": [
  {
   "cell_type": "code",
   "execution_count": 1,
   "id": "dfbee824",
   "metadata": {},
   "outputs": [],
   "source": [
    "import pandas as pd\n",
    "import numpy as np\n",
    "import seaborn as sns\n",
    "import matplotlib.pyplot as plt\n",
    "%matplotlib inline"
   ]
  },
  {
   "cell_type": "code",
   "execution_count": 2,
   "id": "5aa877c3",
   "metadata": {},
   "outputs": [
    {
     "data": {
      "text/html": [
       "<div>\n",
       "<style scoped>\n",
       "    .dataframe tbody tr th:only-of-type {\n",
       "        vertical-align: middle;\n",
       "    }\n",
       "\n",
       "    .dataframe tbody tr th {\n",
       "        vertical-align: top;\n",
       "    }\n",
       "\n",
       "    .dataframe thead th {\n",
       "        text-align: right;\n",
       "    }\n",
       "</style>\n",
       "<table border=\"1\" class=\"dataframe\">\n",
       "  <thead>\n",
       "    <tr style=\"text-align: right;\">\n",
       "      <th></th>\n",
       "      <th>longitude</th>\n",
       "      <th>latitude</th>\n",
       "      <th>housing_median_age</th>\n",
       "      <th>total_rooms</th>\n",
       "      <th>total_bedrooms</th>\n",
       "      <th>population</th>\n",
       "      <th>households</th>\n",
       "      <th>median_income</th>\n",
       "      <th>median_house_value</th>\n",
       "      <th>ocean_proximity</th>\n",
       "    </tr>\n",
       "  </thead>\n",
       "  <tbody>\n",
       "    <tr>\n",
       "      <th>0</th>\n",
       "      <td>-122.23</td>\n",
       "      <td>37.88</td>\n",
       "      <td>41.0</td>\n",
       "      <td>880.0</td>\n",
       "      <td>129.0</td>\n",
       "      <td>322.0</td>\n",
       "      <td>126.0</td>\n",
       "      <td>8.3252</td>\n",
       "      <td>452600.0</td>\n",
       "      <td>NEAR BAY</td>\n",
       "    </tr>\n",
       "    <tr>\n",
       "      <th>1</th>\n",
       "      <td>-122.22</td>\n",
       "      <td>37.86</td>\n",
       "      <td>21.0</td>\n",
       "      <td>7099.0</td>\n",
       "      <td>1106.0</td>\n",
       "      <td>2401.0</td>\n",
       "      <td>1138.0</td>\n",
       "      <td>8.3014</td>\n",
       "      <td>358500.0</td>\n",
       "      <td>NEAR BAY</td>\n",
       "    </tr>\n",
       "    <tr>\n",
       "      <th>2</th>\n",
       "      <td>-122.24</td>\n",
       "      <td>37.85</td>\n",
       "      <td>52.0</td>\n",
       "      <td>1467.0</td>\n",
       "      <td>190.0</td>\n",
       "      <td>496.0</td>\n",
       "      <td>177.0</td>\n",
       "      <td>7.2574</td>\n",
       "      <td>352100.0</td>\n",
       "      <td>NEAR BAY</td>\n",
       "    </tr>\n",
       "    <tr>\n",
       "      <th>3</th>\n",
       "      <td>-122.25</td>\n",
       "      <td>37.85</td>\n",
       "      <td>52.0</td>\n",
       "      <td>1274.0</td>\n",
       "      <td>235.0</td>\n",
       "      <td>558.0</td>\n",
       "      <td>219.0</td>\n",
       "      <td>5.6431</td>\n",
       "      <td>341300.0</td>\n",
       "      <td>NEAR BAY</td>\n",
       "    </tr>\n",
       "    <tr>\n",
       "      <th>4</th>\n",
       "      <td>-122.25</td>\n",
       "      <td>37.85</td>\n",
       "      <td>52.0</td>\n",
       "      <td>1627.0</td>\n",
       "      <td>280.0</td>\n",
       "      <td>565.0</td>\n",
       "      <td>259.0</td>\n",
       "      <td>3.8462</td>\n",
       "      <td>342200.0</td>\n",
       "      <td>NEAR BAY</td>\n",
       "    </tr>\n",
       "  </tbody>\n",
       "</table>\n",
       "</div>"
      ],
      "text/plain": [
       "   longitude  latitude  housing_median_age  total_rooms  total_bedrooms  \\\n",
       "0    -122.23     37.88                41.0        880.0           129.0   \n",
       "1    -122.22     37.86                21.0       7099.0          1106.0   \n",
       "2    -122.24     37.85                52.0       1467.0           190.0   \n",
       "3    -122.25     37.85                52.0       1274.0           235.0   \n",
       "4    -122.25     37.85                52.0       1627.0           280.0   \n",
       "\n",
       "   population  households  median_income  median_house_value ocean_proximity  \n",
       "0       322.0       126.0         8.3252            452600.0        NEAR BAY  \n",
       "1      2401.0      1138.0         8.3014            358500.0        NEAR BAY  \n",
       "2       496.0       177.0         7.2574            352100.0        NEAR BAY  \n",
       "3       558.0       219.0         5.6431            341300.0        NEAR BAY  \n",
       "4       565.0       259.0         3.8462            342200.0        NEAR BAY  "
      ]
     },
     "execution_count": 2,
     "metadata": {},
     "output_type": "execute_result"
    }
   ],
   "source": [
    "url = 'https://raw.githubusercontent.com/alexeygrigorev/datasets/master/housing.csv'\n",
    "df = pd.read_csv(url)\n",
    "df.head(5)"
   ]
  },
  {
   "cell_type": "code",
   "execution_count": 3,
   "id": "62505669",
   "metadata": {},
   "outputs": [
    {
     "name": "stdout",
     "output_type": "stream",
     "text": [
      "<class 'pandas.core.frame.DataFrame'>\n",
      "RangeIndex: 20640 entries, 0 to 20639\n",
      "Data columns (total 10 columns):\n",
      " #   Column              Non-Null Count  Dtype  \n",
      "---  ------              --------------  -----  \n",
      " 0   longitude           20640 non-null  float64\n",
      " 1   latitude            20640 non-null  float64\n",
      " 2   housing_median_age  20640 non-null  float64\n",
      " 3   total_rooms         20640 non-null  float64\n",
      " 4   total_bedrooms      20433 non-null  float64\n",
      " 5   population          20640 non-null  float64\n",
      " 6   households          20640 non-null  float64\n",
      " 7   median_income       20640 non-null  float64\n",
      " 8   median_house_value  20640 non-null  float64\n",
      " 9   ocean_proximity     20640 non-null  object \n",
      "dtypes: float64(9), object(1)\n",
      "memory usage: 1.6+ MB\n"
     ]
    }
   ],
   "source": [
    "df.info()"
   ]
  },
  {
   "cell_type": "markdown",
   "id": "7a126f14",
   "metadata": {},
   "source": [
    "### EDA\n",
    "###### Load the data.\n",
    "###### Look at the median_house_value variable. Does it have a long tail?"
   ]
  },
  {
   "cell_type": "code",
   "execution_count": 4,
   "id": "96cff17a",
   "metadata": {},
   "outputs": [
    {
     "data": {
      "text/plain": [
       "<Axes: xlabel='median_house_value', ylabel='Count'>"
      ]
     },
     "execution_count": 4,
     "metadata": {},
     "output_type": "execute_result"
    },
    {
     "data": {
      "image/png": "[encoded data removed]",
      "text/plain": [
       "<Figure size 640x480 with 1 Axes>"
      ]
     },
     "metadata": {},
     "output_type": "display_data"
    }
   ],
   "source": [
    "sns.histplot(df['median_house_value'], bins=50)"
   ]
  },
  {
   "cell_type": "markdown",
   "id": "016a4cf2",
   "metadata": {},
   "source": [
    "## Insight: The graph doesn't have a long tail"
   ]
  },
  {
   "cell_type": "code",
   "execution_count": null,
   "id": "edf3a705",
   "metadata": {},
   "outputs": [],
   "source": []
  },
  {
   "cell_type": "markdown",
   "id": "9f9f3415",
   "metadata": {},
   "source": [
    "#### Preparing the dataset\n",
    "##### For this homework, we only want to use a subset of data.\n",
    "##### First, keep only the records where ocean_proximity is either '<1H OCEAN' or 'INLAND'\n",
    "\n",
    "##### Next, use only the following columns:\n",
    "##### 1. 'latitude',\n",
    "##### 2. 'longitude',\n",
    "##### 3. 'housing_median_age',\n",
    "##### 4. 'total_rooms',\n",
    "##### 5. 'total_bedrooms',\n",
    "##### 6. 'population',\n",
    "##### 7. 'households',\n",
    "##### 8. 'median_income',\n",
    "##### 9. 'median_house_value'"
   ]
  },
  {
   "cell_type": "code",
   "execution_count": 5,
   "id": "be4f6c89",
   "metadata": {},
   "outputs": [
    {
     "data": {
      "text/html": [
       "<div>\n",
       "<style scoped>\n",
       "    .dataframe tbody tr th:only-of-type {\n",
       "        vertical-align: middle;\n",
       "    }\n",
       "\n",
       "    .dataframe tbody tr th {\n",
       "        vertical-align: top;\n",
       "    }\n",
       "\n",
       "    .dataframe thead th {\n",
       "        text-align: right;\n",
       "    }\n",
       "</style>\n",
       "<table border=\"1\" class=\"dataframe\">\n",
       "  <thead>\n",
       "    <tr style=\"text-align: right;\">\n",
       "      <th></th>\n",
       "      <th>longitude</th>\n",
       "      <th>latitude</th>\n",
       "      <th>housing_median_age</th>\n",
       "      <th>total_rooms</th>\n",
       "      <th>total_bedrooms</th>\n",
       "      <th>population</th>\n",
       "      <th>households</th>\n",
       "      <th>median_income</th>\n",
       "      <th>median_house_value</th>\n",
       "      <th>ocean_proximity</th>\n",
       "    </tr>\n",
       "  </thead>\n",
       "  <tbody>\n",
       "    <tr>\n",
       "      <th>701</th>\n",
       "      <td>-121.97</td>\n",
       "      <td>37.64</td>\n",
       "      <td>32.0</td>\n",
       "      <td>1283.0</td>\n",
       "      <td>194.0</td>\n",
       "      <td>485.0</td>\n",
       "      <td>171.0</td>\n",
       "      <td>6.0574</td>\n",
       "      <td>431000.0</td>\n",
       "      <td>&lt;1H OCEAN</td>\n",
       "    </tr>\n",
       "    <tr>\n",
       "      <th>830</th>\n",
       "      <td>-121.99</td>\n",
       "      <td>37.61</td>\n",
       "      <td>9.0</td>\n",
       "      <td>3666.0</td>\n",
       "      <td>711.0</td>\n",
       "      <td>2341.0</td>\n",
       "      <td>703.0</td>\n",
       "      <td>4.6458</td>\n",
       "      <td>217000.0</td>\n",
       "      <td>&lt;1H OCEAN</td>\n",
       "    </tr>\n",
       "    <tr>\n",
       "      <th>859</th>\n",
       "      <td>-121.97</td>\n",
       "      <td>37.57</td>\n",
       "      <td>21.0</td>\n",
       "      <td>4342.0</td>\n",
       "      <td>783.0</td>\n",
       "      <td>2172.0</td>\n",
       "      <td>789.0</td>\n",
       "      <td>4.6146</td>\n",
       "      <td>247600.0</td>\n",
       "      <td>&lt;1H OCEAN</td>\n",
       "    </tr>\n",
       "    <tr>\n",
       "      <th>860</th>\n",
       "      <td>-121.96</td>\n",
       "      <td>37.58</td>\n",
       "      <td>15.0</td>\n",
       "      <td>3575.0</td>\n",
       "      <td>597.0</td>\n",
       "      <td>1777.0</td>\n",
       "      <td>559.0</td>\n",
       "      <td>5.7192</td>\n",
       "      <td>283500.0</td>\n",
       "      <td>&lt;1H OCEAN</td>\n",
       "    </tr>\n",
       "    <tr>\n",
       "      <th>861</th>\n",
       "      <td>-121.98</td>\n",
       "      <td>37.58</td>\n",
       "      <td>20.0</td>\n",
       "      <td>4126.0</td>\n",
       "      <td>1031.0</td>\n",
       "      <td>2079.0</td>\n",
       "      <td>975.0</td>\n",
       "      <td>3.6832</td>\n",
       "      <td>216900.0</td>\n",
       "      <td>&lt;1H OCEAN</td>\n",
       "    </tr>\n",
       "    <tr>\n",
       "      <th>...</th>\n",
       "      <td>...</td>\n",
       "      <td>...</td>\n",
       "      <td>...</td>\n",
       "      <td>...</td>\n",
       "      <td>...</td>\n",
       "      <td>...</td>\n",
       "      <td>...</td>\n",
       "      <td>...</td>\n",
       "      <td>...</td>\n",
       "      <td>...</td>\n",
       "    </tr>\n",
       "    <tr>\n",
       "      <th>20635</th>\n",
       "      <td>-121.09</td>\n",
       "      <td>39.48</td>\n",
       "      <td>25.0</td>\n",
       "      <td>1665.0</td>\n",
       "      <td>374.0</td>\n",
       "      <td>845.0</td>\n",
       "      <td>330.0</td>\n",
       "      <td>1.5603</td>\n",
       "      <td>78100.0</td>\n",
       "      <td>INLAND</td>\n",
       "    </tr>\n",
       "    <tr>\n",
       "      <th>20636</th>\n",
       "      <td>-121.21</td>\n",
       "      <td>39.49</td>\n",
       "      <td>18.0</td>\n",
       "      <td>697.0</td>\n",
       "      <td>150.0</td>\n",
       "      <td>356.0</td>\n",
       "      <td>114.0</td>\n",
       "      <td>2.5568</td>\n",
       "      <td>77100.0</td>\n",
       "      <td>INLAND</td>\n",
       "    </tr>\n",
       "    <tr>\n",
       "      <th>20637</th>\n",
       "      <td>-121.22</td>\n",
       "      <td>39.43</td>\n",
       "      <td>17.0</td>\n",
       "      <td>2254.0</td>\n",
       "      <td>485.0</td>\n",
       "      <td>1007.0</td>\n",
       "      <td>433.0</td>\n",
       "      <td>1.7000</td>\n",
       "      <td>92300.0</td>\n",
       "      <td>INLAND</td>\n",
       "    </tr>\n",
       "    <tr>\n",
       "      <th>20638</th>\n",
       "      <td>-121.32</td>\n",
       "      <td>39.43</td>\n",
       "      <td>18.0</td>\n",
       "      <td>1860.0</td>\n",
       "      <td>409.0</td>\n",
       "      <td>741.0</td>\n",
       "      <td>349.0</td>\n",
       "      <td>1.8672</td>\n",
       "      <td>84700.0</td>\n",
       "      <td>INLAND</td>\n",
       "    </tr>\n",
       "    <tr>\n",
       "      <th>20639</th>\n",
       "      <td>-121.24</td>\n",
       "      <td>39.37</td>\n",
       "      <td>16.0</td>\n",
       "      <td>2785.0</td>\n",
       "      <td>616.0</td>\n",
       "      <td>1387.0</td>\n",
       "      <td>530.0</td>\n",
       "      <td>2.3886</td>\n",
       "      <td>89400.0</td>\n",
       "      <td>INLAND</td>\n",
       "    </tr>\n",
       "  </tbody>\n",
       "</table>\n",
       "<p>15687 rows × 10 columns</p>\n",
       "</div>"
      ],
      "text/plain": [
       "       longitude  latitude  housing_median_age  total_rooms  total_bedrooms  \\\n",
       "701      -121.97     37.64                32.0       1283.0           194.0   \n",
       "830      -121.99     37.61                 9.0       3666.0           711.0   \n",
       "859      -121.97     37.57                21.0       4342.0           783.0   \n",
       "860      -121.96     37.58                15.0       3575.0           597.0   \n",
       "861      -121.98     37.58                20.0       4126.0          1031.0   \n",
       "...          ...       ...                 ...          ...             ...   \n",
       "20635    -121.09     39.48                25.0       1665.0           374.0   \n",
       "20636    -121.21     39.49                18.0        697.0           150.0   \n",
       "20637    -121.22     39.43                17.0       2254.0           485.0   \n",
       "20638    -121.32     39.43                18.0       1860.0           409.0   \n",
       "20639    -121.24     39.37                16.0       2785.0           616.0   \n",
       "\n",
       "       population  households  median_income  median_house_value  \\\n",
       "701         485.0       171.0         6.0574            431000.0   \n",
       "830        2341.0       703.0         4.6458            217000.0   \n",
       "859        2172.0       789.0         4.6146            247600.0   \n",
       "860        1777.0       559.0         5.7192            283500.0   \n",
       "861        2079.0       975.0         3.6832            216900.0   \n",
       "...           ...         ...            ...                 ...   \n",
       "20635       845.0       330.0         1.5603             78100.0   \n",
       "20636       356.0       114.0         2.5568             77100.0   \n",
       "20637      1007.0       433.0         1.7000             92300.0   \n",
       "20638       741.0       349.0         1.8672             84700.0   \n",
       "20639      1387.0       530.0         2.3886             89400.0   \n",
       "\n",
       "      ocean_proximity  \n",
       "701         <1H OCEAN  \n",
       "830         <1H OCEAN  \n",
       "859         <1H OCEAN  \n",
       "860         <1H OCEAN  \n",
       "861         <1H OCEAN  \n",
       "...               ...  \n",
       "20635          INLAND  \n",
       "20636          INLAND  \n",
       "20637          INLAND  \n",
       "20638          INLAND  \n",
       "20639          INLAND  \n",
       "\n",
       "[15687 rows x 10 columns]"
      ]
     },
     "execution_count": 5,
     "metadata": {},
     "output_type": "execute_result"
    }
   ],
   "source": [
    "#First, keep only the records where ocean_proximity is either '<1H OCEAN' or 'INLAND'\n",
    "subset_df = df.loc[df['ocean_proximity'].isin(['<1H OCEAN','INLAND'])]\n",
    "subset_df"
   ]
  },
  {
   "cell_type": "code",
   "execution_count": 6,
   "id": "5961c411",
   "metadata": {},
   "outputs": [
    {
     "data": {
      "text/plain": [
       "701    <1H OCEAN\n",
       "830    <1H OCEAN\n",
       "859    <1H OCEAN\n",
       "860    <1H OCEAN\n",
       "Name: ocean_proximity, dtype: object"
      ]
     },
     "execution_count": 6,
     "metadata": {},
     "output_type": "execute_result"
    }
   ],
   "source": [
    "ocean_col = subset_df['ocean_proximity']\n",
    "ocean_col.head(4)"
   ]
  },
  {
   "cell_type": "code",
   "execution_count": 7,
   "id": "4ca7fd5f",
   "metadata": {},
   "outputs": [
    {
     "data": {
      "text/plain": [
       "Index(['longitude', 'latitude', 'housing_median_age', 'total_rooms',\n",
       "       'total_bedrooms', 'population', 'households', 'median_income',\n",
       "       'median_house_value'],\n",
       "      dtype='object')"
      ]
     },
     "execution_count": 7,
     "metadata": {},
     "output_type": "execute_result"
    }
   ],
   "source": [
    "#drop the 'ocean_proximity' column\n",
    "subset_df = subset_df.drop(columns = ['ocean_proximity'],axis=1)\n",
    "subset_df.columns"
   ]
  },
  {
   "cell_type": "code",
   "execution_count": null,
   "id": "74f77480",
   "metadata": {},
   "outputs": [],
   "source": []
  },
  {
   "cell_type": "markdown",
   "id": "55602c43",
   "metadata": {},
   "source": [
    "### Question 1\n",
    "##### There's one feature with missing values. What is it?"
   ]
  },
  {
   "cell_type": "code",
   "execution_count": 8,
   "id": "99e1ad3c",
   "metadata": {},
   "outputs": [
    {
     "data": {
      "text/plain": [
       "longitude               0\n",
       "latitude                0\n",
       "housing_median_age      0\n",
       "total_rooms             0\n",
       "total_bedrooms        157\n",
       "population              0\n",
       "households              0\n",
       "median_income           0\n",
       "median_house_value      0\n",
       "dtype: int64"
      ]
     },
     "execution_count": 8,
     "metadata": {},
     "output_type": "execute_result"
    }
   ],
   "source": [
    "subset_df.isnull().sum()"
   ]
  },
  {
   "cell_type": "markdown",
   "id": "30a6f85e",
   "metadata": {},
   "source": [
    "####  total_bedrooms"
   ]
  },
  {
   "cell_type": "markdown",
   "id": "d19c23d5",
   "metadata": {},
   "source": [
    "### Question 2\n",
    "##### What's the median (50% percentile) for variable 'population'? "
   ]
  },
  {
   "cell_type": "code",
   "execution_count": 9,
   "id": "4d84612f",
   "metadata": {},
   "outputs": [
    {
     "data": {
      "text/html": [
       "<div>\n",
       "<style scoped>\n",
       "    .dataframe tbody tr th:only-of-type {\n",
       "        vertical-align: middle;\n",
       "    }\n",
       "\n",
       "    .dataframe tbody tr th {\n",
       "        vertical-align: top;\n",
       "    }\n",
       "\n",
       "    .dataframe thead th {\n",
       "        text-align: right;\n",
       "    }\n",
       "</style>\n",
       "<table border=\"1\" class=\"dataframe\">\n",
       "  <thead>\n",
       "    <tr style=\"text-align: right;\">\n",
       "      <th></th>\n",
       "      <th>count</th>\n",
       "      <th>mean</th>\n",
       "      <th>std</th>\n",
       "      <th>min</th>\n",
       "      <th>25%</th>\n",
       "      <th>50%</th>\n",
       "      <th>75%</th>\n",
       "      <th>max</th>\n",
       "    </tr>\n",
       "  </thead>\n",
       "  <tbody>\n",
       "    <tr>\n",
       "      <th>longitude</th>\n",
       "      <td>15687.0</td>\n",
       "      <td>-119.217442</td>\n",
       "      <td>1.780380</td>\n",
       "      <td>-124.1400</td>\n",
       "      <td>-121.0700</td>\n",
       "      <td>-118.3700</td>\n",
       "      <td>-117.9900</td>\n",
       "      <td>-114.3100</td>\n",
       "    </tr>\n",
       "    <tr>\n",
       "      <th>latitude</th>\n",
       "      <td>15687.0</td>\n",
       "      <td>35.467307</td>\n",
       "      <td>2.066387</td>\n",
       "      <td>32.6100</td>\n",
       "      <td>33.9400</td>\n",
       "      <td>34.1600</td>\n",
       "      <td>37.3400</td>\n",
       "      <td>41.9500</td>\n",
       "    </tr>\n",
       "    <tr>\n",
       "      <th>housing_median_age</th>\n",
       "      <td>15687.0</td>\n",
       "      <td>27.188118</td>\n",
       "      <td>12.057128</td>\n",
       "      <td>1.0000</td>\n",
       "      <td>17.0000</td>\n",
       "      <td>27.0000</td>\n",
       "      <td>36.0000</td>\n",
       "      <td>52.0000</td>\n",
       "    </tr>\n",
       "    <tr>\n",
       "      <th>total_rooms</th>\n",
       "      <td>15687.0</td>\n",
       "      <td>2665.677312</td>\n",
       "      <td>2257.672743</td>\n",
       "      <td>2.0000</td>\n",
       "      <td>1441.0000</td>\n",
       "      <td>2118.0000</td>\n",
       "      <td>3172.0000</td>\n",
       "      <td>39320.0000</td>\n",
       "    </tr>\n",
       "    <tr>\n",
       "      <th>total_bedrooms</th>\n",
       "      <td>15530.0</td>\n",
       "      <td>541.244688</td>\n",
       "      <td>435.650018</td>\n",
       "      <td>2.0000</td>\n",
       "      <td>295.0000</td>\n",
       "      <td>432.0000</td>\n",
       "      <td>645.0000</td>\n",
       "      <td>6445.0000</td>\n",
       "    </tr>\n",
       "    <tr>\n",
       "      <th>population</th>\n",
       "      <td>15687.0</td>\n",
       "      <td>1466.317205</td>\n",
       "      <td>1180.389908</td>\n",
       "      <td>3.0000</td>\n",
       "      <td>802.0000</td>\n",
       "      <td>1195.0000</td>\n",
       "      <td>1777.0000</td>\n",
       "      <td>35682.0000</td>\n",
       "    </tr>\n",
       "    <tr>\n",
       "      <th>households</th>\n",
       "      <td>15687.0</td>\n",
       "      <td>500.916491</td>\n",
       "      <td>392.759399</td>\n",
       "      <td>2.0000</td>\n",
       "      <td>278.0000</td>\n",
       "      <td>406.0000</td>\n",
       "      <td>602.0000</td>\n",
       "      <td>6082.0000</td>\n",
       "    </tr>\n",
       "    <tr>\n",
       "      <th>median_income</th>\n",
       "      <td>15687.0</td>\n",
       "      <td>3.804019</td>\n",
       "      <td>1.857158</td>\n",
       "      <td>0.4999</td>\n",
       "      <td>2.5208</td>\n",
       "      <td>3.4688</td>\n",
       "      <td>4.6862</td>\n",
       "      <td>15.0001</td>\n",
       "    </tr>\n",
       "    <tr>\n",
       "      <th>median_house_value</th>\n",
       "      <td>15687.0</td>\n",
       "      <td>191943.020017</td>\n",
       "      <td>108801.077620</td>\n",
       "      <td>14999.0000</td>\n",
       "      <td>111300.0000</td>\n",
       "      <td>166900.0000</td>\n",
       "      <td>241100.0000</td>\n",
       "      <td>500001.0000</td>\n",
       "    </tr>\n",
       "  </tbody>\n",
       "</table>\n",
       "</div>"
      ],
      "text/plain": [
       "                      count           mean            std         min  \\\n",
       "longitude           15687.0    -119.217442       1.780380   -124.1400   \n",
       "latitude            15687.0      35.467307       2.066387     32.6100   \n",
       "housing_median_age  15687.0      27.188118      12.057128      1.0000   \n",
       "total_rooms         15687.0    2665.677312    2257.672743      2.0000   \n",
       "total_bedrooms      15530.0     541.244688     435.650018      2.0000   \n",
       "population          15687.0    1466.317205    1180.389908      3.0000   \n",
       "households          15687.0     500.916491     392.759399      2.0000   \n",
       "median_income       15687.0       3.804019       1.857158      0.4999   \n",
       "median_house_value  15687.0  191943.020017  108801.077620  14999.0000   \n",
       "\n",
       "                            25%          50%          75%          max  \n",
       "longitude             -121.0700    -118.3700    -117.9900    -114.3100  \n",
       "latitude                33.9400      34.1600      37.3400      41.9500  \n",
       "housing_median_age      17.0000      27.0000      36.0000      52.0000  \n",
       "total_rooms           1441.0000    2118.0000    3172.0000   39320.0000  \n",
       "total_bedrooms         295.0000     432.0000     645.0000    6445.0000  \n",
       "population             802.0000    1195.0000    1777.0000   35682.0000  \n",
       "households             278.0000     406.0000     602.0000    6082.0000  \n",
       "median_income            2.5208       3.4688       4.6862      15.0001  \n",
       "median_house_value  111300.0000  166900.0000  241100.0000  500001.0000  "
      ]
     },
     "execution_count": 9,
     "metadata": {},
     "output_type": "execute_result"
    }
   ],
   "source": [
    "subset_df.describe().T"
   ]
  },
  {
   "cell_type": "code",
   "execution_count": 10,
   "id": "f4429969",
   "metadata": {},
   "outputs": [
    {
     "data": {
      "text/plain": [
       "1195.0"
      ]
     },
     "execution_count": 10,
     "metadata": {},
     "output_type": "execute_result"
    }
   ],
   "source": [
    "subset_df['population'].median()"
   ]
  },
  {
   "cell_type": "code",
   "execution_count": null,
   "id": "07b4ea24",
   "metadata": {},
   "outputs": [],
   "source": []
  },
  {
   "cell_type": "markdown",
   "id": "4db9d68b",
   "metadata": {},
   "source": [
    "### Question 3\n",
    "###### We need to deal with missing values for the column from Q1.\n",
    "###### We have two options: fill it with 0 or with the mean of this variable.\n",
    "###### Try both options. For each, train a linear regression model without regularization using the code from the lessons.\n",
    "###### For computing the mean, use the training only!\n",
    "###### Use the validation dataset to evaluate the models and compare the RMSE of each option.\n",
    "###### Round the RMSE scores to 2 decimal digits using round(score, 2)\n",
    "###### Which option gives better RMSE?\n",
    "###### Options:\n",
    "\n",
    "###### With 0\n",
    "###### With mean\n",
    "###### Both are equally good"
   ]
  },
  {
   "cell_type": "code",
   "execution_count": null,
   "id": "8120bb37",
   "metadata": {},
   "outputs": [],
   "source": []
  },
  {
   "cell_type": "markdown",
   "id": "89e70d3a",
   "metadata": {},
   "source": [
    "##### Prepare and split the dataset"
   ]
  },
  {
   "cell_type": "code",
   "execution_count": 11,
   "id": "7dd887a7",
   "metadata": {},
   "outputs": [
    {
     "data": {
      "text/plain": [
       "15687"
      ]
     },
     "execution_count": 11,
     "metadata": {},
     "output_type": "execute_result"
    }
   ],
   "source": [
    "size = len(subset_df)\n",
    "size"
   ]
  },
  {
   "cell_type": "code",
   "execution_count": 12,
   "id": "70801103",
   "metadata": {},
   "outputs": [],
   "source": [
    "# Shuffle the dataset (the filtered one you created above), use seed 42.\n",
    "idx = np.arange(size)\n",
    "np.random.seed(42)\n",
    "np.random.shuffle(idx)"
   ]
  },
  {
   "cell_type": "code",
   "execution_count": 13,
   "id": "039904cd",
   "metadata": {},
   "outputs": [
    {
     "data": {
      "text/plain": [
       "array([15183,  4469,  9316, ...,  5390,   860,  7270])"
      ]
     },
     "execution_count": 13,
     "metadata": {},
     "output_type": "execute_result"
    }
   ],
   "source": [
    "idx"
   ]
  },
  {
   "cell_type": "code",
   "execution_count": null,
   "id": "3fee1de5",
   "metadata": {},
   "outputs": [],
   "source": []
  },
  {
   "cell_type": "code",
   "execution_count": 14,
   "id": "40d38a91",
   "metadata": {},
   "outputs": [],
   "source": [
    "# Split your data in train/val/test sets, with 60%/20%/20% distribution."
   ]
  },
  {
   "cell_type": "code",
   "execution_count": 15,
   "id": "7a17b6d5",
   "metadata": {},
   "outputs": [
    {
     "data": {
      "text/plain": [
       "(15687, 15687)"
      ]
     },
     "execution_count": 15,
     "metadata": {},
     "output_type": "execute_result"
    }
   ],
   "source": [
    "val_size = int(size * 0.2) \n",
    "test_size = int(size * 0.2)\n",
    "train_size = size - (val_size + test_size)\n",
    "\n",
    "size, (val_size + test_size+ train_size)"
   ]
  },
  {
   "cell_type": "code",
   "execution_count": 16,
   "id": "837b75ae",
   "metadata": {},
   "outputs": [
    {
     "data": {
      "text/plain": [
       "(3137, 3137, 9413)"
      ]
     },
     "execution_count": 16,
     "metadata": {},
     "output_type": "execute_result"
    }
   ],
   "source": [
    "val_size , test_size , train_size"
   ]
  },
  {
   "cell_type": "code",
   "execution_count": 17,
   "id": "454c276c",
   "metadata": {},
   "outputs": [],
   "source": [
    "train_df = subset_df.iloc[idx[: train_size]]\n",
    "val_df = subset_df.iloc[idx[train_size : train_size + val_size]]\n",
    "test_df = subset_df.iloc[idx[train_size + val_size:]]"
   ]
  },
  {
   "cell_type": "code",
   "execution_count": 18,
   "id": "026884f8",
   "metadata": {},
   "outputs": [],
   "source": [
    "#reset the index\n",
    "train_df = train_df.reset_index(drop=True)\n",
    "val_df = val_df.reset_index(drop=True)\n",
    "test_df = test_df.reset_index(drop=True)"
   ]
  },
  {
   "cell_type": "code",
   "execution_count": 19,
   "id": "9013b4fa",
   "metadata": {},
   "outputs": [
    {
     "data": {
      "text/html": [
       "<div>\n",
       "<style scoped>\n",
       "    .dataframe tbody tr th:only-of-type {\n",
       "        vertical-align: middle;\n",
       "    }\n",
       "\n",
       "    .dataframe tbody tr th {\n",
       "        vertical-align: top;\n",
       "    }\n",
       "\n",
       "    .dataframe thead th {\n",
       "        text-align: right;\n",
       "    }\n",
       "</style>\n",
       "<table border=\"1\" class=\"dataframe\">\n",
       "  <thead>\n",
       "    <tr style=\"text-align: right;\">\n",
       "      <th></th>\n",
       "      <th>longitude</th>\n",
       "      <th>latitude</th>\n",
       "      <th>housing_median_age</th>\n",
       "      <th>total_rooms</th>\n",
       "      <th>total_bedrooms</th>\n",
       "      <th>population</th>\n",
       "      <th>households</th>\n",
       "      <th>median_income</th>\n",
       "      <th>median_house_value</th>\n",
       "    </tr>\n",
       "  </thead>\n",
       "  <tbody>\n",
       "    <tr>\n",
       "      <th>0</th>\n",
       "      <td>-117.44</td>\n",
       "      <td>33.90</td>\n",
       "      <td>23.0</td>\n",
       "      <td>4487.0</td>\n",
       "      <td>754.0</td>\n",
       "      <td>2609.0</td>\n",
       "      <td>778.0</td>\n",
       "      <td>4.2788</td>\n",
       "      <td>148700.0</td>\n",
       "    </tr>\n",
       "    <tr>\n",
       "      <th>1</th>\n",
       "      <td>-121.65</td>\n",
       "      <td>38.03</td>\n",
       "      <td>28.0</td>\n",
       "      <td>3144.0</td>\n",
       "      <td>694.0</td>\n",
       "      <td>1095.0</td>\n",
       "      <td>482.0</td>\n",
       "      <td>3.4402</td>\n",
       "      <td>192400.0</td>\n",
       "    </tr>\n",
       "    <tr>\n",
       "      <th>2</th>\n",
       "      <td>-121.85</td>\n",
       "      <td>37.25</td>\n",
       "      <td>20.0</td>\n",
       "      <td>3773.0</td>\n",
       "      <td>624.0</td>\n",
       "      <td>1965.0</td>\n",
       "      <td>607.0</td>\n",
       "      <td>5.4939</td>\n",
       "      <td>241200.0</td>\n",
       "    </tr>\n",
       "    <tr>\n",
       "      <th>3</th>\n",
       "      <td>-116.97</td>\n",
       "      <td>32.78</td>\n",
       "      <td>35.0</td>\n",
       "      <td>1113.0</td>\n",
       "      <td>236.0</td>\n",
       "      <td>681.0</td>\n",
       "      <td>246.0</td>\n",
       "      <td>2.9784</td>\n",
       "      <td>136400.0</td>\n",
       "    </tr>\n",
       "    <tr>\n",
       "      <th>4</th>\n",
       "      <td>-121.32</td>\n",
       "      <td>37.97</td>\n",
       "      <td>43.0</td>\n",
       "      <td>2453.0</td>\n",
       "      <td>490.0</td>\n",
       "      <td>1093.0</td>\n",
       "      <td>438.0</td>\n",
       "      <td>2.9107</td>\n",
       "      <td>88800.0</td>\n",
       "    </tr>\n",
       "    <tr>\n",
       "      <th>...</th>\n",
       "      <td>...</td>\n",
       "      <td>...</td>\n",
       "      <td>...</td>\n",
       "      <td>...</td>\n",
       "      <td>...</td>\n",
       "      <td>...</td>\n",
       "      <td>...</td>\n",
       "      <td>...</td>\n",
       "      <td>...</td>\n",
       "    </tr>\n",
       "    <tr>\n",
       "      <th>3132</th>\n",
       "      <td>-118.14</td>\n",
       "      <td>34.15</td>\n",
       "      <td>41.0</td>\n",
       "      <td>1256.0</td>\n",
       "      <td>407.0</td>\n",
       "      <td>855.0</td>\n",
       "      <td>383.0</td>\n",
       "      <td>1.9923</td>\n",
       "      <td>500001.0</td>\n",
       "    </tr>\n",
       "    <tr>\n",
       "      <th>3133</th>\n",
       "      <td>-121.86</td>\n",
       "      <td>37.40</td>\n",
       "      <td>19.0</td>\n",
       "      <td>4043.0</td>\n",
       "      <td>764.0</td>\n",
       "      <td>2196.0</td>\n",
       "      <td>708.0</td>\n",
       "      <td>6.1504</td>\n",
       "      <td>268400.0</td>\n",
       "    </tr>\n",
       "    <tr>\n",
       "      <th>3134</th>\n",
       "      <td>-118.15</td>\n",
       "      <td>34.07</td>\n",
       "      <td>52.0</td>\n",
       "      <td>1983.0</td>\n",
       "      <td>344.0</td>\n",
       "      <td>887.0</td>\n",
       "      <td>331.0</td>\n",
       "      <td>3.2875</td>\n",
       "      <td>234400.0</td>\n",
       "    </tr>\n",
       "    <tr>\n",
       "      <th>3135</th>\n",
       "      <td>-119.81</td>\n",
       "      <td>36.78</td>\n",
       "      <td>37.0</td>\n",
       "      <td>1965.0</td>\n",
       "      <td>364.0</td>\n",
       "      <td>796.0</td>\n",
       "      <td>335.0</td>\n",
       "      <td>3.6250</td>\n",
       "      <td>83400.0</td>\n",
       "    </tr>\n",
       "    <tr>\n",
       "      <th>3136</th>\n",
       "      <td>-118.35</td>\n",
       "      <td>34.00</td>\n",
       "      <td>46.0</td>\n",
       "      <td>3402.0</td>\n",
       "      <td>503.0</td>\n",
       "      <td>1389.0</td>\n",
       "      <td>504.0</td>\n",
       "      <td>5.3462</td>\n",
       "      <td>270400.0</td>\n",
       "    </tr>\n",
       "  </tbody>\n",
       "</table>\n",
       "<p>3137 rows × 9 columns</p>\n",
       "</div>"
      ],
      "text/plain": [
       "      longitude  latitude  housing_median_age  total_rooms  total_bedrooms  \\\n",
       "0       -117.44     33.90                23.0       4487.0           754.0   \n",
       "1       -121.65     38.03                28.0       3144.0           694.0   \n",
       "2       -121.85     37.25                20.0       3773.0           624.0   \n",
       "3       -116.97     32.78                35.0       1113.0           236.0   \n",
       "4       -121.32     37.97                43.0       2453.0           490.0   \n",
       "...         ...       ...                 ...          ...             ...   \n",
       "3132    -118.14     34.15                41.0       1256.0           407.0   \n",
       "3133    -121.86     37.40                19.0       4043.0           764.0   \n",
       "3134    -118.15     34.07                52.0       1983.0           344.0   \n",
       "3135    -119.81     36.78                37.0       1965.0           364.0   \n",
       "3136    -118.35     34.00                46.0       3402.0           503.0   \n",
       "\n",
       "      population  households  median_income  median_house_value  \n",
       "0         2609.0       778.0         4.2788            148700.0  \n",
       "1         1095.0       482.0         3.4402            192400.0  \n",
       "2         1965.0       607.0         5.4939            241200.0  \n",
       "3          681.0       246.0         2.9784            136400.0  \n",
       "4         1093.0       438.0         2.9107             88800.0  \n",
       "...          ...         ...            ...                 ...  \n",
       "3132       855.0       383.0         1.9923            500001.0  \n",
       "3133      2196.0       708.0         6.1504            268400.0  \n",
       "3134       887.0       331.0         3.2875            234400.0  \n",
       "3135       796.0       335.0         3.6250             83400.0  \n",
       "3136      1389.0       504.0         5.3462            270400.0  \n",
       "\n",
       "[3137 rows x 9 columns]"
      ]
     },
     "execution_count": 19,
     "metadata": {},
     "output_type": "execute_result"
    }
   ],
   "source": [
    "test_df"
   ]
  },
  {
   "cell_type": "code",
   "execution_count": 20,
   "id": "972d007b",
   "metadata": {},
   "outputs": [],
   "source": [
    "# Apply the log transformation to the median_house_value variable using the np.log1p() function.\n",
    "y_train = np.log1p(train_df.median_house_value.values)\n",
    "y_val = np.log1p(val_df.median_house_value.values)\n",
    "y_test = np.log1p(test_df.median_house_value.values)"
   ]
  },
  {
   "cell_type": "code",
   "execution_count": 21,
   "id": "0c424efa",
   "metadata": {},
   "outputs": [],
   "source": [
    "#remove the median_house_value values\n",
    "del(train_df['median_house_value'])\n",
    "del(val_df['median_house_value'])\n",
    "del(test_df['median_house_value'])"
   ]
  },
  {
   "cell_type": "code",
   "execution_count": 22,
   "id": "93e07513",
   "metadata": {},
   "outputs": [
    {
     "data": {
      "text/plain": [
       "9413"
      ]
     },
     "execution_count": 22,
     "metadata": {},
     "output_type": "execute_result"
    }
   ],
   "source": [
    "len(train_df)"
   ]
  },
  {
   "cell_type": "code",
   "execution_count": 23,
   "id": "7a9e3c8c",
   "metadata": {},
   "outputs": [
    {
     "data": {
      "text/plain": [
       "542.552956325786"
      ]
     },
     "execution_count": 23,
     "metadata": {},
     "output_type": "execute_result"
    }
   ],
   "source": [
    "mean_val = train_df['total_bedrooms'].mean()\n",
    "mean_val"
   ]
  },
  {
   "cell_type": "code",
   "execution_count": 72,
   "id": "17213eb2",
   "metadata": {},
   "outputs": [],
   "source": [
    "#data preparation\n",
    "def prepare_X(df, val = 0):\n",
    "    df = df.copy()\n",
    "    \n",
    "    df_num = df.fillna(val)\n",
    "    X = df_num.values\n",
    "    \n",
    "    return X\n"
   ]
  },
  {
   "cell_type": "code",
   "execution_count": null,
   "id": "ff9a6e0e",
   "metadata": {},
   "outputs": [],
   "source": []
  },
  {
   "cell_type": "code",
   "execution_count": 73,
   "id": "ffdc3d12",
   "metadata": {},
   "outputs": [],
   "source": [
    "def train_linear_regression(X, y):\n",
    "    \n",
    "    #define ones and append it to array X\n",
    "    ones = np.ones(X.shape[0])\n",
    "    X = np.column_stack([ones, X])\n",
    "    \n",
    "    #define the GRAM matrix and it's inverse\n",
    "    XTX = X.T.dot(X)\n",
    "    XTX_inv = np.linalg.inv(XTX)\n",
    "    w_full = XTX_inv.dot(X.T).dot(y)\n",
    "    \n",
    "    return w_full[0], w_full[1:]"
   ]
  },
  {
   "cell_type": "code",
   "execution_count": null,
   "id": "62fcfe06",
   "metadata": {},
   "outputs": [],
   "source": []
  },
  {
   "cell_type": "code",
   "execution_count": 74,
   "id": "53b6d45e",
   "metadata": {},
   "outputs": [],
   "source": [
    "X_train_mean = prepare_X(train_df, mean_val)"
   ]
  },
  {
   "cell_type": "code",
   "execution_count": 75,
   "id": "4b9b2f17",
   "metadata": {},
   "outputs": [],
   "source": [
    "W0, W = train_linear_regression(X_train_mean, y_train)"
   ]
  },
  {
   "cell_type": "code",
   "execution_count": 76,
   "id": "172b495b",
   "metadata": {},
   "outputs": [],
   "source": [
    "#predicted value with missing values filled with mean\n",
    "y_pred_mean = W0 + X_train_mean.dot(W)"
   ]
  },
  {
   "cell_type": "code",
   "execution_count": 77,
   "id": "e7b3c988",
   "metadata": {},
   "outputs": [
    {
     "data": {
      "text/plain": [
       "(9413,)"
      ]
     },
     "execution_count": 77,
     "metadata": {},
     "output_type": "execute_result"
    }
   ],
   "source": [
    "y_pred_mean.shape"
   ]
  },
  {
   "cell_type": "code",
   "execution_count": 78,
   "id": "9e55d455",
   "metadata": {},
   "outputs": [
    {
     "data": {
      "text/plain": [
       "<Axes: ylabel='Count'>"
      ]
     },
     "execution_count": 78,
     "metadata": {},
     "output_type": "execute_result"
    },
    {
     "data": {
      "image/png": "[encoded data removed]",
      "text/plain": [
       "<Figure size 640x480 with 1 Axes>"
      ]
     },
     "metadata": {},
     "output_type": "display_data"
    }
   ],
   "source": [
    "sns.histplot(y_pred_mean, alpha=0.5, bins = 50, color ='red')\n",
    "sns.histplot(y_train, alpha=0.5, bins = 50, color ='blue')"
   ]
  },
  {
   "cell_type": "code",
   "execution_count": null,
   "id": "4e33be67",
   "metadata": {},
   "outputs": [],
   "source": []
  },
  {
   "cell_type": "code",
   "execution_count": 79,
   "id": "68480cd7",
   "metadata": {},
   "outputs": [],
   "source": [
    "#predicted value with missing values filled with zero\n",
    "X_val = prepare_X(val_df)"
   ]
  },
  {
   "cell_type": "code",
   "execution_count": 80,
   "id": "acfe06e1",
   "metadata": {},
   "outputs": [],
   "source": [
    "y_pred_zero = W0 + X_val.dot(W)"
   ]
  },
  {
   "cell_type": "code",
   "execution_count": 81,
   "id": "130e3c72",
   "metadata": {},
   "outputs": [
    {
     "data": {
      "text/plain": [
       "<Axes: ylabel='Count'>"
      ]
     },
     "execution_count": 81,
     "metadata": {},
     "output_type": "execute_result"
    },
    {
     "data": {
      "image/png": "[encoded data removed]",
      "text/plain": [
       "<Figure size 640x480 with 1 Axes>"
      ]
     },
     "metadata": {},
     "output_type": "display_data"
    }
   ],
   "source": [
    "sns.histplot(y_pred_zero, alpha=0.5, bins = 50, color ='red')\n",
    "sns.histplot(y_train, alpha=0.5, bins = 50, color ='blue')"
   ]
  },
  {
   "cell_type": "code",
   "execution_count": null,
   "id": "3c9c2dc1",
   "metadata": {},
   "outputs": [],
   "source": []
  },
  {
   "cell_type": "markdown",
   "id": "e7cd0c47",
   "metadata": {},
   "source": [
    "#### comparing the accuracy of the predictions"
   ]
  },
  {
   "cell_type": "code",
   "execution_count": 82,
   "id": "9eecc724",
   "metadata": {},
   "outputs": [],
   "source": [
    "def rmse(y_train, y_pred):\n",
    "    sqr_err = (y_train - y_pred)**2\n",
    "    mse = sqr_err.mean()\n",
    "    \n",
    "    return np.sqrt(mse)"
   ]
  },
  {
   "cell_type": "code",
   "execution_count": 83,
   "id": "b50c1152",
   "metadata": {},
   "outputs": [
    {
     "data": {
      "text/plain": [
       "0.17"
      ]
     },
     "execution_count": 83,
     "metadata": {},
     "output_type": "execute_result"
    }
   ],
   "source": [
    "rmse(y_train, y_pred_mean).round(2)"
   ]
  },
  {
   "cell_type": "code",
   "execution_count": 84,
   "id": "63e00879",
   "metadata": {},
   "outputs": [
    {
     "data": {
      "text/plain": [
       "0.17"
      ]
     },
     "execution_count": 84,
     "metadata": {},
     "output_type": "execute_result"
    }
   ],
   "source": [
    "rmse(y_val, y_pred_zero).round(2)"
   ]
  },
  {
   "cell_type": "markdown",
   "id": "077e87b4",
   "metadata": {},
   "source": [
    "## Answer : Both are equally good "
   ]
  },
  {
   "cell_type": "code",
   "execution_count": null,
   "id": "3d85f708",
   "metadata": {},
   "outputs": [],
   "source": []
  },
  {
   "cell_type": "markdown",
   "id": "1211107b",
   "metadata": {},
   "source": [
    "### Question 4\n",
    "###### Now let's train a regularized linear regression.\n",
    "###### For this question, fill the NAs with 0.\n",
    "###### Try different values of r from this list: [0, 0.000001, 0.0001, 0.001, 0.01, 0.1, 1, 5, 10].\n",
    "###### Use RMSE to evaluate the model on the validation dataset.\n",
    "###### Round the RMSE scores to 2 decimal digits.\n",
    "###### Which r gives the best RMSE?\n",
    "###### If there are multiple options, select the smallest r."
   ]
  },
  {
   "cell_type": "code",
   "execution_count": null,
   "id": "4c323789",
   "metadata": {},
   "outputs": [],
   "source": []
  },
  {
   "cell_type": "code",
   "execution_count": 85,
   "id": "40d08ce8",
   "metadata": {},
   "outputs": [],
   "source": [
    "# introducing regularization to the model\n",
    "def train_linear_regression_reg(X, y, r):\n",
    "    \n",
    "    #define ones and append it to array X\n",
    "    ones = np.ones(X.shape[0])\n",
    "    X = np.column_stack([ones, X])\n",
    "    \n",
    "    #define the GRAM matrix\n",
    "    XTX = X.T.dot(X)\n",
    "    \n",
    "    #introduce the regularization term\n",
    "    XTX = XTX + r * np.eye(XTX.shape[0])\n",
    "    \n",
    "    XTX_inv = np.linalg.inv(XTX)\n",
    "    w_full = XTX_inv.dot(X.T).dot(y)\n",
    "    \n",
    "    return w_full[0], w_full[1:]"
   ]
  },
  {
   "cell_type": "code",
   "execution_count": 86,
   "id": "3226eea2",
   "metadata": {},
   "outputs": [
    {
     "name": "stdout",
     "output_type": "stream",
     "text": [
      "For r: 0 :score is :0.17\n",
      "For r: 1e-06 :score is :0.17\n",
      "For r: 0.0001 :score is :0.17\n",
      "For r: 0.001 :score is :0.17\n",
      "For r: 0.01 :score is :0.17\n",
      "For r: 0.1 :score is :0.17\n",
      "For r: 1 :score is :0.17\n",
      "For r: 5 :score is :0.17\n",
      "For r: 10 :score is :0.17\n"
     ]
    }
   ],
   "source": [
    "for r in [0, 0.000001, 0.0001, 0.001, 0.01, 0.1, 1, 5, 10]:\n",
    "    X_train = prepare_X(train_df)\n",
    "    W0, W = train_linear_regression_reg(X_train, y_train, r)\n",
    "\n",
    "    X_val = prepare_X(val_df)\n",
    "    y_pred = W0 + X_val.dot(W)\n",
    "\n",
    "    score = rmse(y_val, y_pred).round(2)\n",
    "    print(\"For r: \"+str(r)+\" :score is :\"+str(score))"
   ]
  },
  {
   "cell_type": "code",
   "execution_count": null,
   "id": "f8e19f98",
   "metadata": {},
   "outputs": [],
   "source": []
  },
  {
   "cell_type": "markdown",
   "id": "baa1b844",
   "metadata": {},
   "source": [
    "### Question 5\n",
    "###### We used seed 42 for splitting the data. Let's find out how selecting the seed influences our score.\n",
    "###### Try different seed values: [0, 1, 2, 3, 4, 5, 6, 7, 8, 9].\n",
    "###### For each seed, do the train/validation/test split with 60%/20%/20% distribution.\n",
    "###### Fill the missing values with 0 and train a model without regularization.\n",
    "###### For each seed, evaluate the model on the validation dataset and collect the RMSE scores.\n",
    "###### What's the standard deviation of all the scores? To compute the standard deviation, use np.std.\n",
    "###### Round the result to 3 decimal digits (round(std, 3))"
   ]
  },
  {
   "cell_type": "code",
   "execution_count": 87,
   "id": "71777882",
   "metadata": {},
   "outputs": [
    {
     "name": "stdout",
     "output_type": "stream",
     "text": [
      "For seed: 0 score is :0.0\n",
      "For seed: 1 score is :0.0\n",
      "For seed: 2 score is :0.0\n",
      "For seed: 3 score is :0.0\n",
      "For seed: 4 score is :0.0\n",
      "For seed: 5 score is :0.0\n",
      "For seed: 6 score is :0.0\n",
      "For seed: 7 score is :0.0\n",
      "For seed: 8 score is :0.0\n",
      "For seed: 9 score is :0.0\n"
     ]
    }
   ],
   "source": [
    "for seed in [0, 1, 2, 3, 4, 5, 6, 7, 8, 9]:\n",
    "    idx = np.arange(size)\n",
    "    np.random.seed(seed)\n",
    "    np.random.shuffle(idx)\n",
    "    \n",
    "    val_size = int(size * 0.2) \n",
    "    test_size = int(size * 0.2)\n",
    "    train_size = size - (val_size + test_size)\n",
    "    \n",
    "    train_df = subset_df.iloc[idx[: train_size]]\n",
    "    val_df = subset_df.iloc[idx[train_size : train_size + val_size]]\n",
    "    test_df = subset_df.iloc[idx[train_size + val_size:]]\n",
    "    \n",
    "    train_df = train_df.reset_index(drop=True)\n",
    "    val_df = val_df.reset_index(drop=True)\n",
    "    test_df = test_df.reset_index(drop=True)\n",
    "    \n",
    "    y_train = np.log1p(train_df.median_house_value.values)\n",
    "    y_val = np.log1p(val_df.median_house_value.values)\n",
    "    y_test = np.log1p(test_df.median_house_value.values)\n",
    "    \n",
    "    X_train = prepare_X(train_df)\n",
    "    W0, W = train_linear_regression(X_train, y_train)\n",
    "\n",
    "    X_val = prepare_X(val_df)\n",
    "    y_pred = W0 + X_val.dot(W)\n",
    "\n",
    "    std = np.std(rmse(y_val, y_pred))\n",
    "    score = std.round(2)\n",
    "    print(\"For seed: \"+str(seed)+\" score is :\"+str(score))"
   ]
  },
  {
   "cell_type": "code",
   "execution_count": null,
   "id": "a86aa294",
   "metadata": {},
   "outputs": [],
   "source": []
  },
  {
   "cell_type": "markdown",
   "id": "66a3dfb7",
   "metadata": {},
   "source": [
    "### Question 6\n",
    "###### Split the dataset like previously, use seed 9.\n",
    "###### Combine train and validation datasets.\n",
    "###### Fill the missing values with 0 and train a model with r=0.001.\n",
    "###### What's the RMSE on the test dataset?"
   ]
  },
  {
   "cell_type": "code",
   "execution_count": 88,
   "id": "fd7a2c07",
   "metadata": {},
   "outputs": [
    {
     "data": {
      "text/plain": [
       "0.17"
      ]
     },
     "execution_count": 88,
     "metadata": {},
     "output_type": "execute_result"
    }
   ],
   "source": [
    "idx = np.arange(size)\n",
    "np.random.seed(9)\n",
    "np.random.shuffle(idx)\n",
    "    \n",
    "val_size = int(size * 0.2) \n",
    "test_size = int(size * 0.2)\n",
    "train_size = size - (val_size + test_size)\n",
    "    \n",
    "train_df = subset_df.iloc[idx[: train_size]]\n",
    "val_df = subset_df.iloc[idx[train_size : train_size + val_size]]\n",
    "test_df = subset_df.iloc[idx[train_size + val_size:]]\n",
    "    \n",
    "train_df = train_df.reset_index(drop=True)\n",
    "val_df = val_df.reset_index(drop=True)\n",
    "test_df = test_df.reset_index(drop=True)\n",
    "    \n",
    "y_train = np.log1p(train_df.median_house_value.values)\n",
    "y_val = np.log1p(val_df.median_house_value.values)\n",
    "y_test = np.log1p(test_df.median_house_value.values)\n",
    "    \n",
    "X_train = prepare_X(train_df)\n",
    "W0, W = train_linear_regression_reg(X_train, y_train, r=0.001)\n",
    "\n",
    "X_val = prepare_X(val_df)\n",
    "y_pred = W0 + X_val.dot(W)\n",
    "\n",
    "rmse(y_val, y_pred).round(2)"
   ]
  },
  {
   "cell_type": "code",
   "execution_count": null,
   "id": "20307d23",
   "metadata": {},
   "outputs": [],
   "source": []
  },
  {
   "cell_type": "markdown",
   "id": "8b46c40d",
   "metadata": {},
   "source": [
    "###  Using"
   ]
  },
  {
   "cell_type": "code",
   "execution_count": null,
   "id": "79c6c74a",
   "metadata": {},
   "outputs": [],
   "source": []
  }
 ],
 "metadata": {
  "kernelspec": {
   "display_name": "Python 3 (ipykernel)",
   "language": "python",
   "name": "python3"
  },
  "language_info": {
   "codemirror_mode": {
    "name": "ipython",
    "version": 3
   },
   "file_extension": ".py",
   "mimetype": "text/x-python",
   "name": "python",
   "nbconvert_exporter": "python",
   "pygments_lexer": "ipython3",
   "version": "3.11.4"
  }
 },
 "nbformat": 4,
 "nbformat_minor": 5
}
