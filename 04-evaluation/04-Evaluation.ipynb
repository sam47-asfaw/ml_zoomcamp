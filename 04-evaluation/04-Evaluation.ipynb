{
 "cells": [
  {
   "cell_type": "markdown",
   "id": "8645a19c",
   "metadata": {},
   "source": [
    "### Evaluation Metrics\n",
    "##### Evaluation metrics deals with assessing the predicted response against the actual value\n",
    "##### Evaluation metrics gives us a single number which indicates how good the model is performing"
   ]
  },
  {
   "cell_type": "code",
   "execution_count": null,
   "id": "982126e5",
   "metadata": {},
   "outputs": [],
   "source": []
  },
  {
   "cell_type": "markdown",
   "id": "e9872caa",
   "metadata": {},
   "source": [
    "### Data Acquisition,Wrangling and model training steps"
   ]
  },
  {
   "cell_type": "code",
   "execution_count": 1,
   "id": "3ce31366",
   "metadata": {},
   "outputs": [],
   "source": [
    "import numpy as np\n",
    "import pandas as pd\n",
    "import matplotlib.pyplot as plt\n",
    "%matplotlib inline\n",
    "import seaborn as sns\n",
    "from sklearn.linear_model import LogisticRegression\n",
    "from sklearn.model_selection import train_test_split\n",
    "from sklearn.feature_extraction import DictVectorizer"
   ]
  },
  {
   "cell_type": "code",
   "execution_count": 2,
   "id": "76955e8f",
   "metadata": {},
   "outputs": [],
   "source": [
    "df = pd.read_csv('customer_churn.csv')"
   ]
  },
  {
   "cell_type": "code",
   "execution_count": 3,
   "id": "5fde2bf8",
   "metadata": {},
   "outputs": [
    {
     "name": "stdout",
     "output_type": "stream",
     "text": [
      "<class 'pandas.core.frame.DataFrame'>\n",
      "RangeIndex: 7043 entries, 0 to 7042\n",
      "Data columns (total 21 columns):\n",
      " #   Column            Non-Null Count  Dtype  \n",
      "---  ------            --------------  -----  \n",
      " 0   customerID        7043 non-null   object \n",
      " 1   gender            7043 non-null   object \n",
      " 2   SeniorCitizen     7043 non-null   int64  \n",
      " 3   Partner           7043 non-null   object \n",
      " 4   Dependents        7043 non-null   object \n",
      " 5   tenure            7043 non-null   int64  \n",
      " 6   PhoneService      7043 non-null   object \n",
      " 7   MultipleLines     7043 non-null   object \n",
      " 8   InternetService   7043 non-null   object \n",
      " 9   OnlineSecurity    7043 non-null   object \n",
      " 10  OnlineBackup      7043 non-null   object \n",
      " 11  DeviceProtection  7043 non-null   object \n",
      " 12  TechSupport       7043 non-null   object \n",
      " 13  StreamingTV       7043 non-null   object \n",
      " 14  StreamingMovies   7043 non-null   object \n",
      " 15  Contract          7043 non-null   object \n",
      " 16  PaperlessBilling  7043 non-null   object \n",
      " 17  PaymentMethod     7043 non-null   object \n",
      " 18  MonthlyCharges    7043 non-null   float64\n",
      " 19  TotalCharges      7043 non-null   object \n",
      " 20  Churn             7043 non-null   object \n",
      "dtypes: float64(1), int64(2), object(18)\n",
      "memory usage: 1.1+ MB\n"
     ]
    }
   ],
   "source": [
    "df.info()"
   ]
  },
  {
   "cell_type": "code",
   "execution_count": 4,
   "id": "034eb778",
   "metadata": {},
   "outputs": [
    {
     "data": {
      "text/plain": [
       "Index(['customerid', 'gender', 'seniorcitizen', 'partner', 'dependents',\n",
       "       'tenure', 'phoneservice', 'multiplelines', 'internetservice',\n",
       "       'onlinesecurity', 'onlinebackup', 'deviceprotection', 'techsupport',\n",
       "       'streamingtv', 'streamingmovies', 'contract', 'paperlessbilling',\n",
       "       'paymentmethod', 'monthlycharges', 'totalcharges', 'churn'],\n",
       "      dtype='object')"
      ]
     },
     "execution_count": 4,
     "metadata": {},
     "output_type": "execute_result"
    }
   ],
   "source": [
    "# make the indexes of the column names uniform\n",
    "df.columns = df.columns.str.lower().str.replace(' ', '_')\n",
    "df.columns"
   ]
  },
  {
   "cell_type": "code",
   "execution_count": 5,
   "id": "f576d00f",
   "metadata": {},
   "outputs": [
    {
     "data": {
      "text/plain": [
       "['customerid',\n",
       " 'gender',\n",
       " 'partner',\n",
       " 'dependents',\n",
       " 'phoneservice',\n",
       " 'multiplelines',\n",
       " 'internetservice',\n",
       " 'onlinesecurity',\n",
       " 'onlinebackup',\n",
       " 'deviceprotection',\n",
       " 'techsupport',\n",
       " 'streamingtv',\n",
       " 'streamingmovies',\n",
       " 'contract',\n",
       " 'paperlessbilling',\n",
       " 'paymentmethod',\n",
       " 'totalcharges',\n",
       " 'churn']"
      ]
     },
     "execution_count": 5,
     "metadata": {},
     "output_type": "execute_result"
    }
   ],
   "source": [
    "# make the string values of rows uniform\n",
    "strings = list(df.select_dtypes('object'))\n",
    "strings"
   ]
  },
  {
   "cell_type": "code",
   "execution_count": 6,
   "id": "7ea159e4",
   "metadata": {},
   "outputs": [],
   "source": [
    "for col in strings:\n",
    "    df[col] = df[col].str.lower().str.replace(' ','_')"
   ]
  },
  {
   "cell_type": "code",
   "execution_count": 7,
   "id": "8c37d252",
   "metadata": {},
   "outputs": [],
   "source": [
    "#change totalcharges to numeric type,ignore all non-digit characters\n",
    "df.totalcharges  = pd.to_numeric(df.totalcharges, errors='coerce')"
   ]
  },
  {
   "cell_type": "code",
   "execution_count": 8,
   "id": "73dbf781",
   "metadata": {},
   "outputs": [
    {
     "data": {
      "text/plain": [
       "0"
      ]
     },
     "execution_count": 8,
     "metadata": {},
     "output_type": "execute_result"
    }
   ],
   "source": [
    "#fill the null values with 0\n",
    "df.totalcharges = df.totalcharges.fillna(0)\n",
    "df.totalcharges.isnull().sum()"
   ]
  },
  {
   "cell_type": "code",
   "execution_count": 9,
   "id": "41332ed4",
   "metadata": {},
   "outputs": [],
   "source": [
    "#turn the churn values into numeric values\n",
    "df.churn = (df.churn == 'yes').astype(int)"
   ]
  },
  {
   "cell_type": "code",
   "execution_count": 10,
   "id": "65b0d3da",
   "metadata": {},
   "outputs": [],
   "source": [
    "# 60% for training, 20% for validation and 20% for testing\n",
    "#df is split into 80% for training and 20% for testing \n",
    "df_full_train, df_test = train_test_split(df, test_size=0.2, random_state=1)"
   ]
  },
  {
   "cell_type": "code",
   "execution_count": 11,
   "id": "99d1d340",
   "metadata": {},
   "outputs": [
    {
     "data": {
      "text/plain": [
       "(5634, 1409)"
      ]
     },
     "execution_count": 11,
     "metadata": {},
     "output_type": "execute_result"
    }
   ],
   "source": [
    "len(df_full_train), len(df_test)"
   ]
  },
  {
   "cell_type": "code",
   "execution_count": 12,
   "id": "bd0f4131",
   "metadata": {},
   "outputs": [],
   "source": [
    "#split df_full_train into df_val(validation data)\n",
    "#test size =0.25 because the df_full_train df is 80% of the original df\n",
    "df_train, df_val = train_test_split(df_full_train, test_size = 0.25, random_state=1)"
   ]
  },
  {
   "cell_type": "code",
   "execution_count": 13,
   "id": "1a051b63",
   "metadata": {},
   "outputs": [
    {
     "data": {
      "text/plain": [
       "(7043, 4225, 1409, 1409)"
      ]
     },
     "execution_count": 13,
     "metadata": {},
     "output_type": "execute_result"
    }
   ],
   "source": [
    "len(df), len(df_train), len(df_test), len(df_val)"
   ]
  },
  {
   "cell_type": "code",
   "execution_count": 14,
   "id": "2d0da2a8",
   "metadata": {},
   "outputs": [],
   "source": [
    "#reset the indexes\n",
    "df_train = df_train.reset_index(drop=True)\n",
    "df_val = df_val.reset_index(drop=True)\n",
    "df_test = df_test.reset_index(drop=True)"
   ]
  },
  {
   "cell_type": "code",
   "execution_count": 15,
   "id": "4020a323",
   "metadata": {},
   "outputs": [],
   "source": [
    "#split the churn column from the rest of the dataframe\n",
    "y_train = df_train.churn.values\n",
    "y_val = df_val.churn.values\n",
    "y_test = df_test.churn.values"
   ]
  },
  {
   "cell_type": "code",
   "execution_count": 16,
   "id": "e3a0e2e7",
   "metadata": {},
   "outputs": [],
   "source": [
    "del df_train['churn']\n",
    "del df_val['churn']\n",
    "del df_test['churn']"
   ]
  },
  {
   "cell_type": "code",
   "execution_count": 17,
   "id": "c13f479a",
   "metadata": {},
   "outputs": [],
   "source": [
    "#check for missing values\n",
    "df_full_train = df_full_train.reset_index(drop=True)"
   ]
  },
  {
   "cell_type": "code",
   "execution_count": 18,
   "id": "d1653f8d",
   "metadata": {},
   "outputs": [],
   "source": [
    "numerical = ['tenure','monthlycharges','totalcharges']"
   ]
  },
  {
   "cell_type": "code",
   "execution_count": 19,
   "id": "2252aad0",
   "metadata": {},
   "outputs": [],
   "source": [
    "categorical = [ 'gender', 'seniorcitizen', 'partner', 'dependents',\n",
    "       'phoneservice', 'multiplelines', 'internetservice',\n",
    "       'onlinesecurity', 'onlinebackup', 'deviceprotection', 'techsupport',\n",
    "       'streamingtv', 'streamingmovies', 'contract', 'paperlessbilling',\n",
    "       'paymentmethod']"
   ]
  },
  {
   "cell_type": "code",
   "execution_count": 20,
   "id": "f600ab7e",
   "metadata": {},
   "outputs": [],
   "source": [
    "#avoid creating sparse matrix\n",
    "dv = DictVectorizer(sparse= False)"
   ]
  },
  {
   "cell_type": "code",
   "execution_count": 21,
   "id": "a36d471b",
   "metadata": {},
   "outputs": [],
   "source": [
    "#turn categorical and numerical varaibles into dicts\n",
    "train_dicts = df_train[categorical + numerical].to_dict(orient = 'records')"
   ]
  },
  {
   "cell_type": "code",
   "execution_count": 22,
   "id": "e4bc7596",
   "metadata": {},
   "outputs": [
    {
     "data": {
      "text/plain": [
       "(4225, 45)"
      ]
     },
     "execution_count": 22,
     "metadata": {},
     "output_type": "execute_result"
    }
   ],
   "source": [
    "# convert the dicts into vector format\n",
    "X_train = dv.fit_transform(train_dicts)\n",
    "X_train.shape"
   ]
  },
  {
   "cell_type": "code",
   "execution_count": 23,
   "id": "b856fd4f",
   "metadata": {},
   "outputs": [],
   "source": [
    "model = LogisticRegression(max_iter=len(X_train))"
   ]
  },
  {
   "cell_type": "code",
   "execution_count": 24,
   "id": "369d6646",
   "metadata": {},
   "outputs": [
    {
     "data": {
      "text/html": [
       "<style>#sk-container-id-1 {color: black;}#sk-container-id-1 pre{padding: 0;}#sk-container-id-1 div.sk-toggleable {background-color: white;}#sk-container-id-1 label.sk-toggleable__label {cursor: pointer;display: block;width: 100%;margin-bottom: 0;padding: 0.3em;box-sizing: border-box;text-align: center;}#sk-container-id-1 label.sk-toggleable__label-arrow:before {content: \"▸\";float: left;margin-right: 0.25em;color: #696969;}#sk-container-id-1 label.sk-toggleable__label-arrow:hover:before {color: black;}#sk-container-id-1 div.sk-estimator:hover label.sk-toggleable__label-arrow:before {color: black;}#sk-container-id-1 div.sk-toggleable__content {max-height: 0;max-width: 0;overflow: hidden;text-align: left;background-color: #f0f8ff;}#sk-container-id-1 div.sk-toggleable__content pre {margin: 0.2em;color: black;border-radius: 0.25em;background-color: #f0f8ff;}#sk-container-id-1 input.sk-toggleable__control:checked~div.sk-toggleable__content {max-height: 200px;max-width: 100%;overflow: auto;}#sk-container-id-1 input.sk-toggleable__control:checked~label.sk-toggleable__label-arrow:before {content: \"▾\";}#sk-container-id-1 div.sk-estimator input.sk-toggleable__control:checked~label.sk-toggleable__label {background-color: #d4ebff;}#sk-container-id-1 div.sk-label input.sk-toggleable__control:checked~label.sk-toggleable__label {background-color: #d4ebff;}#sk-container-id-1 input.sk-hidden--visually {border: 0;clip: rect(1px 1px 1px 1px);clip: rect(1px, 1px, 1px, 1px);height: 1px;margin: -1px;overflow: hidden;padding: 0;position: absolute;width: 1px;}#sk-container-id-1 div.sk-estimator {font-family: monospace;background-color: #f0f8ff;border: 1px dotted black;border-radius: 0.25em;box-sizing: border-box;margin-bottom: 0.5em;}#sk-container-id-1 div.sk-estimator:hover {background-color: #d4ebff;}#sk-container-id-1 div.sk-parallel-item::after {content: \"\";width: 100%;border-bottom: 1px solid gray;flex-grow: 1;}#sk-container-id-1 div.sk-label:hover label.sk-toggleable__label {background-color: #d4ebff;}#sk-container-id-1 div.sk-serial::before {content: \"\";position: absolute;border-left: 1px solid gray;box-sizing: border-box;top: 0;bottom: 0;left: 50%;z-index: 0;}#sk-container-id-1 div.sk-serial {display: flex;flex-direction: column;align-items: center;background-color: white;padding-right: 0.2em;padding-left: 0.2em;position: relative;}#sk-container-id-1 div.sk-item {position: relative;z-index: 1;}#sk-container-id-1 div.sk-parallel {display: flex;align-items: stretch;justify-content: center;background-color: white;position: relative;}#sk-container-id-1 div.sk-item::before, #sk-container-id-1 div.sk-parallel-item::before {content: \"\";position: absolute;border-left: 1px solid gray;box-sizing: border-box;top: 0;bottom: 0;left: 50%;z-index: -1;}#sk-container-id-1 div.sk-parallel-item {display: flex;flex-direction: column;z-index: 1;position: relative;background-color: white;}#sk-container-id-1 div.sk-parallel-item:first-child::after {align-self: flex-end;width: 50%;}#sk-container-id-1 div.sk-parallel-item:last-child::after {align-self: flex-start;width: 50%;}#sk-container-id-1 div.sk-parallel-item:only-child::after {width: 0;}#sk-container-id-1 div.sk-dashed-wrapped {border: 1px dashed gray;margin: 0 0.4em 0.5em 0.4em;box-sizing: border-box;padding-bottom: 0.4em;background-color: white;}#sk-container-id-1 div.sk-label label {font-family: monospace;font-weight: bold;display: inline-block;line-height: 1.2em;}#sk-container-id-1 div.sk-label-container {text-align: center;}#sk-container-id-1 div.sk-container {/* jupyter's `normalize.less` sets `[hidden] { display: none; }` but bootstrap.min.css set `[hidden] { display: none !important; }` so we also need the `!important` here to be able to override the default hidden behavior on the sphinx rendered scikit-learn.org. See: https://github.com/scikit-learn/scikit-learn/issues/21755 */display: inline-block !important;position: relative;}#sk-container-id-1 div.sk-text-repr-fallback {display: none;}</style><div id=\"sk-container-id-1\" class=\"sk-top-container\"><div class=\"sk-text-repr-fallback\"><pre>LogisticRegression(max_iter=4225)</pre><b>In a Jupyter environment, please rerun this cell to show the HTML representation or trust the notebook. <br />On GitHub, the HTML representation is unable to render, please try loading this page with nbviewer.org.</b></div><div class=\"sk-container\" hidden><div class=\"sk-item\"><div class=\"sk-estimator sk-toggleable\"><input class=\"sk-toggleable__control sk-hidden--visually\" id=\"sk-estimator-id-1\" type=\"checkbox\" checked><label for=\"sk-estimator-id-1\" class=\"sk-toggleable__label sk-toggleable__label-arrow\">LogisticRegression</label><div class=\"sk-toggleable__content\"><pre>LogisticRegression(max_iter=4225)</pre></div></div></div></div></div>"
      ],
      "text/plain": [
       "LogisticRegression(max_iter=4225)"
      ]
     },
     "execution_count": 24,
     "metadata": {},
     "output_type": "execute_result"
    }
   ],
   "source": [
    "model.fit(X_train, y_train)"
   ]
  },
  {
   "cell_type": "code",
   "execution_count": 25,
   "id": "030fd31f",
   "metadata": {},
   "outputs": [],
   "source": [
    "#for validation data \n",
    "val_dict = df_val[categorical + numerical].to_dict(orient = 'records')"
   ]
  },
  {
   "cell_type": "code",
   "execution_count": 26,
   "id": "5568914a",
   "metadata": {},
   "outputs": [],
   "source": [
    "X_val = dv.fit_transform(val_dict)"
   ]
  },
  {
   "cell_type": "code",
   "execution_count": 27,
   "id": "7bc9f0ba",
   "metadata": {},
   "outputs": [],
   "source": [
    "y_pred = model.predict_proba(X_val)[:, 1]"
   ]
  },
  {
   "cell_type": "code",
   "execution_count": 28,
   "id": "a9a3fe87",
   "metadata": {},
   "outputs": [
    {
     "data": {
      "text/plain": [
       "array([False, False, False, ..., False,  True,  True])"
      ]
     },
     "execution_count": 28,
     "metadata": {},
     "output_type": "execute_result"
    }
   ],
   "source": [
    "churn_decision = (y_pred >= 0.5)\n",
    "churn_decision"
   ]
  },
  {
   "cell_type": "code",
   "execution_count": 29,
   "id": "8e662bf0",
   "metadata": {},
   "outputs": [
    {
     "name": "stdout",
     "output_type": "stream",
     "text": [
      "Accuracy of model is 0.803\n"
     ]
    }
   ],
   "source": [
    "model_acc = (y_val == churn_decision).mean()\n",
    "print(\"Accuracy of model is %.3f\" %model_acc)"
   ]
  },
  {
   "cell_type": "code",
   "execution_count": null,
   "id": "43d459ff",
   "metadata": {},
   "outputs": [],
   "source": []
  },
  {
   "cell_type": "markdown",
   "id": "7b343130",
   "metadata": {},
   "source": [
    "### Accuracy and Dummy model\n",
    "###### we used an classification threshold(decision threshold) value of 0.5(meaning customers with predicted value of 0.5 or higher are considered as churning)"
   ]
  },
  {
   "cell_type": "code",
   "execution_count": 30,
   "id": "5ef5b85c",
   "metadata": {},
   "outputs": [
    {
     "data": {
      "text/plain": [
       "array([0.  , 0.05, 0.1 , 0.15, 0.2 , 0.25, 0.3 , 0.35, 0.4 , 0.45, 0.5 ,\n",
       "       0.55, 0.6 , 0.65, 0.7 , 0.75, 0.8 , 0.85, 0.9 , 0.95, 1.  ])"
      ]
     },
     "execution_count": 30,
     "metadata": {},
     "output_type": "execute_result"
    }
   ],
   "source": [
    "#try different threshold values between 0 and 1\n",
    "thresholds = np.linspace(0,1,21)\n",
    "thresholds"
   ]
  },
  {
   "cell_type": "code",
   "execution_count": 31,
   "id": "2f06bc74",
   "metadata": {},
   "outputs": [
    {
     "name": "stdout",
     "output_type": "stream",
     "text": [
      "For threshold 0.00 accuracy of model is 0.274\n",
      "For threshold 0.05 accuracy of model is 0.510\n",
      "For threshold 0.10 accuracy of model is 0.605\n",
      "For threshold 0.15 accuracy of model is 0.665\n",
      "For threshold 0.20 accuracy of model is 0.710\n",
      "For threshold 0.25 accuracy of model is 0.737\n",
      "For threshold 0.30 accuracy of model is 0.757\n",
      "For threshold 0.35 accuracy of model is 0.767\n",
      "For threshold 0.40 accuracy of model is 0.782\n",
      "For threshold 0.45 accuracy of model is 0.795\n",
      "For threshold 0.50 accuracy of model is 0.803\n",
      "For threshold 0.55 accuracy of model is 0.801\n",
      "For threshold 0.60 accuracy of model is 0.798\n",
      "For threshold 0.65 accuracy of model is 0.787\n",
      "For threshold 0.70 accuracy of model is 0.763\n",
      "For threshold 0.75 accuracy of model is 0.742\n",
      "For threshold 0.80 accuracy of model is 0.730\n",
      "For threshold 0.85 accuracy of model is 0.726\n",
      "For threshold 0.90 accuracy of model is 0.726\n",
      "For threshold 0.95 accuracy of model is 0.726\n",
      "For threshold 1.00 accuracy of model is 0.726\n"
     ]
    }
   ],
   "source": [
    "scores = []\n",
    "for t in thresholds:\n",
    "    churn_decision = (y_pred >= t)\n",
    "    model_acc = (y_val == churn_decision).mean()\n",
    "    scores.append(model_acc)\n",
    "    print(\"For threshold %.2f accuracy of model is %.3f\" %(t,model_acc))"
   ]
  },
  {
   "cell_type": "code",
   "execution_count": 32,
   "id": "9eb6885e",
   "metadata": {},
   "outputs": [
    {
     "data": {
      "text/plain": [
       "[<matplotlib.lines.Line2D at 0x1a89af79b10>]"
      ]
     },
     "execution_count": 32,
     "metadata": {},
     "output_type": "execute_result"
    },
    {
     "data": {
      "image/png": "[encoded data removed]",
      "text/plain": [
       "<Figure size 640x480 with 1 Axes>"
      ]
     },
     "metadata": {},
     "output_type": "display_data"
    }
   ],
   "source": [
    "plt.plot(thresholds, scores)"
   ]
  },
  {
   "cell_type": "code",
   "execution_count": 33,
   "id": "601b12ef",
   "metadata": {},
   "outputs": [],
   "source": [
    "#using accuracy_score function from sklearn\n",
    "from sklearn.metrics import accuracy_score"
   ]
  },
  {
   "cell_type": "code",
   "execution_count": 34,
   "id": "3e358ba7",
   "metadata": {},
   "outputs": [
    {
     "data": {
      "text/plain": [
       "0.7260468417317246"
      ]
     },
     "execution_count": 34,
     "metadata": {},
     "output_type": "execute_result"
    }
   ],
   "source": [
    "#accuracy_score(actual val, predicted val)\n",
    "#replace churn_decision with y_pred >= 0.5 for better result\n",
    "acc_score = accuracy_score(y_val, churn_decision)\n",
    "acc_score"
   ]
  },
  {
   "cell_type": "code",
   "execution_count": 35,
   "id": "97898748",
   "metadata": {},
   "outputs": [],
   "source": [
    "#replace churn_decision with y_pred >= 0.5 for better result\n",
    "acc_score = accuracy_score(y_val,y_pred >= 0.5 )"
   ]
  },
  {
   "cell_type": "code",
   "execution_count": 36,
   "id": "6c390c5c",
   "metadata": {},
   "outputs": [
    {
     "data": {
      "text/plain": [
       "0.8034066713981547"
      ]
     },
     "execution_count": 36,
     "metadata": {},
     "output_type": "execute_result"
    }
   ],
   "source": [
    "acc_score"
   ]
  },
  {
   "cell_type": "code",
   "execution_count": 37,
   "id": "afd5a007",
   "metadata": {},
   "outputs": [
    {
     "data": {
      "text/plain": [
       "0.7260468417317246"
      ]
     },
     "execution_count": 37,
     "metadata": {},
     "output_type": "execute_result"
    }
   ],
   "source": [
    "#checking dummy model for baseline(classification threshold == 1.0)\n",
    "# when y_pred >= 1.0 -> means no customer is churning\n",
    "acc_baseline = accuracy_score(y_val, y_pred >= 1.0)\n",
    "acc_baseline"
   ]
  },
  {
   "cell_type": "code",
   "execution_count": 38,
   "id": "12173643",
   "metadata": {},
   "outputs": [],
   "source": [
    "#count the number of predicted values greater than 1.0\n",
    "from collections import Counter"
   ]
  },
  {
   "cell_type": "code",
   "execution_count": 39,
   "id": "64616234",
   "metadata": {},
   "outputs": [
    {
     "data": {
      "text/plain": [
       "Counter({False: 1409})"
      ]
     },
     "execution_count": 39,
     "metadata": {},
     "output_type": "execute_result"
    }
   ],
   "source": [
    "Counter(y_pred >= 1.0)"
   ]
  },
  {
   "cell_type": "code",
   "execution_count": 40,
   "id": "4f54b228",
   "metadata": {},
   "outputs": [
    {
     "data": {
      "text/plain": [
       "Counter({0: 1023, 1: 386})"
      ]
     },
     "execution_count": 40,
     "metadata": {},
     "output_type": "execute_result"
    }
   ],
   "source": [
    "Counter(y_val)"
   ]
  },
  {
   "cell_type": "code",
   "execution_count": 41,
   "id": "65a4b054",
   "metadata": {},
   "outputs": [
    {
     "data": {
      "text/plain": [
       "0.2739531582682754"
      ]
     },
     "execution_count": 41,
     "metadata": {},
     "output_type": "execute_result"
    }
   ],
   "source": [
    "y_val.mean()"
   ]
  },
  {
   "cell_type": "code",
   "execution_count": 42,
   "id": "35a60473",
   "metadata": {},
   "outputs": [
    {
     "data": {
      "text/plain": [
       "0.7260468417317246"
      ]
     },
     "execution_count": 42,
     "metadata": {},
     "output_type": "execute_result"
    }
   ],
   "source": [
    "1 - y_val.mean()"
   ]
  },
  {
   "cell_type": "markdown",
   "id": "d71bd73f",
   "metadata": {},
   "source": [
    "### Insight\n",
    "##### From the above evaluation we can see that accuracy doesn't necessarily indicate how good a model performs \n",
    "#### Since in the above dataset we deal with class imbalance(one class has more samples than the other/s)\n",
    "#### Accuracy doesn't differentiate between errors (false negative and false postive for eg)\n",
    "##### Differentiating between errors is important because some errors are more costly than the others."
   ]
  },
  {
   "cell_type": "code",
   "execution_count": null,
   "id": "d1e66258",
   "metadata": {},
   "outputs": [],
   "source": []
  },
  {
   "cell_type": "markdown",
   "id": "18190166",
   "metadata": {},
   "source": [
    "### Confusion Matrix (Confusion Table)\n",
    "##### Arrange different types of error and accurate outputs in a tabular format\n",
    "##### True Negative(succefully predicted not to churn values), False Negative(predicted not to churn but churned)\n",
    "##### True Positive(succefully predicted churn values) , False Positive(predicted to churn but didn't)"
   ]
  },
  {
   "cell_type": "code",
   "execution_count": 43,
   "id": "4febe1fe",
   "metadata": {},
   "outputs": [],
   "source": [
    "actual_pos = (y_val == 1)\n",
    "actual_neg = (y_val == 0)\n"
   ]
  },
  {
   "cell_type": "code",
   "execution_count": 44,
   "id": "4b32c626",
   "metadata": {},
   "outputs": [
    {
     "data": {
      "text/plain": [
       "array([False, False, False, ..., False,  True,  True])"
      ]
     },
     "execution_count": 44,
     "metadata": {},
     "output_type": "execute_result"
    }
   ],
   "source": [
    "actual_pos"
   ]
  },
  {
   "cell_type": "code",
   "execution_count": 45,
   "id": "19eb9d3d",
   "metadata": {},
   "outputs": [
    {
     "data": {
      "text/plain": [
       "array([ True,  True,  True, ...,  True, False, False])"
      ]
     },
     "execution_count": 45,
     "metadata": {},
     "output_type": "execute_result"
    }
   ],
   "source": [
    "actual_neg"
   ]
  },
  {
   "cell_type": "code",
   "execution_count": 46,
   "id": "0d61fadc",
   "metadata": {},
   "outputs": [],
   "source": [
    "# use 0.5 as threshold\n",
    "t = 0.5\n",
    "pred_pos = (y_pred >= t)\n",
    "pred_neg = (y_pred < t)"
   ]
  },
  {
   "cell_type": "code",
   "execution_count": 47,
   "id": "268cc77d",
   "metadata": {},
   "outputs": [
    {
     "data": {
      "text/plain": [
       "array([False, False, False, ..., False,  True,  True])"
      ]
     },
     "execution_count": 47,
     "metadata": {},
     "output_type": "execute_result"
    }
   ],
   "source": [
    "pred_pos"
   ]
  },
  {
   "cell_type": "code",
   "execution_count": 48,
   "id": "d97b7f0f",
   "metadata": {},
   "outputs": [
    {
     "data": {
      "text/plain": [
       "array([ True,  True,  True, ...,  True, False, False])"
      ]
     },
     "execution_count": 48,
     "metadata": {},
     "output_type": "execute_result"
    }
   ],
   "source": [
    "pred_neg"
   ]
  },
  {
   "cell_type": "code",
   "execution_count": 49,
   "id": "3e81c569",
   "metadata": {},
   "outputs": [],
   "source": [
    "true_pos = (pred_pos & actual_pos).sum()\n",
    "true_neg = (pred_neg & actual_neg).sum()"
   ]
  },
  {
   "cell_type": "code",
   "execution_count": 50,
   "id": "49c760b9",
   "metadata": {},
   "outputs": [
    {
     "data": {
      "text/plain": [
       "(213, 919)"
      ]
     },
     "execution_count": 50,
     "metadata": {},
     "output_type": "execute_result"
    }
   ],
   "source": [
    "true_pos, true_neg"
   ]
  },
  {
   "cell_type": "code",
   "execution_count": 51,
   "id": "bf6eb20c",
   "metadata": {},
   "outputs": [],
   "source": [
    "false_pos = (pred_pos & actual_neg).sum()\n",
    "false_neg = (pred_neg & actual_pos).sum()"
   ]
  },
  {
   "cell_type": "code",
   "execution_count": 52,
   "id": "3c507545",
   "metadata": {},
   "outputs": [
    {
     "data": {
      "text/plain": [
       "(104, 173)"
      ]
     },
     "execution_count": 52,
     "metadata": {},
     "output_type": "execute_result"
    }
   ],
   "source": [
    "false_pos, false_neg"
   ]
  },
  {
   "cell_type": "markdown",
   "id": "d3146969",
   "metadata": {},
   "source": [
    "##### We see that we've successfully predicted 65% true_neg(not churn) and 15 true_pos(churn)\n",
    "##### But there is an error; the false_pos, unsuccessfully predicted to churn but didn't will receive our promotional email (wrong targets)\n",
    "##### While the true_neg (targeted customers), unsuccessfully predicted to not churn but did will not the receive the promotional emails "
   ]
  },
  {
   "cell_type": "code",
   "execution_count": 53,
   "id": "726160b7",
   "metadata": {},
   "outputs": [],
   "source": [
    "#confusion matrix\n",
    "confusion_matrix = np.array([\n",
    "    [true_neg, false_pos],\n",
    "    [false_neg, true_pos]\n",
    "])"
   ]
  },
  {
   "cell_type": "code",
   "execution_count": 54,
   "id": "44ca2c19",
   "metadata": {},
   "outputs": [
    {
     "data": {
      "text/plain": [
       "array([[919, 104],\n",
       "       [173, 213]])"
      ]
     },
     "execution_count": 54,
     "metadata": {},
     "output_type": "execute_result"
    }
   ],
   "source": [
    "confusion_matrix"
   ]
  },
  {
   "cell_type": "code",
   "execution_count": 55,
   "id": "5a461ced",
   "metadata": {},
   "outputs": [
    {
     "data": {
      "text/plain": [
       "array([[0.652, 0.074],\n",
       "       [0.123, 0.151]])"
      ]
     },
     "execution_count": 55,
     "metadata": {},
     "output_type": "execute_result"
    }
   ],
   "source": [
    "#normalizing the confusion matrix(writing it in relative numbers)\n",
    "(confusion_matrix / confusion_matrix.sum()).round(3)"
   ]
  },
  {
   "cell_type": "code",
   "execution_count": null,
   "id": "d04422ee",
   "metadata": {},
   "outputs": [],
   "source": []
  },
  {
   "cell_type": "markdown",
   "id": "f98aa7fa",
   "metadata": {},
   "source": [
    "### Precision and Recall\n",
    "##### Precision deals with the fraction of true_pos values over the total number of positive values\n",
    "##### Precision = true_pos / (true_pos + false_pos)\n",
    "##### Recall deals with the fraction of true_pos values over the total observation of target value\n",
    "##### Recall  = true_pos / (true_pos + false_neg)"
   ]
  },
  {
   "cell_type": "code",
   "execution_count": 56,
   "id": "41f1f801",
   "metadata": {},
   "outputs": [
    {
     "data": {
      "text/plain": [
       "317"
      ]
     },
     "execution_count": 56,
     "metadata": {},
     "output_type": "execute_result"
    }
   ],
   "source": [
    "true_pos + false_pos"
   ]
  },
  {
   "cell_type": "code",
   "execution_count": 57,
   "id": "b2062567",
   "metadata": {},
   "outputs": [
    {
     "data": {
      "text/plain": [
       "0.6719242902208202"
      ]
     },
     "execution_count": 57,
     "metadata": {},
     "output_type": "execute_result"
    }
   ],
   "source": [
    "precision = true_pos / (true_pos + false_pos)\n",
    "precision"
   ]
  },
  {
   "cell_type": "markdown",
   "id": "0db7afed",
   "metadata": {},
   "source": [
    "##### 33% of the users that wiil receive the promotional email are not the target audience (loss of resources)"
   ]
  },
  {
   "cell_type": "code",
   "execution_count": 58,
   "id": "4c67631a",
   "metadata": {},
   "outputs": [
    {
     "data": {
      "text/plain": [
       "386"
      ]
     },
     "execution_count": 58,
     "metadata": {},
     "output_type": "execute_result"
    }
   ],
   "source": [
    "(true_pos + false_neg)"
   ]
  },
  {
   "cell_type": "code",
   "execution_count": 59,
   "id": "dec21ef5",
   "metadata": {},
   "outputs": [
    {
     "data": {
      "text/plain": [
       "0.5518134715025906"
      ]
     },
     "execution_count": 59,
     "metadata": {},
     "output_type": "execute_result"
    }
   ],
   "source": [
    "recall = true_pos / (true_pos + false_neg)\n",
    "recall"
   ]
  },
  {
   "cell_type": "markdown",
   "id": "19725282",
   "metadata": {},
   "source": [
    "##### 45% of the users that were supposed to receive the promotional email will not receive it (loss of targeted customers)"
   ]
  },
  {
   "cell_type": "markdown",
   "id": "02bcbfc7",
   "metadata": {},
   "source": [
    "##### The Precision and Recall show us that accuracy is misleading "
   ]
  },
  {
   "cell_type": "code",
   "execution_count": null,
   "id": "fe5e5f46",
   "metadata": {},
   "outputs": [],
   "source": []
  },
  {
   "cell_type": "markdown",
   "id": "93343722",
   "metadata": {},
   "source": [
    "### ROC CURVES\n",
    "###### Receiver Operating Characteristic curve, is a graph that shows the performance of a classification model at different classification thresholds\n",
    "###### we calcualte the False Postive Rate(fpr) and True Negative Rate(tpr)\n",
    "##### fpr = false_pos / (false_pos + true_neg). In our model fpr deals with all the customers that didn't churn\n",
    "##### tpr = true_pos / (true_pos + false_neg). In our model tpr deals with all the customers that did churn"
   ]
  },
  {
   "cell_type": "code",
   "execution_count": 60,
   "id": "b5cfecce",
   "metadata": {},
   "outputs": [
    {
     "data": {
      "text/plain": [
       "0.5518134715025906"
      ]
     },
     "execution_count": 60,
     "metadata": {},
     "output_type": "execute_result"
    }
   ],
   "source": [
    "#true postive rate\n",
    "tpr = true_pos / (true_pos + false_neg)\n",
    "tpr"
   ]
  },
  {
   "cell_type": "code",
   "execution_count": 61,
   "id": "c5575b54",
   "metadata": {},
   "outputs": [
    {
     "data": {
      "text/plain": [
       "0.5518134715025906"
      ]
     },
     "execution_count": 61,
     "metadata": {},
     "output_type": "execute_result"
    }
   ],
   "source": [
    "#tpr has the same value as recall\n",
    "recall"
   ]
  },
  {
   "cell_type": "code",
   "execution_count": 62,
   "id": "0d8f001d",
   "metadata": {},
   "outputs": [
    {
     "data": {
      "text/plain": [
       "0.10166177908113393"
      ]
     },
     "execution_count": 62,
     "metadata": {},
     "output_type": "execute_result"
    }
   ],
   "source": [
    "fpr= false_pos / (true_neg + false_pos)\n",
    "fpr"
   ]
  },
  {
   "cell_type": "code",
   "execution_count": 63,
   "id": "f51d05f7",
   "metadata": {},
   "outputs": [],
   "source": [
    "#check tpr and fpr for different thresholds\n",
    "thresholds = np.linspace(0,1, 101)\n",
    "scores = []\n",
    "for t in thresholds:\n",
    "    actual_pos = (y_val == 1)\n",
    "    actual_neg = (y_val == 0)\n",
    "    pred_pos = (y_pred >= t)\n",
    "    pred_neg = (y_pred < t)\n",
    "    tp = (pred_pos & actual_pos).sum()\n",
    "    tn = (pred_neg & actual_neg).sum()\n",
    "    fp = (pred_pos & actual_neg).sum()\n",
    "    fn = (pred_neg & actual_pos).sum()\n",
    "    \n",
    "    scores.append((t, tp, tn, fp, fn))\n"
   ]
  },
  {
   "cell_type": "code",
   "execution_count": 64,
   "id": "b73f3dfc",
   "metadata": {},
   "outputs": [
    {
     "data": {
      "text/html": [
       "<div>\n",
       "<style scoped>\n",
       "    .dataframe tbody tr th:only-of-type {\n",
       "        vertical-align: middle;\n",
       "    }\n",
       "\n",
       "    .dataframe tbody tr th {\n",
       "        vertical-align: top;\n",
       "    }\n",
       "\n",
       "    .dataframe thead th {\n",
       "        text-align: right;\n",
       "    }\n",
       "</style>\n",
       "<table border=\"1\" class=\"dataframe\">\n",
       "  <thead>\n",
       "    <tr style=\"text-align: right;\">\n",
       "      <th></th>\n",
       "      <th>thresholds</th>\n",
       "      <th>tp</th>\n",
       "      <th>tn</th>\n",
       "      <th>fp</th>\n",
       "      <th>fn</th>\n",
       "      <th>tpr</th>\n",
       "      <th>fpr</th>\n",
       "    </tr>\n",
       "  </thead>\n",
       "  <tbody>\n",
       "    <tr>\n",
       "      <th>0</th>\n",
       "      <td>0.0</td>\n",
       "      <td>386</td>\n",
       "      <td>0</td>\n",
       "      <td>1023</td>\n",
       "      <td>0</td>\n",
       "      <td>1.000000</td>\n",
       "      <td>1.000000</td>\n",
       "    </tr>\n",
       "    <tr>\n",
       "      <th>10</th>\n",
       "      <td>0.1</td>\n",
       "      <td>368</td>\n",
       "      <td>484</td>\n",
       "      <td>539</td>\n",
       "      <td>18</td>\n",
       "      <td>0.953368</td>\n",
       "      <td>0.526882</td>\n",
       "    </tr>\n",
       "    <tr>\n",
       "      <th>20</th>\n",
       "      <td>0.2</td>\n",
       "      <td>337</td>\n",
       "      <td>663</td>\n",
       "      <td>360</td>\n",
       "      <td>49</td>\n",
       "      <td>0.873057</td>\n",
       "      <td>0.351906</td>\n",
       "    </tr>\n",
       "    <tr>\n",
       "      <th>30</th>\n",
       "      <td>0.3</td>\n",
       "      <td>288</td>\n",
       "      <td>778</td>\n",
       "      <td>245</td>\n",
       "      <td>98</td>\n",
       "      <td>0.746114</td>\n",
       "      <td>0.239492</td>\n",
       "    </tr>\n",
       "    <tr>\n",
       "      <th>40</th>\n",
       "      <td>0.4</td>\n",
       "      <td>251</td>\n",
       "      <td>851</td>\n",
       "      <td>172</td>\n",
       "      <td>135</td>\n",
       "      <td>0.650259</td>\n",
       "      <td>0.168133</td>\n",
       "    </tr>\n",
       "    <tr>\n",
       "      <th>50</th>\n",
       "      <td>0.5</td>\n",
       "      <td>213</td>\n",
       "      <td>919</td>\n",
       "      <td>104</td>\n",
       "      <td>173</td>\n",
       "      <td>0.551813</td>\n",
       "      <td>0.101662</td>\n",
       "    </tr>\n",
       "    <tr>\n",
       "      <th>60</th>\n",
       "      <td>0.6</td>\n",
       "      <td>154</td>\n",
       "      <td>971</td>\n",
       "      <td>52</td>\n",
       "      <td>232</td>\n",
       "      <td>0.398964</td>\n",
       "      <td>0.050831</td>\n",
       "    </tr>\n",
       "    <tr>\n",
       "      <th>70</th>\n",
       "      <td>0.7</td>\n",
       "      <td>69</td>\n",
       "      <td>1006</td>\n",
       "      <td>17</td>\n",
       "      <td>317</td>\n",
       "      <td>0.178756</td>\n",
       "      <td>0.016618</td>\n",
       "    </tr>\n",
       "    <tr>\n",
       "      <th>80</th>\n",
       "      <td>0.8</td>\n",
       "      <td>5</td>\n",
       "      <td>1023</td>\n",
       "      <td>0</td>\n",
       "      <td>381</td>\n",
       "      <td>0.012953</td>\n",
       "      <td>0.000000</td>\n",
       "    </tr>\n",
       "    <tr>\n",
       "      <th>90</th>\n",
       "      <td>0.9</td>\n",
       "      <td>0</td>\n",
       "      <td>1023</td>\n",
       "      <td>0</td>\n",
       "      <td>386</td>\n",
       "      <td>0.000000</td>\n",
       "      <td>0.000000</td>\n",
       "    </tr>\n",
       "    <tr>\n",
       "      <th>100</th>\n",
       "      <td>1.0</td>\n",
       "      <td>0</td>\n",
       "      <td>1023</td>\n",
       "      <td>0</td>\n",
       "      <td>386</td>\n",
       "      <td>0.000000</td>\n",
       "      <td>0.000000</td>\n",
       "    </tr>\n",
       "  </tbody>\n",
       "</table>\n",
       "</div>"
      ],
      "text/plain": [
       "     thresholds   tp    tn    fp   fn       tpr       fpr\n",
       "0           0.0  386     0  1023    0  1.000000  1.000000\n",
       "10          0.1  368   484   539   18  0.953368  0.526882\n",
       "20          0.2  337   663   360   49  0.873057  0.351906\n",
       "30          0.3  288   778   245   98  0.746114  0.239492\n",
       "40          0.4  251   851   172  135  0.650259  0.168133\n",
       "50          0.5  213   919   104  173  0.551813  0.101662\n",
       "60          0.6  154   971    52  232  0.398964  0.050831\n",
       "70          0.7   69  1006    17  317  0.178756  0.016618\n",
       "80          0.8    5  1023     0  381  0.012953  0.000000\n",
       "90          0.9    0  1023     0  386  0.000000  0.000000\n",
       "100         1.0    0  1023     0  386  0.000000  0.000000"
      ]
     },
     "execution_count": 64,
     "metadata": {},
     "output_type": "execute_result"
    }
   ],
   "source": [
    "columns = ['thresholds', 'tp', 'tn', 'fp', 'fn']\n",
    "df_scores = pd.DataFrame(scores, columns = columns)\n",
    "\n",
    "df_scores['tpr'] = df_scores.tp / (df_scores.tp + df_scores.fn)\n",
    "df_scores['fpr'] = df_scores.fp / (df_scores.tn + df_scores.fp)\n",
    "df_scores[:: 10]"
   ]
  },
  {
   "cell_type": "code",
   "execution_count": 65,
   "id": "b5d1aa66",
   "metadata": {},
   "outputs": [
    {
     "data": {
      "text/plain": [
       "<matplotlib.legend.Legend at 0x1a8a332a3d0>"
      ]
     },
     "execution_count": 65,
     "metadata": {},
     "output_type": "execute_result"
    },
    {
     "data": {
      "image/png": "[encoded data removed]",
      "text/plain": [
       "<Figure size 640x480 with 1 Axes>"
      ]
     },
     "metadata": {},
     "output_type": "display_data"
    }
   ],
   "source": [
    "#plot the fpr and tpr of df_scores\n",
    "plt.plot(thresholds, df_scores['fpr'], label='FPR')\n",
    "plt.plot(thresholds, df_scores['tpr'], label='TPR')\n",
    "plt.legend()"
   ]
  },
  {
   "cell_type": "code",
   "execution_count": null,
   "id": "a2b31f2c",
   "metadata": {},
   "outputs": [],
   "source": []
  },
  {
   "cell_type": "markdown",
   "id": "df21033f",
   "metadata": {},
   "source": [
    "### Random Model\n",
    "##### This model will be used as baseline to compare the model"
   ]
  },
  {
   "cell_type": "code",
   "execution_count": 66,
   "id": "d006d200",
   "metadata": {},
   "outputs": [],
   "source": [
    "np.random.seed(42)\n",
    "y_rand = np.random.uniform(0,1, size = len(y_val))"
   ]
  },
  {
   "cell_type": "code",
   "execution_count": 67,
   "id": "97eb02d3",
   "metadata": {},
   "outputs": [
    {
     "data": {
      "text/plain": [
       "0.511000709723208"
      ]
     },
     "execution_count": 67,
     "metadata": {},
     "output_type": "execute_result"
    }
   ],
   "source": [
    "((y_rand >= 0.5) == y_val).mean()"
   ]
  },
  {
   "cell_type": "code",
   "execution_count": 68,
   "id": "2fb751b1",
   "metadata": {},
   "outputs": [],
   "source": [
    "#function to evaluate tpr, fpr for different thresholds\n",
    "def tpr_fpr_dataframe(y_val, y_pred):\n",
    "    thresholds = np.linspace(0,1, 101)\n",
    "    scores = []\n",
    "    for t in thresholds:\n",
    "        actual_pos = (y_val == 1)\n",
    "        actual_neg = (y_val == 0)\n",
    "        pred_pos = (y_pred >= t)\n",
    "        pred_neg = (y_pred < t)\n",
    "        tp = (pred_pos & actual_pos).sum()\n",
    "        tn = (pred_neg & actual_neg).sum()\n",
    "        fp = (pred_pos & actual_neg).sum()\n",
    "        fn = (pred_neg & actual_pos).sum()\n",
    "        scores.append((t, tp, tn, fp, fn))\n",
    "        \n",
    "    columns = ['thresholds', 'tp', 'tn', 'fp', 'fn']\n",
    "    df_scores = pd.DataFrame(scores, columns = columns)\n",
    "    df_scores['tpr'] = df_scores.tp / (df_scores.tp + df_scores.fn)\n",
    "    df_scores['fpr'] = df_scores.fp / (df_scores.tn + df_scores.fp)\n",
    "    \n",
    "    return df_scores\n"
   ]
  },
  {
   "cell_type": "code",
   "execution_count": 69,
   "id": "a1c0daaf",
   "metadata": {},
   "outputs": [
    {
     "data": {
      "text/html": [
       "<div>\n",
       "<style scoped>\n",
       "    .dataframe tbody tr th:only-of-type {\n",
       "        vertical-align: middle;\n",
       "    }\n",
       "\n",
       "    .dataframe tbody tr th {\n",
       "        vertical-align: top;\n",
       "    }\n",
       "\n",
       "    .dataframe thead th {\n",
       "        text-align: right;\n",
       "    }\n",
       "</style>\n",
       "<table border=\"1\" class=\"dataframe\">\n",
       "  <thead>\n",
       "    <tr style=\"text-align: right;\">\n",
       "      <th></th>\n",
       "      <th>thresholds</th>\n",
       "      <th>tp</th>\n",
       "      <th>tn</th>\n",
       "      <th>fp</th>\n",
       "      <th>fn</th>\n",
       "      <th>tpr</th>\n",
       "      <th>fpr</th>\n",
       "    </tr>\n",
       "  </thead>\n",
       "  <tbody>\n",
       "    <tr>\n",
       "      <th>0</th>\n",
       "      <td>0.0</td>\n",
       "      <td>386</td>\n",
       "      <td>0</td>\n",
       "      <td>1023</td>\n",
       "      <td>0</td>\n",
       "      <td>1.000000</td>\n",
       "      <td>1.000000</td>\n",
       "    </tr>\n",
       "    <tr>\n",
       "      <th>10</th>\n",
       "      <td>0.1</td>\n",
       "      <td>354</td>\n",
       "      <td>119</td>\n",
       "      <td>904</td>\n",
       "      <td>32</td>\n",
       "      <td>0.917098</td>\n",
       "      <td>0.883675</td>\n",
       "    </tr>\n",
       "    <tr>\n",
       "      <th>20</th>\n",
       "      <td>0.2</td>\n",
       "      <td>313</td>\n",
       "      <td>233</td>\n",
       "      <td>790</td>\n",
       "      <td>73</td>\n",
       "      <td>0.810881</td>\n",
       "      <td>0.772239</td>\n",
       "    </tr>\n",
       "    <tr>\n",
       "      <th>30</th>\n",
       "      <td>0.3</td>\n",
       "      <td>268</td>\n",
       "      <td>325</td>\n",
       "      <td>698</td>\n",
       "      <td>118</td>\n",
       "      <td>0.694301</td>\n",
       "      <td>0.682307</td>\n",
       "    </tr>\n",
       "    <tr>\n",
       "      <th>40</th>\n",
       "      <td>0.4</td>\n",
       "      <td>236</td>\n",
       "      <td>426</td>\n",
       "      <td>597</td>\n",
       "      <td>150</td>\n",
       "      <td>0.611399</td>\n",
       "      <td>0.583578</td>\n",
       "    </tr>\n",
       "    <tr>\n",
       "      <th>50</th>\n",
       "      <td>0.5</td>\n",
       "      <td>204</td>\n",
       "      <td>516</td>\n",
       "      <td>507</td>\n",
       "      <td>182</td>\n",
       "      <td>0.528497</td>\n",
       "      <td>0.495601</td>\n",
       "    </tr>\n",
       "    <tr>\n",
       "      <th>60</th>\n",
       "      <td>0.6</td>\n",
       "      <td>158</td>\n",
       "      <td>610</td>\n",
       "      <td>413</td>\n",
       "      <td>228</td>\n",
       "      <td>0.409326</td>\n",
       "      <td>0.403715</td>\n",
       "    </tr>\n",
       "    <tr>\n",
       "      <th>70</th>\n",
       "      <td>0.7</td>\n",
       "      <td>116</td>\n",
       "      <td>715</td>\n",
       "      <td>308</td>\n",
       "      <td>270</td>\n",
       "      <td>0.300518</td>\n",
       "      <td>0.301075</td>\n",
       "    </tr>\n",
       "    <tr>\n",
       "      <th>80</th>\n",
       "      <td>0.8</td>\n",
       "      <td>74</td>\n",
       "      <td>806</td>\n",
       "      <td>217</td>\n",
       "      <td>312</td>\n",
       "      <td>0.191710</td>\n",
       "      <td>0.212121</td>\n",
       "    </tr>\n",
       "    <tr>\n",
       "      <th>90</th>\n",
       "      <td>0.9</td>\n",
       "      <td>38</td>\n",
       "      <td>918</td>\n",
       "      <td>105</td>\n",
       "      <td>348</td>\n",
       "      <td>0.098446</td>\n",
       "      <td>0.102639</td>\n",
       "    </tr>\n",
       "    <tr>\n",
       "      <th>100</th>\n",
       "      <td>1.0</td>\n",
       "      <td>0</td>\n",
       "      <td>1023</td>\n",
       "      <td>0</td>\n",
       "      <td>386</td>\n",
       "      <td>0.000000</td>\n",
       "      <td>0.000000</td>\n",
       "    </tr>\n",
       "  </tbody>\n",
       "</table>\n",
       "</div>"
      ],
      "text/plain": [
       "     thresholds   tp    tn    fp   fn       tpr       fpr\n",
       "0           0.0  386     0  1023    0  1.000000  1.000000\n",
       "10          0.1  354   119   904   32  0.917098  0.883675\n",
       "20          0.2  313   233   790   73  0.810881  0.772239\n",
       "30          0.3  268   325   698  118  0.694301  0.682307\n",
       "40          0.4  236   426   597  150  0.611399  0.583578\n",
       "50          0.5  204   516   507  182  0.528497  0.495601\n",
       "60          0.6  158   610   413  228  0.409326  0.403715\n",
       "70          0.7  116   715   308  270  0.300518  0.301075\n",
       "80          0.8   74   806   217  312  0.191710  0.212121\n",
       "90          0.9   38   918   105  348  0.098446  0.102639\n",
       "100         1.0    0  1023     0  386  0.000000  0.000000"
      ]
     },
     "execution_count": 69,
     "metadata": {},
     "output_type": "execute_result"
    }
   ],
   "source": [
    "df_rand = tpr_fpr_dataframe(y_val, y_rand)\n",
    "df_rand[::10]"
   ]
  },
  {
   "cell_type": "code",
   "execution_count": 70,
   "id": "fafdf639",
   "metadata": {},
   "outputs": [
    {
     "data": {
      "text/plain": [
       "<matplotlib.legend.Legend at 0x1a8a333ef50>"
      ]
     },
     "execution_count": 70,
     "metadata": {},
     "output_type": "execute_result"
    },
    {
     "data": {
      "image/png": "[encoded data removed]",
      "text/plain": [
       "<Figure size 640x480 with 1 Axes>"
      ]
     },
     "metadata": {},
     "output_type": "display_data"
    }
   ],
   "source": [
    "#plot the fpr and tpr of df_rand\n",
    "plt.plot(thresholds, df_rand['fpr'], label='FPR')\n",
    "plt.plot(thresholds, df_rand['tpr'], label='TPR')\n",
    "plt.legend()"
   ]
  },
  {
   "cell_type": "code",
   "execution_count": null,
   "id": "7ecd3082",
   "metadata": {},
   "outputs": [],
   "source": []
  },
  {
   "cell_type": "markdown",
   "id": "5624d934",
   "metadata": {},
   "source": [
    "### Ideal Model\n",
    "##### This model will be the benchmark for our model"
   ]
  },
  {
   "cell_type": "code",
   "execution_count": 71,
   "id": "fad7f7de",
   "metadata": {},
   "outputs": [
    {
     "data": {
      "text/plain": [
       "(1023, 386)"
      ]
     },
     "execution_count": 71,
     "metadata": {},
     "output_type": "execute_result"
    }
   ],
   "source": [
    "num_neg = (y_val == 0).sum()\n",
    "num_pos = (y_val == 1).sum()\n",
    "\n",
    "num_neg, num_pos"
   ]
  },
  {
   "cell_type": "code",
   "execution_count": 72,
   "id": "a60db1ff",
   "metadata": {},
   "outputs": [
    {
     "data": {
      "text/plain": [
       "array([0, 0, 0, ..., 1, 1, 1])"
      ]
     },
     "execution_count": 72,
     "metadata": {},
     "output_type": "execute_result"
    }
   ],
   "source": [
    "#create an ideal array(1023 1 values and 386 0 values)\n",
    "y_ideal = np.repeat([0,1], [num_neg, num_pos])\n",
    "y_ideal"
   ]
  },
  {
   "cell_type": "code",
   "execution_count": 73,
   "id": "f023b299",
   "metadata": {},
   "outputs": [
    {
     "data": {
      "text/plain": [
       "array([0.00000000e+00, 7.10227273e-04, 1.42045455e-03, ...,\n",
       "       9.98579545e-01, 9.99289773e-01, 1.00000000e+00])"
      ]
     },
     "execution_count": 73,
     "metadata": {},
     "output_type": "execute_result"
    }
   ],
   "source": [
    "y_ideal_pred = np.linspace(0, 1, len(y_val))\n",
    "y_ideal_pred"
   ]
  },
  {
   "cell_type": "code",
   "execution_count": 74,
   "id": "6c2f6c59",
   "metadata": {},
   "outputs": [
    {
     "data": {
      "text/plain": [
       "0.7260468417317246"
      ]
     },
     "execution_count": 74,
     "metadata": {},
     "output_type": "execute_result"
    }
   ],
   "source": [
    "#find the threshold inorder to find the perfect value\n",
    "1 - y_val.mean()"
   ]
  },
  {
   "cell_type": "code",
   "execution_count": 75,
   "id": "57d99a44",
   "metadata": {},
   "outputs": [
    {
     "data": {
      "text/plain": [
       "1.0"
      ]
     },
     "execution_count": 75,
     "metadata": {},
     "output_type": "execute_result"
    }
   ],
   "source": [
    "((y_ideal_pred >= 0.726) == y_ideal).mean()"
   ]
  },
  {
   "cell_type": "code",
   "execution_count": 76,
   "id": "a4c0cb99",
   "metadata": {},
   "outputs": [
    {
     "data": {
      "text/html": [
       "<div>\n",
       "<style scoped>\n",
       "    .dataframe tbody tr th:only-of-type {\n",
       "        vertical-align: middle;\n",
       "    }\n",
       "\n",
       "    .dataframe tbody tr th {\n",
       "        vertical-align: top;\n",
       "    }\n",
       "\n",
       "    .dataframe thead th {\n",
       "        text-align: right;\n",
       "    }\n",
       "</style>\n",
       "<table border=\"1\" class=\"dataframe\">\n",
       "  <thead>\n",
       "    <tr style=\"text-align: right;\">\n",
       "      <th></th>\n",
       "      <th>thresholds</th>\n",
       "      <th>tp</th>\n",
       "      <th>tn</th>\n",
       "      <th>fp</th>\n",
       "      <th>fn</th>\n",
       "      <th>tpr</th>\n",
       "      <th>fpr</th>\n",
       "    </tr>\n",
       "  </thead>\n",
       "  <tbody>\n",
       "    <tr>\n",
       "      <th>0</th>\n",
       "      <td>0.00</td>\n",
       "      <td>386</td>\n",
       "      <td>0</td>\n",
       "      <td>1023</td>\n",
       "      <td>0</td>\n",
       "      <td>1.000000</td>\n",
       "      <td>1.000000</td>\n",
       "    </tr>\n",
       "    <tr>\n",
       "      <th>1</th>\n",
       "      <td>0.01</td>\n",
       "      <td>386</td>\n",
       "      <td>15</td>\n",
       "      <td>1008</td>\n",
       "      <td>0</td>\n",
       "      <td>1.000000</td>\n",
       "      <td>0.985337</td>\n",
       "    </tr>\n",
       "    <tr>\n",
       "      <th>2</th>\n",
       "      <td>0.02</td>\n",
       "      <td>386</td>\n",
       "      <td>29</td>\n",
       "      <td>994</td>\n",
       "      <td>0</td>\n",
       "      <td>1.000000</td>\n",
       "      <td>0.971652</td>\n",
       "    </tr>\n",
       "    <tr>\n",
       "      <th>3</th>\n",
       "      <td>0.03</td>\n",
       "      <td>386</td>\n",
       "      <td>43</td>\n",
       "      <td>980</td>\n",
       "      <td>0</td>\n",
       "      <td>1.000000</td>\n",
       "      <td>0.957967</td>\n",
       "    </tr>\n",
       "    <tr>\n",
       "      <th>4</th>\n",
       "      <td>0.04</td>\n",
       "      <td>386</td>\n",
       "      <td>57</td>\n",
       "      <td>966</td>\n",
       "      <td>0</td>\n",
       "      <td>1.000000</td>\n",
       "      <td>0.944282</td>\n",
       "    </tr>\n",
       "    <tr>\n",
       "      <th>...</th>\n",
       "      <td>...</td>\n",
       "      <td>...</td>\n",
       "      <td>...</td>\n",
       "      <td>...</td>\n",
       "      <td>...</td>\n",
       "      <td>...</td>\n",
       "      <td>...</td>\n",
       "    </tr>\n",
       "    <tr>\n",
       "      <th>96</th>\n",
       "      <td>0.96</td>\n",
       "      <td>57</td>\n",
       "      <td>1023</td>\n",
       "      <td>0</td>\n",
       "      <td>329</td>\n",
       "      <td>0.147668</td>\n",
       "      <td>0.000000</td>\n",
       "    </tr>\n",
       "    <tr>\n",
       "      <th>97</th>\n",
       "      <td>0.97</td>\n",
       "      <td>43</td>\n",
       "      <td>1023</td>\n",
       "      <td>0</td>\n",
       "      <td>343</td>\n",
       "      <td>0.111399</td>\n",
       "      <td>0.000000</td>\n",
       "    </tr>\n",
       "    <tr>\n",
       "      <th>98</th>\n",
       "      <td>0.98</td>\n",
       "      <td>29</td>\n",
       "      <td>1023</td>\n",
       "      <td>0</td>\n",
       "      <td>357</td>\n",
       "      <td>0.075130</td>\n",
       "      <td>0.000000</td>\n",
       "    </tr>\n",
       "    <tr>\n",
       "      <th>99</th>\n",
       "      <td>0.99</td>\n",
       "      <td>15</td>\n",
       "      <td>1023</td>\n",
       "      <td>0</td>\n",
       "      <td>371</td>\n",
       "      <td>0.038860</td>\n",
       "      <td>0.000000</td>\n",
       "    </tr>\n",
       "    <tr>\n",
       "      <th>100</th>\n",
       "      <td>1.00</td>\n",
       "      <td>1</td>\n",
       "      <td>1023</td>\n",
       "      <td>0</td>\n",
       "      <td>385</td>\n",
       "      <td>0.002591</td>\n",
       "      <td>0.000000</td>\n",
       "    </tr>\n",
       "  </tbody>\n",
       "</table>\n",
       "<p>101 rows × 7 columns</p>\n",
       "</div>"
      ],
      "text/plain": [
       "     thresholds   tp    tn    fp   fn       tpr       fpr\n",
       "0          0.00  386     0  1023    0  1.000000  1.000000\n",
       "1          0.01  386    15  1008    0  1.000000  0.985337\n",
       "2          0.02  386    29   994    0  1.000000  0.971652\n",
       "3          0.03  386    43   980    0  1.000000  0.957967\n",
       "4          0.04  386    57   966    0  1.000000  0.944282\n",
       "..          ...  ...   ...   ...  ...       ...       ...\n",
       "96         0.96   57  1023     0  329  0.147668  0.000000\n",
       "97         0.97   43  1023     0  343  0.111399  0.000000\n",
       "98         0.98   29  1023     0  357  0.075130  0.000000\n",
       "99         0.99   15  1023     0  371  0.038860  0.000000\n",
       "100        1.00    1  1023     0  385  0.002591  0.000000\n",
       "\n",
       "[101 rows x 7 columns]"
      ]
     },
     "execution_count": 76,
     "metadata": {},
     "output_type": "execute_result"
    }
   ],
   "source": [
    "#check the tpr, fpr of ideal model\n",
    "df_ideal = tpr_fpr_dataframe(y_ideal, y_ideal_pred)\n",
    "df_ideal"
   ]
  },
  {
   "cell_type": "code",
   "execution_count": 77,
   "id": "4ee4d2d8",
   "metadata": {},
   "outputs": [
    {
     "data": {
      "text/plain": [
       "<matplotlib.legend.Legend at 0x1a8a3aedb50>"
      ]
     },
     "execution_count": 77,
     "metadata": {},
     "output_type": "execute_result"
    },
    {
     "data": {
      "image/png": "[encoded data removed]",
      "text/plain": [
       "<Figure size 640x480 with 1 Axes>"
      ]
     },
     "metadata": {},
     "output_type": "display_data"
    }
   ],
   "source": [
    "#plot the fpr and tpr of df_ideal\n",
    "plt.plot(thresholds, df_ideal['fpr'], label='FPR')\n",
    "plt.plot(thresholds, df_ideal['tpr'], label='TPR')\n",
    "plt.legend()"
   ]
  },
  {
   "cell_type": "code",
   "execution_count": null,
   "id": "85910706",
   "metadata": {},
   "outputs": [],
   "source": []
  },
  {
   "cell_type": "markdown",
   "id": "15048f04",
   "metadata": {},
   "source": [
    "### Put everything together"
   ]
  },
  {
   "cell_type": "code",
   "execution_count": 78,
   "id": "937ca493",
   "metadata": {},
   "outputs": [
    {
     "data": {
      "text/plain": [
       "<matplotlib.legend.Legend at 0x1a8a3ccec10>"
      ]
     },
     "execution_count": 78,
     "metadata": {},
     "output_type": "execute_result"
    },
    {
     "data": {
      "image/png": "[encoded data removed]",
      "text/plain": [
       "<Figure size 640x480 with 1 Axes>"
      ]
     },
     "metadata": {},
     "output_type": "display_data"
    }
   ],
   "source": [
    "#plot the fpr and tpr of all three models\n",
    "plt.plot(thresholds, df_scores['tpr'], label='TPR')\n",
    "plt.plot(thresholds, df_scores['fpr'], label='FPR')\n",
    "\n",
    "plt.plot(thresholds, df_rand['tpr'], label='TPR')\n",
    "plt.plot(thresholds, df_rand['fpr'], label='FPR')\n",
    "\n",
    "plt.plot(thresholds, df_ideal['tpr'], label='TPR', color='black')\n",
    "plt.plot(thresholds, df_ideal['fpr'], label='FPR', color='black')\n",
    "plt.legend()"
   ]
  },
  {
   "cell_type": "code",
   "execution_count": null,
   "id": "53cb7935",
   "metadata": {},
   "outputs": [],
   "source": []
  },
  {
   "cell_type": "code",
   "execution_count": 79,
   "id": "2b248dc2",
   "metadata": {},
   "outputs": [
    {
     "data": {
      "text/plain": [
       "<matplotlib.legend.Legend at 0x1a8a3ae6190>"
      ]
     },
     "execution_count": 79,
     "metadata": {},
     "output_type": "execute_result"
    },
    {
     "data": {
      "image/png": "[encoded data removed]",
      "text/plain": [
       "<Figure size 500x500 with 1 Axes>"
      ]
     },
     "metadata": {},
     "output_type": "display_data"
    }
   ],
   "source": [
    "#plot only the fpr and tpr of the three models\n",
    "plt.figure(figsize=(5,5))\n",
    "plt.plot(df_scores['fpr'],df_scores['tpr'], label='model')\n",
    "plt.plot(df_rand['fpr'],df_rand['tpr'], label='rand')\n",
    "plt.plot(df_ideal['fpr'],df_ideal['tpr'], label='ideal')\n",
    "\n",
    "plt.xlabel('FPR')\n",
    "plt.ylabel('TPR')\n",
    "plt.legend()"
   ]
  },
  {
   "cell_type": "markdown",
   "id": "773d3d95",
   "metadata": {},
   "source": [
    "##### We want the ROC curve of our model to be closer to the ideal model ROC curve(north star) and far away from the random curve\n",
    "##### the ROC curve of our model should never be below the random model ROC curve"
   ]
  },
  {
   "cell_type": "code",
   "execution_count": null,
   "id": "1e5c6479",
   "metadata": {},
   "outputs": [],
   "source": []
  },
  {
   "cell_type": "markdown",
   "id": "d0a7ef3c",
   "metadata": {},
   "source": [
    "### ROC using scikit-learn"
   ]
  },
  {
   "cell_type": "code",
   "execution_count": 80,
   "id": "e3e40c7d",
   "metadata": {},
   "outputs": [],
   "source": [
    "from sklearn.metrics import roc_curve"
   ]
  },
  {
   "cell_type": "code",
   "execution_count": 81,
   "id": "5f017478",
   "metadata": {},
   "outputs": [],
   "source": [
    "fpr, tpr, thresholds = roc_curve(y_val, y_pred)"
   ]
  },
  {
   "cell_type": "code",
   "execution_count": 82,
   "id": "6ab7727b",
   "metadata": {},
   "outputs": [
    {
     "data": {
      "text/plain": [
       "<matplotlib.legend.Legend at 0x1a8a3b93110>"
      ]
     },
     "execution_count": 82,
     "metadata": {},
     "output_type": "execute_result"
    },
    {
     "data": {
      "image/png": "[encoded data removed]",
      "text/plain": [
       "<Figure size 500x500 with 1 Axes>"
      ]
     },
     "metadata": {},
     "output_type": "display_data"
    }
   ],
   "source": [
    "#we just use [0,1], [0,1] as random model fpr and tpr values\n",
    "plt.figure(figsize=(5,5))\n",
    "\n",
    "plt.plot(fpr,tpr, label='model')\n",
    "plt.plot([0,1],[0, 1], label='rand')\n",
    "\n",
    "plt.xlabel('FPR')\n",
    "plt.ylabel('TPR')\n",
    "plt.legend()"
   ]
  },
  {
   "cell_type": "code",
   "execution_count": null,
   "id": "cc22f9dd",
   "metadata": {},
   "outputs": [],
   "source": []
  },
  {
   "cell_type": "markdown",
   "id": "6a813a73",
   "metadata": {},
   "source": [
    "### ROC AUC (Area Under the Curve)"
   ]
  },
  {
   "cell_type": "code",
   "execution_count": 83,
   "id": "44e32cdb",
   "metadata": {},
   "outputs": [],
   "source": [
    "from sklearn.metrics import auc"
   ]
  },
  {
   "cell_type": "code",
   "execution_count": 84,
   "id": "6e52555e",
   "metadata": {},
   "outputs": [
    {
     "data": {
      "text/plain": [
       "0.845415546067393"
      ]
     },
     "execution_count": 84,
     "metadata": {},
     "output_type": "execute_result"
    }
   ],
   "source": [
    "auc(fpr, tpr)"
   ]
  },
  {
   "cell_type": "code",
   "execution_count": 85,
   "id": "e09e59e2",
   "metadata": {},
   "outputs": [
    {
     "data": {
      "text/plain": [
       "0.8456206727141041"
      ]
     },
     "execution_count": 85,
     "metadata": {},
     "output_type": "execute_result"
    }
   ],
   "source": [
    "auc(df_scores.fpr, df_scores.tpr)"
   ]
  },
  {
   "cell_type": "code",
   "execution_count": 86,
   "id": "94241867",
   "metadata": {},
   "outputs": [
    {
     "data": {
      "text/plain": [
       "0.9999430203759136"
      ]
     },
     "execution_count": 86,
     "metadata": {},
     "output_type": "execute_result"
    }
   ],
   "source": [
    "auc(df_ideal.fpr, df_ideal.tpr)"
   ]
  },
  {
   "cell_type": "code",
   "execution_count": 87,
   "id": "511a1596",
   "metadata": {},
   "outputs": [
    {
     "data": {
      "text/plain": [
       "0.5121303288610661"
      ]
     },
     "execution_count": 87,
     "metadata": {},
     "output_type": "execute_result"
    }
   ],
   "source": [
    "auc(df_rand.fpr, df_rand.tpr)"
   ]
  },
  {
   "cell_type": "code",
   "execution_count": 88,
   "id": "76343cdc",
   "metadata": {},
   "outputs": [],
   "source": [
    "from sklearn.metrics import roc_auc_score"
   ]
  },
  {
   "cell_type": "code",
   "execution_count": 89,
   "id": "cf69e504",
   "metadata": {},
   "outputs": [
    {
     "data": {
      "text/plain": [
       "0.845415546067393"
      ]
     },
     "execution_count": 89,
     "metadata": {},
     "output_type": "execute_result"
    }
   ],
   "source": [
    "roc_auc_score(y_val, y_pred)"
   ]
  },
  {
   "cell_type": "markdown",
   "id": "447b04f0",
   "metadata": {},
   "source": [
    "##### the above auc indicates the probability of randomly selected customer would churn or not"
   ]
  },
  {
   "cell_type": "code",
   "execution_count": 90,
   "id": "dc290474",
   "metadata": {},
   "outputs": [],
   "source": [
    "neg = y_pred[y_val== 0]\n",
    "pos = y_pred[y_val== 1]"
   ]
  },
  {
   "cell_type": "code",
   "execution_count": 91,
   "id": "aba9a16e",
   "metadata": {},
   "outputs": [],
   "source": [
    "#check if a randomly chosen customer will churn or not\n",
    "n = 10000\n",
    "seed = 1\n",
    "pos_ind = np.random.randint(0, len(pos), size = n)\n",
    "neg_ind = np.random.randint(0, len(neg), size = n)"
   ]
  },
  {
   "cell_type": "code",
   "execution_count": 92,
   "id": "16c8b3ae",
   "metadata": {},
   "outputs": [
    {
     "data": {
      "text/plain": [
       "0.8445"
      ]
     },
     "execution_count": 92,
     "metadata": {},
     "output_type": "execute_result"
    }
   ],
   "source": [
    "(pos[pos_ind] > neg[neg_ind]).mean()"
   ]
  },
  {
   "cell_type": "markdown",
   "id": "aa3a39bb",
   "metadata": {},
   "source": [
    "###### AUC is a good metric to evaluate our model"
   ]
  },
  {
   "cell_type": "code",
   "execution_count": null,
   "id": "0ae8d654",
   "metadata": {},
   "outputs": [],
   "source": []
  },
  {
   "cell_type": "markdown",
   "id": "a7fb7885",
   "metadata": {},
   "source": [
    "### Cross-Validation\n",
    "##### Evaluate our model with different subsets of data\n",
    "##### Getting the average prediction and the spread within the prediction"
   ]
  },
  {
   "cell_type": "code",
   "execution_count": 126,
   "id": "b155e481",
   "metadata": {},
   "outputs": [],
   "source": [
    "#function for training\n",
    "#add regularization variable C\n",
    "def train(df_train, y_train, C=1.0):\n",
    "    dicts = df_train[categorical + numerical].to_dict(orient='records')\n",
    "    dv = DictVectorizer()\n",
    "    X_train = dv.fit_transform(dicts)\n",
    "    \n",
    "    model = LogisticRegression(C=C,max_iter=len(y_train))\n",
    "    model.fit(X_train, y_train)\n",
    "    return dv, model"
   ]
  },
  {
   "cell_type": "code",
   "execution_count": 111,
   "id": "c42400ca",
   "metadata": {},
   "outputs": [],
   "source": [
    "dv, model = train(df_train, y_train)"
   ]
  },
  {
   "cell_type": "code",
   "execution_count": 112,
   "id": "453587a6",
   "metadata": {},
   "outputs": [],
   "source": [
    "#function for the prediction \n",
    "def predict(df, dv, model):\n",
    "    dicts = df[categorical + numerical].to_dict(orient='records')\n",
    "    \n",
    "    X = dv.transform(dicts)\n",
    "    pred = model.predict_proba(X)[:, 1]\n",
    "    \n",
    "    return pred"
   ]
  },
  {
   "cell_type": "code",
   "execution_count": 113,
   "id": "01291c5b",
   "metadata": {},
   "outputs": [
    {
     "data": {
      "text/plain": [
       "array([0.00805644, 0.20750001, 0.22164024, ..., 0.15171674, 0.77658723,\n",
       "       0.80980427])"
      ]
     },
     "execution_count": 113,
     "metadata": {},
     "output_type": "execute_result"
    }
   ],
   "source": [
    "y_pred = predict(df_val, dv, model)\n",
    "y_pred"
   ]
  },
  {
   "cell_type": "code",
   "execution_count": 117,
   "id": "c71a0f27",
   "metadata": {},
   "outputs": [],
   "source": [
    "#performing the KFOLD cross validation\n",
    "#import the package from scikit-learn\n",
    "from sklearn.model_selection import KFold"
   ]
  },
  {
   "cell_type": "code",
   "execution_count": 118,
   "id": "90cdf37f",
   "metadata": {},
   "outputs": [],
   "source": [
    "kfold = KFold(n_splits=10, shuffle=True , random_state=1)"
   ]
  },
  {
   "cell_type": "code",
   "execution_count": 123,
   "id": "c2398d6e",
   "metadata": {},
   "outputs": [
    {
     "name": "stdout",
     "output_type": "stream",
     "text": [
      "0 0.841 +.. 0.01\n",
      "0.001 0.841 +.. 0.01\n",
      "0.01 0.841 +.. 0.01\n",
      "0.1 0.841 +.. 0.01\n",
      "0.5 0.841 +.. 0.01\n",
      "1 0.841 +.. 0.01\n",
      "5 0.841 +.. 0.01\n",
      "10 0.841 +.. 0.01\n"
     ]
    }
   ],
   "source": [
    "#split the training dataset, loop through it and assign it to indexes\n",
    "#shuffles the dataset 10 times\n",
    "#perform the above steps\n",
    "for C in [0,0.001, 0.01, 0.1, 0.5, 1, 5, 10]:\n",
    "    \n",
    "    scores = []\n",
    "    for train_idx, val_idx in kfold.split(df_full_train):\n",
    "        df_train = df_full_train.iloc[train_idx]\n",
    "        df_val = df_full_train.iloc[val_idx]\n",
    "\n",
    "        y_train = df_train.churn.values\n",
    "        y_val = df_val.churn.values\n",
    "\n",
    "        dv,model = train(df_train, y_train)\n",
    "        y_pred = predict(df_val, dv, model)\n",
    "\n",
    "        auc = roc_auc_score(y_val, y_pred)\n",
    "        scores.append(auc)\n",
    "        \n",
    "    print('%s %.3f +.. %.2f'%(C, np.mean(scores), np.std(scores)))"
   ]
  },
  {
   "cell_type": "code",
   "execution_count": 127,
   "id": "a334f77a",
   "metadata": {},
   "outputs": [
    {
     "data": {
      "text/plain": [
       "0.8572386167896259"
      ]
     },
     "execution_count": 127,
     "metadata": {},
     "output_type": "execute_result"
    }
   ],
   "source": [
    "#performing the cross validation on full training dataset and test dataset, use C=1.0 \n",
    "dv,model = train(df_full_train, df_full_train.churn.values,1.0)\n",
    "y_pred = predict(df_test, dv, model)\n",
    "\n",
    "auc = roc_auc_score(y_test, y_pred)\n",
    "auc"
   ]
  },
  {
   "cell_type": "code",
   "execution_count": null,
   "id": "4e761a0c",
   "metadata": {},
   "outputs": [],
   "source": []
  },
  {
   "cell_type": "code",
   "execution_count": null,
   "id": "f64f1d8e",
   "metadata": {},
   "outputs": [],
   "source": []
  }
 ],
 "metadata": {
  "kernelspec": {
   "display_name": "Python 3 (ipykernel)",
   "language": "python",
   "name": "python3"
  },
  "language_info": {
   "codemirror_mode": {
    "name": "ipython",
    "version": 3
   },
   "file_extension": ".py",
   "mimetype": "text/x-python",
   "name": "python",
   "nbconvert_exporter": "python",
   "pygments_lexer": "ipython3",
   "version": "3.11.4"
  }
 },
 "nbformat": 4,
 "nbformat_minor": 5
}
